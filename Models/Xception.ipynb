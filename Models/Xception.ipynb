{
  "cells": [
    {
      "cell_type": "code",
      "execution_count": null,
      "metadata": {
        "colab": {
          "base_uri": "https://localhost:8080/"
        },
        "id": "6NxPjeHb3KBK",
        "outputId": "8c32a490-296a-4dd0-f229-56bc28fa238d"
      },
      "outputs": [
        {
          "output_type": "stream",
          "name": "stdout",
          "text": [
            "Looking in indexes: https://pypi.org/simple, https://us-python.pkg.dev/colab-wheels/public/simple/\n",
            "Collecting tensorflow==2.8.3\n",
            "  Downloading tensorflow-2.8.3-cp37-cp37m-manylinux2010_x86_64.whl (497.9 MB)\n",
            "\u001b[K     |████████████████████████████████| 497.9 MB 34 kB/s \n",
            "\u001b[?25hRequirement already satisfied: absl-py>=0.4.0 in /usr/local/lib/python3.7/dist-packages (from tensorflow==2.8.3) (1.3.0)\n",
            "Requirement already satisfied: protobuf<3.20,>=3.9.2 in /usr/local/lib/python3.7/dist-packages (from tensorflow==2.8.3) (3.19.6)\n",
            "Requirement already satisfied: tensorflow-io-gcs-filesystem>=0.23.1 in /usr/local/lib/python3.7/dist-packages (from tensorflow==2.8.3) (0.27.0)\n",
            "Requirement already satisfied: wrapt>=1.11.0 in /usr/local/lib/python3.7/dist-packages (from tensorflow==2.8.3) (1.14.1)\n",
            "Requirement already satisfied: opt-einsum>=2.3.2 in /usr/local/lib/python3.7/dist-packages (from tensorflow==2.8.3) (3.3.0)\n",
            "Requirement already satisfied: flatbuffers>=1.12 in /usr/local/lib/python3.7/dist-packages (from tensorflow==2.8.3) (1.12)\n",
            "Requirement already satisfied: six>=1.12.0 in /usr/local/lib/python3.7/dist-packages (from tensorflow==2.8.3) (1.15.0)\n",
            "Requirement already satisfied: numpy>=1.20 in /usr/local/lib/python3.7/dist-packages (from tensorflow==2.8.3) (1.21.6)\n",
            "Requirement already satisfied: grpcio<2.0,>=1.24.3 in /usr/local/lib/python3.7/dist-packages (from tensorflow==2.8.3) (1.50.0)\n",
            "Requirement already satisfied: typing-extensions>=3.6.6 in /usr/local/lib/python3.7/dist-packages (from tensorflow==2.8.3) (4.1.1)\n",
            "Requirement already satisfied: google-pasta>=0.1.1 in /usr/local/lib/python3.7/dist-packages (from tensorflow==2.8.3) (0.2.0)\n",
            "Requirement already satisfied: astunparse>=1.6.0 in /usr/local/lib/python3.7/dist-packages (from tensorflow==2.8.3) (1.6.3)\n",
            "Collecting keras<2.9,>=2.8.0rc0\n",
            "  Downloading keras-2.8.0-py2.py3-none-any.whl (1.4 MB)\n",
            "\u001b[K     |████████████████████████████████| 1.4 MB 46.6 MB/s \n",
            "\u001b[?25hCollecting tensorflow-estimator<2.9,>=2.8\n",
            "  Downloading tensorflow_estimator-2.8.0-py2.py3-none-any.whl (462 kB)\n",
            "\u001b[K     |████████████████████████████████| 462 kB 52.0 MB/s \n",
            "\u001b[?25hRequirement already satisfied: gast>=0.2.1 in /usr/local/lib/python3.7/dist-packages (from tensorflow==2.8.3) (0.4.0)\n",
            "Requirement already satisfied: libclang>=9.0.1 in /usr/local/lib/python3.7/dist-packages (from tensorflow==2.8.3) (14.0.6)\n",
            "Collecting tensorboard<2.9,>=2.8\n",
            "  Downloading tensorboard-2.8.0-py3-none-any.whl (5.8 MB)\n",
            "\u001b[K     |████████████████████████████████| 5.8 MB 35.8 MB/s \n",
            "\u001b[?25hRequirement already satisfied: keras-preprocessing>=1.1.1 in /usr/local/lib/python3.7/dist-packages (from tensorflow==2.8.3) (1.1.2)\n",
            "Requirement already satisfied: setuptools in /usr/local/lib/python3.7/dist-packages (from tensorflow==2.8.3) (57.4.0)\n",
            "Requirement already satisfied: termcolor>=1.1.0 in /usr/local/lib/python3.7/dist-packages (from tensorflow==2.8.3) (2.1.0)\n",
            "Requirement already satisfied: h5py>=2.9.0 in /usr/local/lib/python3.7/dist-packages (from tensorflow==2.8.3) (3.1.0)\n",
            "Requirement already satisfied: wheel<1.0,>=0.23.0 in /usr/local/lib/python3.7/dist-packages (from astunparse>=1.6.0->tensorflow==2.8.3) (0.38.4)\n",
            "Requirement already satisfied: cached-property in /usr/local/lib/python3.7/dist-packages (from h5py>=2.9.0->tensorflow==2.8.3) (1.5.2)\n",
            "Requirement already satisfied: requests<3,>=2.21.0 in /usr/local/lib/python3.7/dist-packages (from tensorboard<2.9,>=2.8->tensorflow==2.8.3) (2.23.0)\n",
            "Requirement already satisfied: werkzeug>=0.11.15 in /usr/local/lib/python3.7/dist-packages (from tensorboard<2.9,>=2.8->tensorflow==2.8.3) (1.0.1)\n",
            "Requirement already satisfied: tensorboard-plugin-wit>=1.6.0 in /usr/local/lib/python3.7/dist-packages (from tensorboard<2.9,>=2.8->tensorflow==2.8.3) (1.8.1)\n",
            "Requirement already satisfied: markdown>=2.6.8 in /usr/local/lib/python3.7/dist-packages (from tensorboard<2.9,>=2.8->tensorflow==2.8.3) (3.4.1)\n",
            "Requirement already satisfied: tensorboard-data-server<0.7.0,>=0.6.0 in /usr/local/lib/python3.7/dist-packages (from tensorboard<2.9,>=2.8->tensorflow==2.8.3) (0.6.1)\n",
            "Requirement already satisfied: google-auth-oauthlib<0.5,>=0.4.1 in /usr/local/lib/python3.7/dist-packages (from tensorboard<2.9,>=2.8->tensorflow==2.8.3) (0.4.6)\n",
            "Requirement already satisfied: google-auth<3,>=1.6.3 in /usr/local/lib/python3.7/dist-packages (from tensorboard<2.9,>=2.8->tensorflow==2.8.3) (2.14.1)\n",
            "Requirement already satisfied: pyasn1-modules>=0.2.1 in /usr/local/lib/python3.7/dist-packages (from google-auth<3,>=1.6.3->tensorboard<2.9,>=2.8->tensorflow==2.8.3) (0.2.8)\n",
            "Requirement already satisfied: rsa<5,>=3.1.4 in /usr/local/lib/python3.7/dist-packages (from google-auth<3,>=1.6.3->tensorboard<2.9,>=2.8->tensorflow==2.8.3) (4.9)\n",
            "Requirement already satisfied: cachetools<6.0,>=2.0.0 in /usr/local/lib/python3.7/dist-packages (from google-auth<3,>=1.6.3->tensorboard<2.9,>=2.8->tensorflow==2.8.3) (5.2.0)\n",
            "Requirement already satisfied: requests-oauthlib>=0.7.0 in /usr/local/lib/python3.7/dist-packages (from google-auth-oauthlib<0.5,>=0.4.1->tensorboard<2.9,>=2.8->tensorflow==2.8.3) (1.3.1)\n",
            "Requirement already satisfied: importlib-metadata>=4.4 in /usr/local/lib/python3.7/dist-packages (from markdown>=2.6.8->tensorboard<2.9,>=2.8->tensorflow==2.8.3) (4.13.0)\n",
            "Requirement already satisfied: zipp>=0.5 in /usr/local/lib/python3.7/dist-packages (from importlib-metadata>=4.4->markdown>=2.6.8->tensorboard<2.9,>=2.8->tensorflow==2.8.3) (3.10.0)\n",
            "Requirement already satisfied: pyasn1<0.5.0,>=0.4.6 in /usr/local/lib/python3.7/dist-packages (from pyasn1-modules>=0.2.1->google-auth<3,>=1.6.3->tensorboard<2.9,>=2.8->tensorflow==2.8.3) (0.4.8)\n",
            "Requirement already satisfied: urllib3!=1.25.0,!=1.25.1,<1.26,>=1.21.1 in /usr/local/lib/python3.7/dist-packages (from requests<3,>=2.21.0->tensorboard<2.9,>=2.8->tensorflow==2.8.3) (1.24.3)\n",
            "Requirement already satisfied: certifi>=2017.4.17 in /usr/local/lib/python3.7/dist-packages (from requests<3,>=2.21.0->tensorboard<2.9,>=2.8->tensorflow==2.8.3) (2022.9.24)\n",
            "Requirement already satisfied: chardet<4,>=3.0.2 in /usr/local/lib/python3.7/dist-packages (from requests<3,>=2.21.0->tensorboard<2.9,>=2.8->tensorflow==2.8.3) (3.0.4)\n",
            "Requirement already satisfied: idna<3,>=2.5 in /usr/local/lib/python3.7/dist-packages (from requests<3,>=2.21.0->tensorboard<2.9,>=2.8->tensorflow==2.8.3) (2.10)\n",
            "Requirement already satisfied: oauthlib>=3.0.0 in /usr/local/lib/python3.7/dist-packages (from requests-oauthlib>=0.7.0->google-auth-oauthlib<0.5,>=0.4.1->tensorboard<2.9,>=2.8->tensorflow==2.8.3) (3.2.2)\n",
            "Installing collected packages: tensorflow-estimator, tensorboard, keras, tensorflow\n",
            "  Attempting uninstall: tensorflow-estimator\n",
            "    Found existing installation: tensorflow-estimator 2.9.0\n",
            "    Uninstalling tensorflow-estimator-2.9.0:\n",
            "      Successfully uninstalled tensorflow-estimator-2.9.0\n",
            "  Attempting uninstall: tensorboard\n",
            "    Found existing installation: tensorboard 2.9.1\n",
            "    Uninstalling tensorboard-2.9.1:\n",
            "      Successfully uninstalled tensorboard-2.9.1\n",
            "  Attempting uninstall: keras\n",
            "    Found existing installation: keras 2.9.0\n",
            "    Uninstalling keras-2.9.0:\n",
            "      Successfully uninstalled keras-2.9.0\n",
            "  Attempting uninstall: tensorflow\n",
            "    Found existing installation: tensorflow 2.9.2\n",
            "    Uninstalling tensorflow-2.9.2:\n",
            "      Successfully uninstalled tensorflow-2.9.2\n",
            "Successfully installed keras-2.8.0 tensorboard-2.8.0 tensorflow-2.8.3 tensorflow-estimator-2.8.0\n",
            "2.8.3\n"
          ]
        }
      ],
      "source": [
        "!pip install tensorflow==2.8.3\n",
        "import tensorflow as tf\n",
        "import numpy as np\n",
        "import os\n",
        "import random\n",
        "import tensorboard\n",
        "import datetime\n",
        "\n",
        "tfk = tf.keras\n",
        "tfkl = tf.keras.layers\n",
        "print(tf.__version__)"
      ]
    },
    {
      "cell_type": "code",
      "execution_count": null,
      "metadata": {
        "colab": {
          "base_uri": "https://localhost:8080/"
        },
        "id": "WIR7gJGz5Nqy",
        "outputId": "41ca9206-fa84-4882-a626-3871f22e6621"
      },
      "outputs": [
        {
          "output_type": "stream",
          "name": "stdout",
          "text": [
            "Mounted at /content/drive\n"
          ]
        }
      ],
      "source": [
        "from google.colab import drive\n",
        "drive.mount('/content/drive')"
      ]
    },
    {
      "cell_type": "code",
      "execution_count": null,
      "metadata": {
        "id": "M670wyKl3Lhw"
      },
      "outputs": [],
      "source": [
        "# Random seed for reproducibility\n",
        "seed = 54721\n",
        "\n",
        "random.seed(seed)\n",
        "os.environ['PYTHONHASHSEED'] = str(seed)\n",
        "np.random.seed(seed)\n",
        "tf.random.set_seed(seed)\n",
        "tf.compat.v1.set_random_seed(seed)"
      ]
    },
    {
      "cell_type": "code",
      "execution_count": null,
      "metadata": {
        "colab": {
          "base_uri": "https://localhost:8080/"
        },
        "id": "YzAbBviu3YJW",
        "outputId": "0e5f9171-d034-4dc3-ae85-758e73546e19"
      },
      "outputs": [
        {
          "output_type": "stream",
          "name": "stdout",
          "text": [
            "/content/drive/MyDrive/ANN&DL\n"
          ]
        }
      ],
      "source": [
        "%cd /content/drive/MyDrive/ANN&DL\n",
        "dataset_dir = 'training_data_final'\n",
        "#image_size = 96\n",
        "image_size = 256 # add cropping = 16\n",
        "batch_size = 64"
      ]
    },
    {
      "cell_type": "code",
      "execution_count": null,
      "metadata": {
        "id": "tjF8JhS_3n7p"
      },
      "outputs": [],
      "source": [
        "class_names = ['Species1', 'Species2', 'Species3', 'Species4', 'Species5', 'Species6', 'Species7', 'Species8']\n",
        "class_samples = [0] * len(class_names)"
      ]
    },
    {
      "cell_type": "code",
      "execution_count": null,
      "metadata": {
        "id": "05MKlhMs3tW4"
      },
      "outputs": [],
      "source": [
        "for i, class_name in enumerate(class_names):\n",
        "    class_dir = '{}/{}/'.format(dataset_dir, class_name)\n",
        "    class_samples[i] = len(os.listdir(class_dir))"
      ]
    },
    {
      "cell_type": "code",
      "execution_count": null,
      "metadata": {
        "id": "jmua8QXM3u_f"
      },
      "outputs": [],
      "source": [
        "total_samples = sum(class_samples)\n",
        "class_weight = list(total_samples / (len(class_names) * np.array(class_samples)))\n",
        "class_weight = {i: class_weight[i] for i in range(len(class_weight))}"
      ]
    },
    {
      "cell_type": "code",
      "execution_count": null,
      "metadata": {
        "colab": {
          "base_uri": "https://localhost:8080/"
        },
        "id": "G4Mrm-7531KI",
        "outputId": "1c86fe2e-b18d-42a3-ef1f-f4a74ac38f04"
      },
      "outputs": [
        {
          "output_type": "stream",
          "name": "stdout",
          "text": [
            "Class weights: {0: 2.3803763440860215, 1: 0.8322368421052632, 2: 0.8597087378640776, 3: 0.8664383561643836, 4: 0.833804143126177, 5: 1.9943693693693694, 6: 0.824487895716946, 7: 0.8715551181102362}\n"
          ]
        }
      ],
      "source": [
        "print('Class weights: {}'.format(class_weight))"
      ]
    },
    {
      "cell_type": "code",
      "execution_count": null,
      "metadata": {
        "colab": {
          "base_uri": "https://localhost:8080/"
        },
        "id": "FH9S_dEY31pN",
        "outputId": "40e0110a-ed60-4dc3-f4d9-c34e8916a2c0"
      },
      "outputs": [
        {
          "output_type": "stream",
          "name": "stdout",
          "text": [
            "Found 3542 files belonging to 8 classes.\n",
            "Using 2834 files for training.\n"
          ]
        }
      ],
      "source": [
        "train_ds = tf.keras.utils.image_dataset_from_directory(\n",
        "    dataset_dir,\n",
        "    validation_split=0.2,\n",
        "    subset=\"training\",\n",
        "    shuffle=True,\n",
        "    seed=seed,\n",
        "    image_size=(image_size, image_size),\n",
        "    batch_size=batch_size)"
      ]
    },
    {
      "cell_type": "code",
      "execution_count": null,
      "metadata": {
        "colab": {
          "base_uri": "https://localhost:8080/"
        },
        "id": "y8s2sxjl36rv",
        "outputId": "7afa31b0-a520-4842-e7ac-3d5d644d8d56"
      },
      "outputs": [
        {
          "output_type": "stream",
          "name": "stdout",
          "text": [
            "Found 3542 files belonging to 8 classes.\n",
            "Using 708 files for validation.\n"
          ]
        }
      ],
      "source": [
        "val_ds = tf.keras.utils.image_dataset_from_directory(\n",
        "    dataset_dir,\n",
        "    validation_split=0.2,\n",
        "    subset=\"validation\",\n",
        "    shuffle=True,\n",
        "    seed=seed,\n",
        "    image_size=(image_size, image_size),\n",
        "    batch_size=batch_size)"
      ]
    },
    {
      "cell_type": "code",
      "execution_count": null,
      "metadata": {
        "id": "FxPnyxYV3_XK"
      },
      "outputs": [],
      "source": [
        "val_batches = tf.data.experimental.cardinality(val_ds)\n",
        "test_ds = val_ds.take(val_batches // 5)\n",
        "validation_dataset = val_ds.skip(val_batches // 5)"
      ]
    },
    {
      "cell_type": "code",
      "execution_count": null,
      "metadata": {
        "id": "xW0pHMXQ4GiZ"
      },
      "outputs": [],
      "source": [
        "class_names = train_ds.class_names\n",
        "num_classes = len(class_names)"
      ]
    },
    {
      "cell_type": "code",
      "execution_count": null,
      "metadata": {
        "id": "-HPT0GSz4PKX"
      },
      "outputs": [],
      "source": [
        "# Add caching to dataset\n",
        "AUTOTUNE = tf.data.AUTOTUNE\n",
        "train_ds = train_ds.prefetch(buffer_size=AUTOTUNE)\n",
        "val_ds = validation_dataset.prefetch(buffer_size=AUTOTUNE)\n",
        "test_ds = test_ds.prefetch(buffer_size=AUTOTUNE)"
      ]
    },
    {
      "cell_type": "code",
      "execution_count": null,
      "metadata": {
        "id": "ONLJajm74R8w"
      },
      "outputs": [],
      "source": [
        "# Use one-hot encoding for labels\n",
        "train_ds = train_ds.map(lambda x, y: (x, tf.one_hot(y, depth=num_classes)))\n",
        "val_ds = val_ds.map(lambda x, y: (x, tf.one_hot(y, depth=num_classes)))\n",
        "test_ds = test_ds.map(lambda x, y: (x, tf.one_hot(y, depth=num_classes)))"
      ]
    },
    {
      "cell_type": "code",
      "execution_count": null,
      "metadata": {
        "id": "QIj2Z8fw4UFm"
      },
      "outputs": [],
      "source": [
        "crop_dim = 16\n",
        "input_shape = (image_size, image_size, 3)\n",
        "input_shape_cropping = (image_size-crop_dim*2, image_size-crop_dim*2, 3)"
      ]
    },
    {
      "cell_type": "code",
      "execution_count": null,
      "metadata": {
        "id": "s9iSE-uS4Wcd",
        "colab": {
          "base_uri": "https://localhost:8080/"
        },
        "outputId": "5ec80cdb-69b7-4ef4-98cd-6e1833b1346c"
      },
      "outputs": [
        {
          "output_type": "stream",
          "name": "stdout",
          "text": [
            "Downloading data from https://storage.googleapis.com/tensorflow/keras-applications/xception/xception_weights_tf_dim_ordering_tf_kernels_notop.h5\n",
            "83689472/83683744 [==============================] - 1s 0us/step\n",
            "83697664/83683744 [==============================] - 1s 0us/step\n"
          ]
        }
      ],
      "source": [
        "base_model = tf.keras.applications.Xception(\n",
        "    include_top=False,\n",
        "    weights=\"imagenet\",\n",
        "    input_shape=input_shape_cropping\n",
        ")\n",
        "base_model.trainable = True"
      ]
    },
    {
      "cell_type": "code",
      "source": [
        "base_model.trainable = False"
      ],
      "metadata": {
        "id": "nIeuXqb77DgB"
      },
      "execution_count": null,
      "outputs": []
    },
    {
      "cell_type": "code",
      "execution_count": null,
      "metadata": {
        "id": "xoU0x0up4bR4"
      },
      "outputs": [],
      "source": [
        "model = tfk.Sequential([\n",
        "    tfk.layers.Input(shape=input_shape),\n",
        "    # Augmentation\n",
        "    tfk.layers.RandomFlip(\"horizontal_and_vertical\", input_shape=input_shape),\n",
        "    # tfk.layers.RandomRotation(0.5),\n",
        "    tfk.layers.RandomZoom(0.5),\n",
        "    tfk.layers.RandomTranslation(width_factor=0.5, height_factor=0.5),\n",
        "    tfk.layers.Cropping2D(cropping=((crop_dim, crop_dim), (crop_dim, crop_dim)), input_shape=input_shape),\n",
        "\n",
        "    # tf.keras.layers.Resizing(height=image_size, width=image_size, interpolation='bilinear', crop_to_aspect_ratio=False),\n",
        "    \n",
        "    # Preprocess for base model\n",
        "    tfk.layers.Lambda(tf.keras.applications.xception.preprocess_input),\n",
        "    # Transfer learning\n",
        "    base_model,\n",
        "    # Global avg\n",
        "    # tfk.layers.Flatten(),\n",
        "\n",
        "    tfk.layers.GlobalAveragePooling2D(),\n",
        "\n",
        "    # Classification\n",
        "    # tfk.layers.Dense(512, activation='relu', kernel_initializer='he_uniform'),\n",
        "    tfk.layers.Dense(192, activation='relu', kernel_initializer='he_uniform'),\n",
        "    tfk.layers.Dense(48, activation='relu', kernel_initializer='he_uniform'),\n",
        "    # Dropout\n",
        "    tfk.layers.Dropout(0.3),\n",
        "    # Output\n",
        "    tfk.layers.Dense(num_classes, activation='softmax')\n",
        "])"
      ]
    },
    {
      "cell_type": "code",
      "execution_count": null,
      "metadata": {
        "id": "F3tWPleN4kC6"
      },
      "outputs": [],
      "source": [
        "model.compile(optimizer=tfk.optimizers.Adagrad(learning_rate=0.01, initial_accumulator_value=0.1),\n",
        "              loss=tf.keras.losses.CategoricalCrossentropy(),\n",
        "              metrics=['accuracy'])"
      ]
    },
    {
      "cell_type": "code",
      "execution_count": null,
      "metadata": {
        "colab": {
          "base_uri": "https://localhost:8080/"
        },
        "id": "xCAanBCB4nKE",
        "outputId": "20b29450-84ba-420d-ae79-91f93e22f390"
      },
      "outputs": [
        {
          "output_type": "stream",
          "name": "stdout",
          "text": [
            "Model: \"sequential\"\n",
            "_________________________________________________________________\n",
            " Layer (type)                Output Shape              Param #   \n",
            "=================================================================\n",
            " random_flip (RandomFlip)    (None, 256, 256, 3)       0         \n",
            "                                                                 \n",
            " random_zoom (RandomZoom)    (None, 256, 256, 3)       0         \n",
            "                                                                 \n",
            " random_translation (RandomT  (None, 256, 256, 3)      0         \n",
            " ranslation)                                                     \n",
            "                                                                 \n",
            " cropping2d (Cropping2D)     (None, 224, 224, 3)       0         \n",
            "                                                                 \n",
            " lambda (Lambda)             (None, 224, 224, 3)       0         \n",
            "                                                                 \n",
            " xception (Functional)       (None, 7, 7, 2048)        20861480  \n",
            "                                                                 \n",
            " global_average_pooling2d (G  (None, 2048)             0         \n",
            " lobalAveragePooling2D)                                          \n",
            "                                                                 \n",
            " dense (Dense)               (None, 192)               393408    \n",
            "                                                                 \n",
            " dense_1 (Dense)             (None, 48)                9264      \n",
            "                                                                 \n",
            " dropout (Dropout)           (None, 48)                0         \n",
            "                                                                 \n",
            " dense_2 (Dense)             (None, 8)                 392       \n",
            "                                                                 \n",
            "=================================================================\n",
            "Total params: 21,264,544\n",
            "Trainable params: 403,064\n",
            "Non-trainable params: 20,861,480\n",
            "_________________________________________________________________\n"
          ]
        }
      ],
      "source": [
        "model.summary()"
      ]
    },
    {
      "cell_type": "code",
      "execution_count": null,
      "metadata": {
        "id": "-tjsykR04pAZ"
      },
      "outputs": [],
      "source": [
        "epochs = 200"
      ]
    },
    {
      "cell_type": "code",
      "execution_count": null,
      "metadata": {
        "colab": {
          "base_uri": "https://localhost:8080/"
        },
        "id": "jb54axct4svz",
        "outputId": "be493e6d-3105-4d8a-ba45-f7e6e20b32ea"
      },
      "outputs": [
        {
          "output_type": "stream",
          "name": "stdout",
          "text": [
            "Epoch 1/200\n",
            "45/45 [==============================] - 959s 18s/step - loss: 2.0153 - accuracy: 0.2040 - val_loss: 1.8899 - val_accuracy: 0.3121\n",
            "Epoch 2/200\n",
            "45/45 [==============================] - 23s 493ms/step - loss: 1.8829 - accuracy: 0.2597 - val_loss: 1.7471 - val_accuracy: 0.3431\n",
            "Epoch 3/200\n",
            "45/45 [==============================] - 23s 490ms/step - loss: 1.7978 - accuracy: 0.2770 - val_loss: 1.7028 - val_accuracy: 0.3862\n",
            "Epoch 4/200\n",
            "45/45 [==============================] - 23s 484ms/step - loss: 1.7303 - accuracy: 0.3020 - val_loss: 1.6252 - val_accuracy: 0.4483\n",
            "Epoch 5/200\n",
            "45/45 [==============================] - 23s 487ms/step - loss: 1.6803 - accuracy: 0.3465 - val_loss: 1.5992 - val_accuracy: 0.4310\n",
            "Epoch 6/200\n",
            "45/45 [==============================] - 23s 499ms/step - loss: 1.6282 - accuracy: 0.3631 - val_loss: 1.5582 - val_accuracy: 0.4534\n",
            "Epoch 7/200\n",
            "45/45 [==============================] - 24s 511ms/step - loss: 1.6126 - accuracy: 0.3793 - val_loss: 1.5059 - val_accuracy: 0.4586\n",
            "Epoch 8/200\n",
            "45/45 [==============================] - 22s 475ms/step - loss: 1.5856 - accuracy: 0.3839 - val_loss: 1.4796 - val_accuracy: 0.4793\n",
            "Epoch 9/200\n",
            "45/45 [==============================] - 23s 481ms/step - loss: 1.5332 - accuracy: 0.4079 - val_loss: 1.4561 - val_accuracy: 0.4948\n",
            "Epoch 10/200\n",
            "45/45 [==============================] - 23s 485ms/step - loss: 1.5440 - accuracy: 0.4065 - val_loss: 1.4105 - val_accuracy: 0.4966\n",
            "Epoch 11/200\n",
            "45/45 [==============================] - 22s 480ms/step - loss: 1.5256 - accuracy: 0.4135 - val_loss: 1.4078 - val_accuracy: 0.4948\n",
            "Epoch 12/200\n",
            "45/45 [==============================] - 22s 479ms/step - loss: 1.5101 - accuracy: 0.4263 - val_loss: 1.3710 - val_accuracy: 0.5241\n",
            "Epoch 13/200\n",
            "45/45 [==============================] - 23s 480ms/step - loss: 1.4676 - accuracy: 0.4414 - val_loss: 1.3058 - val_accuracy: 0.5241\n",
            "Epoch 14/200\n",
            "45/45 [==============================] - 23s 485ms/step - loss: 1.4774 - accuracy: 0.4425 - val_loss: 1.3575 - val_accuracy: 0.5017\n",
            "Epoch 15/200\n",
            "45/45 [==============================] - 23s 485ms/step - loss: 1.4476 - accuracy: 0.4531 - val_loss: 1.3559 - val_accuracy: 0.5138\n",
            "Epoch 16/200\n",
            "45/45 [==============================] - 22s 474ms/step - loss: 1.4526 - accuracy: 0.4492 - val_loss: 1.3432 - val_accuracy: 0.5207\n",
            "Epoch 17/200\n",
            "45/45 [==============================] - 23s 481ms/step - loss: 1.4389 - accuracy: 0.4647 - val_loss: 1.2825 - val_accuracy: 0.5500\n",
            "Epoch 18/200\n",
            "45/45 [==============================] - 23s 483ms/step - loss: 1.4284 - accuracy: 0.4562 - val_loss: 1.2995 - val_accuracy: 0.5448\n",
            "Epoch 19/200\n",
            "45/45 [==============================] - 23s 492ms/step - loss: 1.4265 - accuracy: 0.4531 - val_loss: 1.3189 - val_accuracy: 0.5397\n",
            "Epoch 20/200\n",
            "45/45 [==============================] - 24s 506ms/step - loss: 1.4214 - accuracy: 0.4633 - val_loss: 1.2778 - val_accuracy: 0.5448\n",
            "Epoch 21/200\n",
            "45/45 [==============================] - 23s 490ms/step - loss: 1.4184 - accuracy: 0.4806 - val_loss: 1.2660 - val_accuracy: 0.5500\n",
            "Epoch 22/200\n",
            "45/45 [==============================] - 22s 479ms/step - loss: 1.4013 - accuracy: 0.4749 - val_loss: 1.2294 - val_accuracy: 0.5776\n",
            "Epoch 23/200\n",
            "45/45 [==============================] - 23s 498ms/step - loss: 1.4106 - accuracy: 0.4591 - val_loss: 1.2390 - val_accuracy: 0.5621\n",
            "Epoch 24/200\n",
            "45/45 [==============================] - 22s 478ms/step - loss: 1.3774 - accuracy: 0.4852 - val_loss: 1.2328 - val_accuracy: 0.5638\n",
            "Epoch 25/200\n",
            "45/45 [==============================] - 24s 505ms/step - loss: 1.3751 - accuracy: 0.4869 - val_loss: 1.2295 - val_accuracy: 0.5586\n",
            "Epoch 26/200\n",
            "45/45 [==============================] - 22s 475ms/step - loss: 1.3612 - accuracy: 0.4887 - val_loss: 1.2072 - val_accuracy: 0.5845\n",
            "Epoch 27/200\n",
            "45/45 [==============================] - 24s 515ms/step - loss: 1.3540 - accuracy: 0.4979 - val_loss: 1.1950 - val_accuracy: 0.5931\n",
            "Epoch 28/200\n",
            "45/45 [==============================] - 23s 485ms/step - loss: 1.3669 - accuracy: 0.4968 - val_loss: 1.1908 - val_accuracy: 0.5776\n",
            "Epoch 29/200\n",
            "45/45 [==============================] - 24s 510ms/step - loss: 1.3462 - accuracy: 0.4947 - val_loss: 1.1751 - val_accuracy: 0.5983\n",
            "Epoch 30/200\n",
            "45/45 [==============================] - 23s 492ms/step - loss: 1.3434 - accuracy: 0.4989 - val_loss: 1.1790 - val_accuracy: 0.5897\n",
            "Epoch 31/200\n",
            "45/45 [==============================] - 22s 475ms/step - loss: 1.3453 - accuracy: 0.5000 - val_loss: 1.1709 - val_accuracy: 0.5897\n",
            "Epoch 32/200\n",
            "45/45 [==============================] - 23s 495ms/step - loss: 1.3492 - accuracy: 0.5011 - val_loss: 1.1881 - val_accuracy: 0.5914\n",
            "Epoch 33/200\n",
            "45/45 [==============================] - 22s 474ms/step - loss: 1.3410 - accuracy: 0.4940 - val_loss: 1.2222 - val_accuracy: 0.5759\n",
            "Epoch 34/200\n",
            "45/45 [==============================] - 23s 499ms/step - loss: 1.3637 - accuracy: 0.4944 - val_loss: 1.1884 - val_accuracy: 0.5931\n",
            "Epoch 35/200\n",
            "45/45 [==============================] - 22s 474ms/step - loss: 1.3242 - accuracy: 0.5311 - val_loss: 1.1834 - val_accuracy: 0.5655\n",
            "Epoch 36/200\n",
            "45/45 [==============================] - 23s 493ms/step - loss: 1.3144 - accuracy: 0.5078 - val_loss: 1.1529 - val_accuracy: 0.5776\n",
            "Epoch 37/200\n",
            "45/45 [==============================] - 23s 493ms/step - loss: 1.3040 - accuracy: 0.5085 - val_loss: 1.1278 - val_accuracy: 0.5966\n",
            "Epoch 38/200\n",
            "45/45 [==============================] - 23s 484ms/step - loss: 1.3651 - accuracy: 0.4862 - val_loss: 1.1171 - val_accuracy: 0.6138\n",
            "Epoch 39/200\n",
            "45/45 [==============================] - 24s 515ms/step - loss: 1.3140 - accuracy: 0.5035 - val_loss: 1.1433 - val_accuracy: 0.6172\n",
            "Epoch 40/200\n",
            "45/45 [==============================] - 23s 486ms/step - loss: 1.3179 - accuracy: 0.5201 - val_loss: 1.1427 - val_accuracy: 0.6017\n",
            "Epoch 41/200\n",
            "45/45 [==============================] - 24s 496ms/step - loss: 1.3155 - accuracy: 0.5004 - val_loss: 1.1541 - val_accuracy: 0.6000\n",
            "Epoch 42/200\n",
            "45/45 [==============================] - 23s 494ms/step - loss: 1.3009 - accuracy: 0.5268 - val_loss: 1.1008 - val_accuracy: 0.6276\n",
            "Epoch 43/200\n",
            "45/45 [==============================] - 23s 496ms/step - loss: 1.3371 - accuracy: 0.5138 - val_loss: 1.1196 - val_accuracy: 0.6138\n",
            "Epoch 44/200\n",
            "45/45 [==============================] - 23s 483ms/step - loss: 1.3137 - accuracy: 0.5342 - val_loss: 1.1003 - val_accuracy: 0.6207\n",
            "Epoch 45/200\n",
            "45/45 [==============================] - 23s 493ms/step - loss: 1.3079 - accuracy: 0.5191 - val_loss: 1.1371 - val_accuracy: 0.6052\n",
            "Epoch 46/200\n",
            "45/45 [==============================] - 22s 474ms/step - loss: 1.2784 - accuracy: 0.5205 - val_loss: 1.1295 - val_accuracy: 0.6017\n",
            "Epoch 47/200\n",
            "45/45 [==============================] - 22s 476ms/step - loss: 1.2841 - accuracy: 0.5240 - val_loss: 1.1139 - val_accuracy: 0.6190\n",
            "Epoch 48/200\n",
            "45/45 [==============================] - 23s 490ms/step - loss: 1.2613 - accuracy: 0.5226 - val_loss: 1.1248 - val_accuracy: 0.6000\n",
            "Epoch 49/200\n",
            "45/45 [==============================] - 24s 505ms/step - loss: 1.3021 - accuracy: 0.5141 - val_loss: 1.1232 - val_accuracy: 0.5931\n",
            "Epoch 50/200\n",
            "45/45 [==============================] - 22s 476ms/step - loss: 1.2864 - accuracy: 0.5212 - val_loss: 1.1196 - val_accuracy: 0.6069\n",
            "Epoch 51/200\n",
            "45/45 [==============================] - 23s 480ms/step - loss: 1.2992 - accuracy: 0.5183 - val_loss: 1.1137 - val_accuracy: 0.6052\n",
            "Epoch 52/200\n",
            "45/45 [==============================] - 23s 499ms/step - loss: 1.2977 - accuracy: 0.5208 - val_loss: 1.1209 - val_accuracy: 0.5931\n"
          ]
        }
      ],
      "source": [
        "history = model.fit(\n",
        "    train_ds,\n",
        "    validation_data=val_ds,\n",
        "    epochs=epochs,\n",
        "    class_weight=class_weight,\n",
        "    callbacks=[tfk.callbacks.EarlyStopping(monitor='val_accuracy', mode='max', patience=10, restore_best_weights=True)]\n",
        "    ).history"
      ]
    },
    {
      "cell_type": "code",
      "execution_count": null,
      "metadata": {
        "colab": {
          "base_uri": "https://localhost:8080/",
          "height": 336
        },
        "id": "MxuCBftc74dm",
        "outputId": "bda7910d-2412-4bac-cd6d-e1c5fbaada9f"
      },
      "outputs": [
        {
          "output_type": "display_data",
          "data": {
            "text/plain": [
              "<Figure size 1080x360 with 1 Axes>"
            ],
            "image/png": "[encoded data removed]"
          },
          "metadata": {
            "needs_background": "light"
          }
        }
      ],
      "source": [
        "import matplotlib.pyplot as plt\n",
        "\n",
        "# plot the trend of the MSE of the training set (always decreasing of course) and of the validation set\n",
        "plt.figure(figsize=(15,5))\n",
        "plt.plot(history['accuracy'], label='Training', alpha=.8, color='#ff7f0e')\n",
        "plt.plot(history['val_accuracy'], label='Validation', alpha=.8, color='#4D61E2')\n",
        "plt.ylim(0, 1)\n",
        "plt.title('Accuracy')\n",
        "plt.legend(loc='upper right')\n",
        "plt.grid(alpha=.3)\n",
        "plt.show()"
      ]
    },
    {
      "cell_type": "code",
      "execution_count": null,
      "metadata": {
        "colab": {
          "base_uri": "https://localhost:8080/"
        },
        "id": "BTRc0Iw04uVa",
        "outputId": "f3a952c7-0a03-456d-8860-531413d78f0f"
      },
      "outputs": [
        {
          "output_type": "stream",
          "name": "stdout",
          "text": [
            "2/2 [==============================] - 2s 336ms/step - loss: 1.1245 - accuracy: 0.6172\n",
            "Accuracy 0.6171875\n",
            "Loss 1.1245169639587402\n"
          ]
        }
      ],
      "source": [
        "loss, acc = model.evaluate(test_ds)\n",
        "print(\"Accuracy\", acc)\n",
        "print(\"Loss\", loss)"
      ]
    },
    {
      "cell_type": "code",
      "execution_count": null,
      "metadata": {
        "id": "AdYt577IJfLm"
      },
      "outputs": [],
      "source": [
        "# Save best epoch model\n",
        "# model.save(\"notebook39\")"
      ]
    },
    {
      "cell_type": "code",
      "source": [
        "base_model.trainable = True\n",
        "\n",
        "model.compile(optimizer=tfk.optimizers.Adam(learning_rate=0.0001),\n",
        "              loss=tf.keras.losses.CategoricalCrossentropy(),\n",
        "              metrics=['accuracy'])\n",
        "\n",
        "model.summary()"
      ],
      "metadata": {
        "colab": {
          "base_uri": "https://localhost:8080/"
        },
        "id": "5xRwtdZtDVw3",
        "outputId": "cd10a098-6542-41e9-98ae-8bf6361a4b75"
      },
      "execution_count": null,
      "outputs": [
        {
          "output_type": "stream",
          "name": "stdout",
          "text": [
            "Model: \"sequential\"\n",
            "_________________________________________________________________\n",
            " Layer (type)                Output Shape              Param #   \n",
            "=================================================================\n",
            " random_flip (RandomFlip)    (None, 256, 256, 3)       0         \n",
            "                                                                 \n",
            " random_zoom (RandomZoom)    (None, 256, 256, 3)       0         \n",
            "                                                                 \n",
            " random_translation (RandomT  (None, 256, 256, 3)      0         \n",
            " ranslation)                                                     \n",
            "                                                                 \n",
            " cropping2d (Cropping2D)     (None, 224, 224, 3)       0         \n",
            "                                                                 \n",
            " lambda (Lambda)             (None, 224, 224, 3)       0         \n",
            "                                                                 \n",
            " xception (Functional)       (None, 7, 7, 2048)        20861480  \n",
            "                                                                 \n",
            " global_average_pooling2d (G  (None, 2048)             0         \n",
            " lobalAveragePooling2D)                                          \n",
            "                                                                 \n",
            " dense (Dense)               (None, 192)               393408    \n",
            "                                                                 \n",
            " dense_1 (Dense)             (None, 48)                9264      \n",
            "                                                                 \n",
            " dropout (Dropout)           (None, 48)                0         \n",
            "                                                                 \n",
            " dense_2 (Dense)             (None, 8)                 392       \n",
            "                                                                 \n",
            "=================================================================\n",
            "Total params: 21,264,544\n",
            "Trainable params: 21,210,016\n",
            "Non-trainable params: 54,528\n",
            "_________________________________________________________________\n"
          ]
        }
      ]
    },
    {
      "cell_type": "code",
      "source": [
        "history = model.fit(\n",
        "    train_ds,\n",
        "    validation_data=val_ds,\n",
        "    epochs=epochs,\n",
        "    class_weight=class_weight,\n",
        "    callbacks=[tfk.callbacks.EarlyStopping(monitor='val_accuracy', mode='max', patience=10, restore_best_weights=True)]\n",
        "    ).history"
      ],
      "metadata": {
        "colab": {
          "base_uri": "https://localhost:8080/"
        },
        "id": "jHj9eVmFDs2_",
        "outputId": "8aff965a-3ab6-4a44-ecfa-d9de96147307"
      },
      "execution_count": null,
      "outputs": [
        {
          "output_type": "stream",
          "name": "stdout",
          "text": [
            "Epoch 1/200\n",
            "45/45 [==============================] - 91s 2s/step - loss: 1.4314 - accuracy: 0.4577 - val_loss: 1.1476 - val_accuracy: 0.5793\n",
            "Epoch 2/200\n",
            "45/45 [==============================] - 77s 2s/step - loss: 1.1361 - accuracy: 0.5790 - val_loss: 1.0513 - val_accuracy: 0.6241\n",
            "Epoch 3/200\n",
            "45/45 [==============================] - 77s 2s/step - loss: 1.0184 - accuracy: 0.6415 - val_loss: 0.8251 - val_accuracy: 0.7069\n",
            "Epoch 4/200\n",
            "45/45 [==============================] - 77s 2s/step - loss: 0.8823 - accuracy: 0.6870 - val_loss: 0.6745 - val_accuracy: 0.7603\n",
            "Epoch 5/200\n",
            "45/45 [==============================] - 77s 2s/step - loss: 0.8511 - accuracy: 0.7040 - val_loss: 0.6585 - val_accuracy: 0.7672\n",
            "Epoch 6/200\n",
            "45/45 [==============================] - 77s 2s/step - loss: 0.7737 - accuracy: 0.7375 - val_loss: 0.5747 - val_accuracy: 0.8207\n",
            "Epoch 7/200\n",
            "45/45 [==============================] - 77s 2s/step - loss: 0.6944 - accuracy: 0.7572 - val_loss: 0.4913 - val_accuracy: 0.8397\n",
            "Epoch 8/200\n",
            "45/45 [==============================] - 76s 2s/step - loss: 0.6919 - accuracy: 0.7636 - val_loss: 0.4846 - val_accuracy: 0.8293\n",
            "Epoch 9/200\n",
            "45/45 [==============================] - 77s 2s/step - loss: 0.6057 - accuracy: 0.7950 - val_loss: 0.5449 - val_accuracy: 0.8362\n",
            "Epoch 10/200\n",
            "45/45 [==============================] - 77s 2s/step - loss: 0.6229 - accuracy: 0.7862 - val_loss: 0.5307 - val_accuracy: 0.8293\n",
            "Epoch 11/200\n",
            "45/45 [==============================] - 77s 2s/step - loss: 0.5328 - accuracy: 0.8236 - val_loss: 0.4179 - val_accuracy: 0.8638\n",
            "Epoch 12/200\n",
            "45/45 [==============================] - 77s 2s/step - loss: 0.5366 - accuracy: 0.8204 - val_loss: 0.4372 - val_accuracy: 0.8552\n",
            "Epoch 13/200\n",
            "45/45 [==============================] - 77s 2s/step - loss: 0.5200 - accuracy: 0.8186 - val_loss: 0.4802 - val_accuracy: 0.8431\n",
            "Epoch 14/200\n",
            "45/45 [==============================] - 77s 2s/step - loss: 0.4763 - accuracy: 0.8440 - val_loss: 0.4713 - val_accuracy: 0.8552\n",
            "Epoch 15/200\n",
            "45/45 [==============================] - 77s 2s/step - loss: 0.4649 - accuracy: 0.8426 - val_loss: 0.4203 - val_accuracy: 0.8672\n",
            "Epoch 16/200\n",
            "45/45 [==============================] - 76s 2s/step - loss: 0.4762 - accuracy: 0.8447 - val_loss: 0.4397 - val_accuracy: 0.8655\n",
            "Epoch 17/200\n",
            "45/45 [==============================] - 77s 2s/step - loss: 0.4160 - accuracy: 0.8617 - val_loss: 0.3676 - val_accuracy: 0.8828\n",
            "Epoch 18/200\n",
            "45/45 [==============================] - 78s 2s/step - loss: 0.4088 - accuracy: 0.8606 - val_loss: 0.4025 - val_accuracy: 0.8672\n",
            "Epoch 19/200\n",
            "45/45 [==============================] - 77s 2s/step - loss: 0.3788 - accuracy: 0.8677 - val_loss: 0.4769 - val_accuracy: 0.8586\n",
            "Epoch 20/200\n",
            "45/45 [==============================] - 77s 2s/step - loss: 0.3951 - accuracy: 0.8705 - val_loss: 0.3790 - val_accuracy: 0.8845\n",
            "Epoch 21/200\n",
            "45/45 [==============================] - 76s 2s/step - loss: 0.3548 - accuracy: 0.8829 - val_loss: 0.4029 - val_accuracy: 0.8707\n",
            "Epoch 22/200\n",
            "45/45 [==============================] - 77s 2s/step - loss: 0.3563 - accuracy: 0.8797 - val_loss: 0.4536 - val_accuracy: 0.8690\n",
            "Epoch 23/200\n",
            "45/45 [==============================] - 76s 2s/step - loss: 0.3570 - accuracy: 0.8881 - val_loss: 0.4520 - val_accuracy: 0.8707\n",
            "Epoch 24/200\n",
            "45/45 [==============================] - 78s 2s/step - loss: 0.2937 - accuracy: 0.8920 - val_loss: 0.3957 - val_accuracy: 0.8862\n",
            "Epoch 25/200\n",
            "45/45 [==============================] - 77s 2s/step - loss: 0.3616 - accuracy: 0.8807 - val_loss: 0.4336 - val_accuracy: 0.8621\n",
            "Epoch 26/200\n",
            "45/45 [==============================] - 76s 2s/step - loss: 0.3100 - accuracy: 0.8973 - val_loss: 0.5038 - val_accuracy: 0.8569\n",
            "Epoch 27/200\n",
            "45/45 [==============================] - 77s 2s/step - loss: 0.2989 - accuracy: 0.9058 - val_loss: 0.4377 - val_accuracy: 0.8793\n",
            "Epoch 28/200\n",
            "45/45 [==============================] - 76s 2s/step - loss: 0.3023 - accuracy: 0.8952 - val_loss: 0.4085 - val_accuracy: 0.8845\n",
            "Epoch 29/200\n",
            "45/45 [==============================] - 77s 2s/step - loss: 0.2859 - accuracy: 0.9061 - val_loss: 0.3808 - val_accuracy: 0.8828\n",
            "Epoch 30/200\n",
            "45/45 [==============================] - 77s 2s/step - loss: 0.2820 - accuracy: 0.9033 - val_loss: 0.4282 - val_accuracy: 0.8793\n",
            "Epoch 31/200\n",
            "45/45 [==============================] - 77s 2s/step - loss: 0.2994 - accuracy: 0.8977 - val_loss: 0.3573 - val_accuracy: 0.9034\n",
            "Epoch 32/200\n",
            "45/45 [==============================] - 77s 2s/step - loss: 0.2739 - accuracy: 0.9086 - val_loss: 0.3529 - val_accuracy: 0.8879\n",
            "Epoch 33/200\n",
            "45/45 [==============================] - 77s 2s/step - loss: 0.2680 - accuracy: 0.9090 - val_loss: 0.4285 - val_accuracy: 0.8845\n",
            "Epoch 34/200\n",
            "45/45 [==============================] - 77s 2s/step - loss: 0.2499 - accuracy: 0.9178 - val_loss: 0.3490 - val_accuracy: 0.9017\n",
            "Epoch 35/200\n",
            "45/45 [==============================] - 77s 2s/step - loss: 0.2364 - accuracy: 0.9217 - val_loss: 0.3790 - val_accuracy: 0.9000\n",
            "Epoch 36/200\n",
            "45/45 [==============================] - 77s 2s/step - loss: 0.2599 - accuracy: 0.9111 - val_loss: 0.3519 - val_accuracy: 0.9017\n",
            "Epoch 37/200\n",
            "45/45 [==============================] - 76s 2s/step - loss: 0.2129 - accuracy: 0.9266 - val_loss: 0.3437 - val_accuracy: 0.9017\n",
            "Epoch 38/200\n",
            "45/45 [==============================] - 77s 2s/step - loss: 0.2154 - accuracy: 0.9231 - val_loss: 0.3783 - val_accuracy: 0.8897\n",
            "Epoch 39/200\n",
            "45/45 [==============================] - 76s 2s/step - loss: 0.2166 - accuracy: 0.9238 - val_loss: 0.4041 - val_accuracy: 0.8948\n",
            "Epoch 40/200\n",
            "45/45 [==============================] - 77s 2s/step - loss: 0.2087 - accuracy: 0.9273 - val_loss: 0.3505 - val_accuracy: 0.9138\n",
            "Epoch 41/200\n",
            "45/45 [==============================] - 76s 2s/step - loss: 0.1889 - accuracy: 0.9386 - val_loss: 0.4266 - val_accuracy: 0.8897\n",
            "Epoch 42/200\n",
            "45/45 [==============================] - 76s 2s/step - loss: 0.1832 - accuracy: 0.9474 - val_loss: 0.3321 - val_accuracy: 0.9034\n",
            "Epoch 43/200\n",
            "45/45 [==============================] - 76s 2s/step - loss: 0.2036 - accuracy: 0.9323 - val_loss: 0.4365 - val_accuracy: 0.8931\n",
            "Epoch 44/200\n",
            "12/45 [=======>......................] - ETA: 53s - loss: 0.2048 - accuracy: 0.9310"
          ]
        }
      ]
    },
    {
      "cell_type": "code",
      "source": [
        "import matplotlib.pyplot as plt\n",
        "\n",
        "# plot the trend of the MSE of the training set (always decreasing of course) and of the validation set\n",
        "plt.figure(figsize=(15,5))\n",
        "plt.plot(history['accuracy'], label='Training', alpha=.8, color='#ff7f0e')\n",
        "plt.plot(history['val_accuracy'], label='Validation', alpha=.8, color='#4D61E2')\n",
        "plt.ylim(0, 1)\n",
        "plt.title('Accuracy')\n",
        "plt.legend(loc='upper right')\n",
        "plt.grid(alpha=.3)\n",
        "plt.show()"
      ],
      "metadata": {
        "id": "d0NHVQ7FDwQy"
      },
      "execution_count": null,
      "outputs": []
    },
    {
      "cell_type": "code",
      "source": [
        "loss, acc = model.evaluate(test_ds)\n",
        "print(\"Accuracy\", acc)\n",
        "print(\"Loss\", loss)"
      ],
      "metadata": {
        "id": "yKxBB7ZKDzQ2"
      },
      "execution_count": null,
      "outputs": []
    },
    {
      "cell_type": "code",
      "source": [
        "# Save best epoch model\n",
        "model.save(\"Xception\")"
      ],
      "metadata": {
        "id": "ePSEgDYND33G"
      },
      "execution_count": null,
      "outputs": []
    },
    {
      "cell_type": "code",
      "source": [],
      "metadata": {
        "id": "tQc0IjRUD7T-"
      },
      "execution_count": null,
      "outputs": []
    }
  ],
  "metadata": {
    "accelerator": "GPU",
    "colab": {
      "provenance": []
    },
    "gpuClass": "standard",
    "kernelspec": {
      "display_name": "Python 3",
      "name": "python3"
    },
    "language_info": {
      "name": "python"
    }
  },
  "nbformat": 4,
  "nbformat_minor": 0
}