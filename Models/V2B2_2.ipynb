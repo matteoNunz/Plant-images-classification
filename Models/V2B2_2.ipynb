{
  "nbformat": 4,
  "nbformat_minor": 0,
  "metadata": {
    "colab": {
      "provenance": []
    },
    "kernelspec": {
      "name": "python3",
      "display_name": "Python 3"
    },
    "language_info": {
      "name": "python"
    },
    "accelerator": "GPU",
    "gpuClass": "standard"
  },
  "cells": [
    {
      "cell_type": "code",
      "execution_count": null,
      "metadata": {
        "colab": {
          "base_uri": "https://localhost:8080/"
        },
        "id": "6NxPjeHb3KBK",
        "outputId": "7786f2d0-dbda-425c-a6a1-d4f6ebe0e5f8",
        "pycharm": {
          "name": "#%%\n"
        }
      },
      "outputs": [
        {
          "output_type": "stream",
          "name": "stdout",
          "text": [
            "Looking in indexes: https://pypi.org/simple, https://us-python.pkg.dev/colab-wheels/public/simple/\n",
            "Collecting tensorflow==2.8.3\n",
            "  Downloading tensorflow-2.8.3-cp37-cp37m-manylinux2010_x86_64.whl (497.9 MB)\n",
            "\u001b[K     |████████████████████████████████| 497.9 MB 35 kB/s \n",
            "\u001b[?25hRequirement already satisfied: google-pasta>=0.1.1 in /usr/local/lib/python3.7/dist-packages (from tensorflow==2.8.3) (0.2.0)\n",
            "Requirement already satisfied: astunparse>=1.6.0 in /usr/local/lib/python3.7/dist-packages (from tensorflow==2.8.3) (1.6.3)\n",
            "Collecting tensorboard<2.9,>=2.8\n",
            "  Downloading tensorboard-2.8.0-py3-none-any.whl (5.8 MB)\n",
            "\u001b[K     |████████████████████████████████| 5.8 MB 55.6 MB/s \n",
            "\u001b[?25hCollecting keras<2.9,>=2.8.0rc0\n",
            "  Downloading keras-2.8.0-py2.py3-none-any.whl (1.4 MB)\n",
            "\u001b[K     |████████████████████████████████| 1.4 MB 53.6 MB/s \n",
            "\u001b[?25hRequirement already satisfied: gast>=0.2.1 in /usr/local/lib/python3.7/dist-packages (from tensorflow==2.8.3) (0.4.0)\n",
            "Requirement already satisfied: absl-py>=0.4.0 in /usr/local/lib/python3.7/dist-packages (from tensorflow==2.8.3) (1.3.0)\n",
            "Requirement already satisfied: libclang>=9.0.1 in /usr/local/lib/python3.7/dist-packages (from tensorflow==2.8.3) (14.0.6)\n",
            "Requirement already satisfied: grpcio<2.0,>=1.24.3 in /usr/local/lib/python3.7/dist-packages (from tensorflow==2.8.3) (1.50.0)\n",
            "Requirement already satisfied: numpy>=1.20 in /usr/local/lib/python3.7/dist-packages (from tensorflow==2.8.3) (1.21.6)\n",
            "Requirement already satisfied: keras-preprocessing>=1.1.1 in /usr/local/lib/python3.7/dist-packages (from tensorflow==2.8.3) (1.1.2)\n",
            "Requirement already satisfied: six>=1.12.0 in /usr/local/lib/python3.7/dist-packages (from tensorflow==2.8.3) (1.15.0)\n",
            "Collecting tensorflow-estimator<2.9,>=2.8\n",
            "  Downloading tensorflow_estimator-2.8.0-py2.py3-none-any.whl (462 kB)\n",
            "\u001b[K     |████████████████████████████████| 462 kB 61.9 MB/s \n",
            "\u001b[?25hRequirement already satisfied: tensorflow-io-gcs-filesystem>=0.23.1 in /usr/local/lib/python3.7/dist-packages (from tensorflow==2.8.3) (0.27.0)\n",
            "Requirement already satisfied: flatbuffers>=1.12 in /usr/local/lib/python3.7/dist-packages (from tensorflow==2.8.3) (1.12)\n",
            "Requirement already satisfied: termcolor>=1.1.0 in /usr/local/lib/python3.7/dist-packages (from tensorflow==2.8.3) (2.1.0)\n",
            "Requirement already satisfied: typing-extensions>=3.6.6 in /usr/local/lib/python3.7/dist-packages (from tensorflow==2.8.3) (4.1.1)\n",
            "Requirement already satisfied: protobuf<3.20,>=3.9.2 in /usr/local/lib/python3.7/dist-packages (from tensorflow==2.8.3) (3.19.6)\n",
            "Requirement already satisfied: wrapt>=1.11.0 in /usr/local/lib/python3.7/dist-packages (from tensorflow==2.8.3) (1.14.1)\n",
            "Requirement already satisfied: setuptools in /usr/local/lib/python3.7/dist-packages (from tensorflow==2.8.3) (57.4.0)\n",
            "Requirement already satisfied: h5py>=2.9.0 in /usr/local/lib/python3.7/dist-packages (from tensorflow==2.8.3) (3.1.0)\n",
            "Requirement already satisfied: opt-einsum>=2.3.2 in /usr/local/lib/python3.7/dist-packages (from tensorflow==2.8.3) (3.3.0)\n",
            "Requirement already satisfied: wheel<1.0,>=0.23.0 in /usr/local/lib/python3.7/dist-packages (from astunparse>=1.6.0->tensorflow==2.8.3) (0.38.4)\n",
            "Requirement already satisfied: cached-property in /usr/local/lib/python3.7/dist-packages (from h5py>=2.9.0->tensorflow==2.8.3) (1.5.2)\n",
            "Requirement already satisfied: werkzeug>=0.11.15 in /usr/local/lib/python3.7/dist-packages (from tensorboard<2.9,>=2.8->tensorflow==2.8.3) (1.0.1)\n",
            "Requirement already satisfied: tensorboard-plugin-wit>=1.6.0 in /usr/local/lib/python3.7/dist-packages (from tensorboard<2.9,>=2.8->tensorflow==2.8.3) (1.8.1)\n",
            "Requirement already satisfied: markdown>=2.6.8 in /usr/local/lib/python3.7/dist-packages (from tensorboard<2.9,>=2.8->tensorflow==2.8.3) (3.4.1)\n",
            "Requirement already satisfied: requests<3,>=2.21.0 in /usr/local/lib/python3.7/dist-packages (from tensorboard<2.9,>=2.8->tensorflow==2.8.3) (2.23.0)\n",
            "Requirement already satisfied: tensorboard-data-server<0.7.0,>=0.6.0 in /usr/local/lib/python3.7/dist-packages (from tensorboard<2.9,>=2.8->tensorflow==2.8.3) (0.6.1)\n",
            "Requirement already satisfied: google-auth<3,>=1.6.3 in /usr/local/lib/python3.7/dist-packages (from tensorboard<2.9,>=2.8->tensorflow==2.8.3) (2.14.1)\n",
            "Requirement already satisfied: google-auth-oauthlib<0.5,>=0.4.1 in /usr/local/lib/python3.7/dist-packages (from tensorboard<2.9,>=2.8->tensorflow==2.8.3) (0.4.6)\n",
            "Requirement already satisfied: pyasn1-modules>=0.2.1 in /usr/local/lib/python3.7/dist-packages (from google-auth<3,>=1.6.3->tensorboard<2.9,>=2.8->tensorflow==2.8.3) (0.2.8)\n",
            "Requirement already satisfied: rsa<5,>=3.1.4 in /usr/local/lib/python3.7/dist-packages (from google-auth<3,>=1.6.3->tensorboard<2.9,>=2.8->tensorflow==2.8.3) (4.9)\n",
            "Requirement already satisfied: cachetools<6.0,>=2.0.0 in /usr/local/lib/python3.7/dist-packages (from google-auth<3,>=1.6.3->tensorboard<2.9,>=2.8->tensorflow==2.8.3) (5.2.0)\n",
            "Requirement already satisfied: requests-oauthlib>=0.7.0 in /usr/local/lib/python3.7/dist-packages (from google-auth-oauthlib<0.5,>=0.4.1->tensorboard<2.9,>=2.8->tensorflow==2.8.3) (1.3.1)\n",
            "Requirement already satisfied: importlib-metadata>=4.4 in /usr/local/lib/python3.7/dist-packages (from markdown>=2.6.8->tensorboard<2.9,>=2.8->tensorflow==2.8.3) (4.13.0)\n",
            "Requirement already satisfied: zipp>=0.5 in /usr/local/lib/python3.7/dist-packages (from importlib-metadata>=4.4->markdown>=2.6.8->tensorboard<2.9,>=2.8->tensorflow==2.8.3) (3.10.0)\n",
            "Requirement already satisfied: pyasn1<0.5.0,>=0.4.6 in /usr/local/lib/python3.7/dist-packages (from pyasn1-modules>=0.2.1->google-auth<3,>=1.6.3->tensorboard<2.9,>=2.8->tensorflow==2.8.3) (0.4.8)\n",
            "Requirement already satisfied: chardet<4,>=3.0.2 in /usr/local/lib/python3.7/dist-packages (from requests<3,>=2.21.0->tensorboard<2.9,>=2.8->tensorflow==2.8.3) (3.0.4)\n",
            "Requirement already satisfied: urllib3!=1.25.0,!=1.25.1,<1.26,>=1.21.1 in /usr/local/lib/python3.7/dist-packages (from requests<3,>=2.21.0->tensorboard<2.9,>=2.8->tensorflow==2.8.3) (1.24.3)\n",
            "Requirement already satisfied: certifi>=2017.4.17 in /usr/local/lib/python3.7/dist-packages (from requests<3,>=2.21.0->tensorboard<2.9,>=2.8->tensorflow==2.8.3) (2022.9.24)\n",
            "Requirement already satisfied: idna<3,>=2.5 in /usr/local/lib/python3.7/dist-packages (from requests<3,>=2.21.0->tensorboard<2.9,>=2.8->tensorflow==2.8.3) (2.10)\n",
            "Requirement already satisfied: oauthlib>=3.0.0 in /usr/local/lib/python3.7/dist-packages (from requests-oauthlib>=0.7.0->google-auth-oauthlib<0.5,>=0.4.1->tensorboard<2.9,>=2.8->tensorflow==2.8.3) (3.2.2)\n",
            "Installing collected packages: tensorflow-estimator, tensorboard, keras, tensorflow\n",
            "  Attempting uninstall: tensorflow-estimator\n",
            "    Found existing installation: tensorflow-estimator 2.9.0\n",
            "    Uninstalling tensorflow-estimator-2.9.0:\n",
            "      Successfully uninstalled tensorflow-estimator-2.9.0\n",
            "  Attempting uninstall: tensorboard\n",
            "    Found existing installation: tensorboard 2.9.1\n",
            "    Uninstalling tensorboard-2.9.1:\n",
            "      Successfully uninstalled tensorboard-2.9.1\n",
            "  Attempting uninstall: keras\n",
            "    Found existing installation: keras 2.9.0\n",
            "    Uninstalling keras-2.9.0:\n",
            "      Successfully uninstalled keras-2.9.0\n",
            "  Attempting uninstall: tensorflow\n",
            "    Found existing installation: tensorflow 2.9.2\n",
            "    Uninstalling tensorflow-2.9.2:\n",
            "      Successfully uninstalled tensorflow-2.9.2\n",
            "Successfully installed keras-2.8.0 tensorboard-2.8.0 tensorflow-2.8.3 tensorflow-estimator-2.8.0\n",
            "2.8.3\n"
          ]
        }
      ],
      "source": [
        "!pip install tensorflow==2.8.3\n",
        "import tensorflow as tf\n",
        "import numpy as np\n",
        "import os\n",
        "import random\n",
        "import tensorboard\n",
        "import datetime\n",
        "\n",
        "tfk = tf.keras\n",
        "tfkl = tf.keras.layers\n",
        "print(tf.__version__)"
      ]
    },
    {
      "cell_type": "code",
      "source": [
        "from google.colab import drive\n",
        "drive.mount('/content/drive')"
      ],
      "metadata": {
        "colab": {
          "base_uri": "https://localhost:8080/"
        },
        "id": "WIR7gJGz5Nqy",
        "outputId": "3c19c512-956a-4150-81b4-2e970a672a8b",
        "pycharm": {
          "name": "#%%\n"
        }
      },
      "execution_count": null,
      "outputs": [
        {
          "output_type": "stream",
          "name": "stdout",
          "text": [
            "Mounted at /content/drive\n"
          ]
        }
      ]
    },
    {
      "cell_type": "code",
      "source": [
        "# Random seed for reproducibility\n",
        "seed = 54721\n",
        "\n",
        "random.seed(seed)\n",
        "os.environ['PYTHONHASHSEED'] = str(seed)\n",
        "np.random.seed(seed)\n",
        "tf.random.set_seed(seed)\n",
        "tf.compat.v1.set_random_seed(seed)"
      ],
      "metadata": {
        "id": "M670wyKl3Lhw",
        "pycharm": {
          "name": "#%%\n"
        }
      },
      "execution_count": null,
      "outputs": []
    },
    {
      "cell_type": "code",
      "source": [
        "%cd /content/drive/MyDrive/ANN&DL\n",
        "dataset_dir = 'training_data_final'\n",
        "#image_size = 96\n",
        "image_size = 256\n",
        "batch_size = 64"
      ],
      "metadata": {
        "colab": {
          "base_uri": "https://localhost:8080/"
        },
        "id": "YzAbBviu3YJW",
        "outputId": "10d7d721-332a-4a81-906d-374b3763a6af",
        "pycharm": {
          "name": "#%%\n"
        }
      },
      "execution_count": null,
      "outputs": [
        {
          "output_type": "stream",
          "name": "stdout",
          "text": [
            "/content/drive/.shortcut-targets-by-id/1l7_vq1lkw0YlOyeSLcHreT9EMrUp_G_6/ANN&DL\n"
          ]
        }
      ]
    },
    {
      "cell_type": "code",
      "source": [
        "class_names = ['Species1', 'Species2', 'Species3', 'Species4', 'Species5', 'Species6', 'Species7', 'Species8']\n",
        "class_samples = [0] * len(class_names)"
      ],
      "metadata": {
        "id": "tjF8JhS_3n7p",
        "pycharm": {
          "name": "#%%\n"
        }
      },
      "execution_count": null,
      "outputs": []
    },
    {
      "cell_type": "code",
      "source": [
        "for i, class_name in enumerate(class_names):\n",
        "    class_dir = '{}/{}/'.format(dataset_dir, class_name)\n",
        "    class_samples[i] = len(os.listdir(class_dir))"
      ],
      "metadata": {
        "id": "05MKlhMs3tW4",
        "pycharm": {
          "name": "#%%\n"
        }
      },
      "execution_count": null,
      "outputs": []
    },
    {
      "cell_type": "code",
      "source": [
        "total_samples = sum(class_samples)\n",
        "class_weight = list(total_samples / (len(class_names) * np.array(class_samples)))\n",
        "class_weight = {i: class_weight[i] for i in range(len(class_weight))}"
      ],
      "metadata": {
        "id": "jmua8QXM3u_f",
        "pycharm": {
          "name": "#%%\n"
        }
      },
      "execution_count": null,
      "outputs": []
    },
    {
      "cell_type": "code",
      "source": [
        "print('Class weights: {}'.format(class_weight))"
      ],
      "metadata": {
        "colab": {
          "base_uri": "https://localhost:8080/"
        },
        "id": "G4Mrm-7531KI",
        "outputId": "7438a3da-a201-49f1-8ec7-b70080889b30",
        "pycharm": {
          "name": "#%%\n"
        }
      },
      "execution_count": null,
      "outputs": [
        {
          "output_type": "stream",
          "name": "stdout",
          "text": [
            "Class weights: {0: 2.3803763440860215, 1: 0.8322368421052632, 2: 0.8597087378640776, 3: 0.8664383561643836, 4: 0.833804143126177, 5: 1.9943693693693694, 6: 0.824487895716946, 7: 0.8715551181102362}\n"
          ]
        }
      ]
    },
    {
      "cell_type": "code",
      "source": [
        "train_ds = tf.keras.utils.image_dataset_from_directory(\n",
        "    dataset_dir,\n",
        "    validation_split=0.2,\n",
        "    subset=\"training\",\n",
        "    shuffle=True,\n",
        "    seed=seed,\n",
        "    image_size=(image_size, image_size),\n",
        "    batch_size=batch_size)"
      ],
      "metadata": {
        "colab": {
          "base_uri": "https://localhost:8080/"
        },
        "id": "FH9S_dEY31pN",
        "outputId": "7b7dbd33-ac6e-4006-92ea-7450471f2860",
        "pycharm": {
          "name": "#%%\n"
        }
      },
      "execution_count": null,
      "outputs": [
        {
          "output_type": "stream",
          "name": "stdout",
          "text": [
            "Found 3542 files belonging to 8 classes.\n",
            "Using 2834 files for training.\n"
          ]
        }
      ]
    },
    {
      "cell_type": "code",
      "source": [
        "val_ds = tf.keras.utils.image_dataset_from_directory(\n",
        "    dataset_dir,\n",
        "    validation_split=0.2,\n",
        "    subset=\"validation\",\n",
        "    shuffle=True,\n",
        "    seed=seed,\n",
        "    image_size=(image_size, image_size),\n",
        "    batch_size=batch_size)"
      ],
      "metadata": {
        "colab": {
          "base_uri": "https://localhost:8080/"
        },
        "id": "y8s2sxjl36rv",
        "outputId": "0852a8cc-ca93-4f3e-8f0b-df48c180e87e",
        "pycharm": {
          "name": "#%%\n"
        }
      },
      "execution_count": null,
      "outputs": [
        {
          "output_type": "stream",
          "name": "stdout",
          "text": [
            "Found 3542 files belonging to 8 classes.\n",
            "Using 708 files for validation.\n"
          ]
        }
      ]
    },
    {
      "cell_type": "code",
      "source": [
        "val_batches = tf.data.experimental.cardinality(val_ds)\n",
        "test_ds = val_ds.take(val_batches // 5)\n",
        "validation_dataset = val_ds.skip(val_batches // 5)"
      ],
      "metadata": {
        "id": "FxPnyxYV3_XK",
        "pycharm": {
          "name": "#%%\n"
        }
      },
      "execution_count": null,
      "outputs": []
    },
    {
      "cell_type": "code",
      "source": [
        "class_names = train_ds.class_names\n",
        "num_classes = len(class_names)"
      ],
      "metadata": {
        "id": "xW0pHMXQ4GiZ",
        "pycharm": {
          "name": "#%%\n"
        }
      },
      "execution_count": null,
      "outputs": []
    },
    {
      "cell_type": "code",
      "source": [
        "# Add caching to dataset\n",
        "AUTOTUNE = tf.data.AUTOTUNE\n",
        "train_ds = train_ds.prefetch(buffer_size=AUTOTUNE)\n",
        "val_ds = validation_dataset.prefetch(buffer_size=AUTOTUNE)\n",
        "test_ds = test_ds.prefetch(buffer_size=AUTOTUNE)"
      ],
      "metadata": {
        "id": "-HPT0GSz4PKX",
        "pycharm": {
          "name": "#%%\n"
        }
      },
      "execution_count": null,
      "outputs": []
    },
    {
      "cell_type": "code",
      "source": [
        "# Use one-hot encoding for labels\n",
        "train_ds = train_ds.map(lambda x, y: (x, tf.one_hot(y, depth=num_classes)))\n",
        "val_ds = val_ds.map(lambda x, y: (x, tf.one_hot(y, depth=num_classes)))\n",
        "test_ds = test_ds.map(lambda x, y: (x, tf.one_hot(y, depth=num_classes)))"
      ],
      "metadata": {
        "id": "ONLJajm74R8w",
        "pycharm": {
          "name": "#%%\n"
        }
      },
      "execution_count": null,
      "outputs": []
    },
    {
      "cell_type": "code",
      "source": [
        "crop_dim = 16\n",
        "input_shape = (image_size, image_size, 3)\n",
        "input_shape_cropping = (image_size-crop_dim*2, image_size-crop_dim*2, 3)"
      ],
      "metadata": {
        "id": "QIj2Z8fw4UFm",
        "pycharm": {
          "name": "#%%\n"
        }
      },
      "execution_count": null,
      "outputs": []
    },
    {
      "cell_type": "code",
      "source": [
        "base_model = tf.keras.applications.EfficientNetV2B2(\n",
        "    input_shape=input_shape_cropping,\n",
        "    include_top=False,\n",
        "    weights='imagenet')\n",
        "base_model.trainable = True"
      ],
      "metadata": {
        "id": "s9iSE-uS4Wcd",
        "pycharm": {
          "name": "#%%\n"
        }
      },
      "execution_count": null,
      "outputs": []
    },
    {
      "cell_type": "code",
      "source": [
        "model = tfk.Sequential([\n",
        "    tfk.layers.Input(shape=input_shape),\n",
        "    # Augmentation\n",
        "    tfk.layers.RandomFlip(\"horizontal_and_vertical\", input_shape=input_shape),\n",
        "    # tfk.layers.RandomRotation(0.5),\n",
        "    tfk.layers.RandomZoom(0.5),\n",
        "    tfk.layers.RandomTranslation(width_factor=0.5, height_factor=0.5),\n",
        "    tfk.layers.Cropping2D(cropping=((crop_dim, crop_dim), (crop_dim, crop_dim)), input_shape=input_shape),\n",
        "\n",
        "    # tf.keras.layers.Resizing(height=image_size, width=image_size, interpolation='bilinear', crop_to_aspect_ratio=False),\n",
        "    \n",
        "    # Preprocess for base model\n",
        "    tfk.layers.Lambda(tf.keras.applications.efficientnet_v2.preprocess_input),\n",
        "    # Transfer learning\n",
        "    base_model,\n",
        "    # Global avg\n",
        "    # tfk.layers.Flatten(),\n",
        "\n",
        "    tfk.layers.GlobalAveragePooling2D(),\n",
        "\n",
        "    # Classification\n",
        "    # tfk.layers.Dense(512, activation='relu', kernel_initializer='he_uniform'),\n",
        "    tfk.layers.Dense(192, activation='relu', kernel_initializer='he_uniform'),\n",
        "    tfk.layers.Dense(48, activation='relu', kernel_initializer='he_uniform'),\n",
        "    # Dropout\n",
        "    tfk.layers.Dropout(0.3),\n",
        "    # Output\n",
        "    tfk.layers.Dense(num_classes, activation='softmax')\n",
        "])"
      ],
      "metadata": {
        "id": "xoU0x0up4bR4",
        "pycharm": {
          "name": "#%%\n"
        }
      },
      "execution_count": null,
      "outputs": []
    },
    {
      "cell_type": "code",
      "source": [
        "model.compile(optimizer=tfk.optimizers.Adagrad(learning_rate=0.01, initial_accumulator_value=0.1),\n",
        "              loss=tf.keras.losses.CategoricalCrossentropy(),\n",
        "              metrics=['accuracy'])"
      ],
      "metadata": {
        "id": "F3tWPleN4kC6",
        "pycharm": {
          "name": "#%%\n"
        }
      },
      "execution_count": null,
      "outputs": []
    },
    {
      "cell_type": "code",
      "source": [
        "model.summary()"
      ],
      "metadata": {
        "colab": {
          "base_uri": "https://localhost:8080/"
        },
        "id": "xCAanBCB4nKE",
        "outputId": "42347256-b971-4968-d7e9-b68e640a7c9c",
        "pycharm": {
          "name": "#%%\n"
        }
      },
      "execution_count": null,
      "outputs": [
        {
          "output_type": "stream",
          "name": "stdout",
          "text": [
            "Model: \"sequential_1\"\n",
            "_________________________________________________________________\n",
            " Layer (type)                Output Shape              Param #   \n",
            "=================================================================\n",
            " random_flip_1 (RandomFlip)  (None, 256, 256, 3)       0         \n",
            "                                                                 \n",
            " random_zoom_1 (RandomZoom)  (None, 256, 256, 3)       0         \n",
            "                                                                 \n",
            " random_translation_1 (Rando  (None, 256, 256, 3)      0         \n",
            " mTranslation)                                                   \n",
            "                                                                 \n",
            " cropping2d_1 (Cropping2D)   (None, 224, 224, 3)       0         \n",
            "                                                                 \n",
            " lambda_1 (Lambda)           (None, 224, 224, 3)       0         \n",
            "                                                                 \n",
            " efficientnetv2-b2 (Function  (None, 7, 7, 1408)       8769374   \n",
            " al)                                                             \n",
            "                                                                 \n",
            " global_average_pooling2d_1   (None, 1408)             0         \n",
            " (GlobalAveragePooling2D)                                        \n",
            "                                                                 \n",
            " dense_3 (Dense)             (None, 192)               270528    \n",
            "                                                                 \n",
            " dense_4 (Dense)             (None, 48)                9264      \n",
            "                                                                 \n",
            " dropout_1 (Dropout)         (None, 48)                0         \n",
            "                                                                 \n",
            " dense_5 (Dense)             (None, 8)                 392       \n",
            "                                                                 \n",
            "=================================================================\n",
            "Total params: 9,049,558\n",
            "Trainable params: 8,967,270\n",
            "Non-trainable params: 82,288\n",
            "_________________________________________________________________\n"
          ]
        }
      ]
    },
    {
      "cell_type": "code",
      "source": [
        "epochs = 200"
      ],
      "metadata": {
        "id": "-tjsykR04pAZ",
        "pycharm": {
          "name": "#%%\n"
        }
      },
      "execution_count": null,
      "outputs": []
    },
    {
      "cell_type": "code",
      "source": [
        "history = model.fit(\n",
        "    train_ds,\n",
        "    validation_data=val_ds,\n",
        "    epochs=epochs,\n",
        "    class_weight=class_weight,\n",
        "    callbacks=[tfk.callbacks.EarlyStopping(monitor='val_accuracy', mode='max', patience=10, restore_best_weights=True)]\n",
        "    ).history"
      ],
      "metadata": {
        "colab": {
          "base_uri": "https://localhost:8080/"
        },
        "id": "jb54axct4svz",
        "outputId": "c2d930b3-297a-4869-cda1-1d03081567f8",
        "pycharm": {
          "name": "#%%\n"
        }
      },
      "execution_count": null,
      "outputs": [
        {
          "output_type": "stream",
          "name": "stdout",
          "text": [
            "Epoch 1/200\n",
            "45/45 [==============================] - 463s 8s/step - loss: 2.0677 - accuracy: 0.1757 - val_loss: 1.9694 - val_accuracy: 0.2603\n",
            "Epoch 2/200\n",
            "45/45 [==============================] - 25s 540ms/step - loss: 1.9367 - accuracy: 0.2929 - val_loss: 1.7735 - val_accuracy: 0.3690\n",
            "Epoch 3/200\n",
            "45/45 [==============================] - 26s 552ms/step - loss: 1.7427 - accuracy: 0.3963 - val_loss: 1.5043 - val_accuracy: 0.4448\n",
            "Epoch 4/200\n",
            "45/45 [==============================] - 25s 537ms/step - loss: 1.5534 - accuracy: 0.4527 - val_loss: 1.3382 - val_accuracy: 0.5086\n",
            "Epoch 5/200\n",
            "45/45 [==============================] - 26s 551ms/step - loss: 1.3846 - accuracy: 0.4972 - val_loss: 1.1764 - val_accuracy: 0.5483\n",
            "Epoch 6/200\n",
            "45/45 [==============================] - 25s 540ms/step - loss: 1.2495 - accuracy: 0.5346 - val_loss: 1.0909 - val_accuracy: 0.6052\n",
            "Epoch 7/200\n",
            "45/45 [==============================] - 28s 611ms/step - loss: 1.1424 - accuracy: 0.5843 - val_loss: 0.8981 - val_accuracy: 0.6690\n",
            "Epoch 8/200\n",
            "45/45 [==============================] - 26s 545ms/step - loss: 1.0795 - accuracy: 0.6073 - val_loss: 0.8497 - val_accuracy: 0.7017\n",
            "Epoch 9/200\n",
            "45/45 [==============================] - 26s 550ms/step - loss: 1.0223 - accuracy: 0.6306 - val_loss: 0.7676 - val_accuracy: 0.7241\n",
            "Epoch 10/200\n",
            "45/45 [==============================] - 25s 540ms/step - loss: 0.9569 - accuracy: 0.6563 - val_loss: 0.7501 - val_accuracy: 0.7207\n",
            "Epoch 11/200\n",
            "45/45 [==============================] - 25s 540ms/step - loss: 0.8869 - accuracy: 0.6733 - val_loss: 0.6834 - val_accuracy: 0.7414\n",
            "Epoch 12/200\n",
            "45/45 [==============================] - 26s 562ms/step - loss: 0.8693 - accuracy: 0.6881 - val_loss: 0.6948 - val_accuracy: 0.7397\n",
            "Epoch 13/200\n",
            "45/45 [==============================] - 25s 540ms/step - loss: 0.8359 - accuracy: 0.7138 - val_loss: 0.6413 - val_accuracy: 0.7638\n",
            "Epoch 14/200\n",
            "45/45 [==============================] - 25s 537ms/step - loss: 0.7878 - accuracy: 0.7251 - val_loss: 0.6311 - val_accuracy: 0.7569\n",
            "Epoch 15/200\n",
            "45/45 [==============================] - 25s 546ms/step - loss: 0.7558 - accuracy: 0.7452 - val_loss: 0.6314 - val_accuracy: 0.7466\n",
            "Epoch 16/200\n",
            "45/45 [==============================] - 25s 545ms/step - loss: 0.7438 - accuracy: 0.7410 - val_loss: 0.5771 - val_accuracy: 0.7897\n",
            "Epoch 17/200\n",
            "45/45 [==============================] - 25s 536ms/step - loss: 0.7009 - accuracy: 0.7608 - val_loss: 0.5808 - val_accuracy: 0.7759\n",
            "Epoch 18/200\n",
            "45/45 [==============================] - 25s 545ms/step - loss: 0.6948 - accuracy: 0.7569 - val_loss: 0.5514 - val_accuracy: 0.7879\n",
            "Epoch 19/200\n",
            "45/45 [==============================] - 25s 538ms/step - loss: 0.6460 - accuracy: 0.7781 - val_loss: 0.5530 - val_accuracy: 0.7897\n",
            "Epoch 20/200\n",
            "45/45 [==============================] - 26s 547ms/step - loss: 0.6353 - accuracy: 0.7809 - val_loss: 0.5016 - val_accuracy: 0.8172\n",
            "Epoch 21/200\n",
            "45/45 [==============================] - 25s 538ms/step - loss: 0.6064 - accuracy: 0.7964 - val_loss: 0.5713 - val_accuracy: 0.7759\n",
            "Epoch 22/200\n",
            "45/45 [==============================] - 25s 539ms/step - loss: 0.6222 - accuracy: 0.7893 - val_loss: 0.5314 - val_accuracy: 0.8052\n",
            "Epoch 23/200\n",
            "45/45 [==============================] - 26s 550ms/step - loss: 0.5762 - accuracy: 0.8045 - val_loss: 0.4826 - val_accuracy: 0.8138\n",
            "Epoch 24/200\n",
            "45/45 [==============================] - 26s 550ms/step - loss: 0.5743 - accuracy: 0.8080 - val_loss: 0.4824 - val_accuracy: 0.8345\n",
            "Epoch 25/200\n",
            "45/45 [==============================] - 25s 536ms/step - loss: 0.5602 - accuracy: 0.8116 - val_loss: 0.4755 - val_accuracy: 0.8310\n",
            "Epoch 26/200\n",
            "45/45 [==============================] - 26s 548ms/step - loss: 0.5196 - accuracy: 0.8246 - val_loss: 0.4504 - val_accuracy: 0.8448\n",
            "Epoch 27/200\n",
            "45/45 [==============================] - 25s 541ms/step - loss: 0.5163 - accuracy: 0.8275 - val_loss: 0.4200 - val_accuracy: 0.8534\n",
            "Epoch 28/200\n",
            "45/45 [==============================] - 25s 545ms/step - loss: 0.5001 - accuracy: 0.8370 - val_loss: 0.4653 - val_accuracy: 0.8345\n",
            "Epoch 29/200\n",
            "45/45 [==============================] - 25s 543ms/step - loss: 0.4846 - accuracy: 0.8373 - val_loss: 0.4173 - val_accuracy: 0.8552\n",
            "Epoch 30/200\n",
            "45/45 [==============================] - 25s 544ms/step - loss: 0.4581 - accuracy: 0.8416 - val_loss: 0.3812 - val_accuracy: 0.8707\n",
            "Epoch 31/200\n",
            "45/45 [==============================] - 25s 539ms/step - loss: 0.4618 - accuracy: 0.8437 - val_loss: 0.4188 - val_accuracy: 0.8483\n",
            "Epoch 32/200\n",
            "45/45 [==============================] - 26s 550ms/step - loss: 0.4786 - accuracy: 0.8430 - val_loss: 0.3889 - val_accuracy: 0.8810\n",
            "Epoch 33/200\n",
            "45/45 [==============================] - 25s 538ms/step - loss: 0.4674 - accuracy: 0.8454 - val_loss: 0.4446 - val_accuracy: 0.8379\n",
            "Epoch 34/200\n",
            "45/45 [==============================] - 25s 544ms/step - loss: 0.4143 - accuracy: 0.8624 - val_loss: 0.4067 - val_accuracy: 0.8621\n",
            "Epoch 35/200\n",
            "45/45 [==============================] - 25s 537ms/step - loss: 0.4389 - accuracy: 0.8596 - val_loss: 0.4042 - val_accuracy: 0.8707\n",
            "Epoch 36/200\n",
            "45/45 [==============================] - 26s 546ms/step - loss: 0.4336 - accuracy: 0.8589 - val_loss: 0.3864 - val_accuracy: 0.8776\n",
            "Epoch 37/200\n",
            "45/45 [==============================] - 25s 544ms/step - loss: 0.3846 - accuracy: 0.8776 - val_loss: 0.4171 - val_accuracy: 0.8638\n",
            "Epoch 38/200\n",
            "45/45 [==============================] - 26s 546ms/step - loss: 0.4000 - accuracy: 0.8620 - val_loss: 0.4034 - val_accuracy: 0.8672\n",
            "Epoch 39/200\n",
            "45/45 [==============================] - 25s 543ms/step - loss: 0.3726 - accuracy: 0.8800 - val_loss: 0.3473 - val_accuracy: 0.8828\n",
            "Epoch 40/200\n",
            "45/45 [==============================] - 25s 538ms/step - loss: 0.3993 - accuracy: 0.8656 - val_loss: 0.4196 - val_accuracy: 0.8517\n",
            "Epoch 41/200\n",
            "45/45 [==============================] - 26s 552ms/step - loss: 0.3808 - accuracy: 0.8666 - val_loss: 0.3950 - val_accuracy: 0.8724\n",
            "Epoch 42/200\n",
            "45/45 [==============================] - 25s 537ms/step - loss: 0.4026 - accuracy: 0.8666 - val_loss: 0.3679 - val_accuracy: 0.8810\n",
            "Epoch 43/200\n",
            "45/45 [==============================] - 25s 542ms/step - loss: 0.3803 - accuracy: 0.8772 - val_loss: 0.3893 - val_accuracy: 0.8741\n",
            "Epoch 44/200\n",
            "45/45 [==============================] - 25s 539ms/step - loss: 0.3509 - accuracy: 0.8850 - val_loss: 0.3781 - val_accuracy: 0.8690\n",
            "Epoch 45/200\n",
            "45/45 [==============================] - 26s 551ms/step - loss: 0.3582 - accuracy: 0.8790 - val_loss: 0.3461 - val_accuracy: 0.8948\n",
            "Epoch 46/200\n",
            "45/45 [==============================] - 25s 541ms/step - loss: 0.3437 - accuracy: 0.8804 - val_loss: 0.3821 - val_accuracy: 0.8793\n",
            "Epoch 47/200\n",
            "45/45 [==============================] - 26s 545ms/step - loss: 0.3438 - accuracy: 0.8836 - val_loss: 0.3377 - val_accuracy: 0.8845\n",
            "Epoch 48/200\n",
            "45/45 [==============================] - 25s 542ms/step - loss: 0.3192 - accuracy: 0.9001 - val_loss: 0.3307 - val_accuracy: 0.9000\n",
            "Epoch 49/200\n",
            "45/45 [==============================] - 26s 546ms/step - loss: 0.3358 - accuracy: 0.8892 - val_loss: 0.3119 - val_accuracy: 0.8862\n",
            "Epoch 50/200\n",
            "45/45 [==============================] - 26s 544ms/step - loss: 0.3107 - accuracy: 0.8980 - val_loss: 0.3354 - val_accuracy: 0.8914\n",
            "Epoch 51/200\n",
            "45/45 [==============================] - 25s 537ms/step - loss: 0.3092 - accuracy: 0.8980 - val_loss: 0.3211 - val_accuracy: 0.8914\n",
            "Epoch 52/200\n",
            "45/45 [==============================] - 26s 546ms/step - loss: 0.2972 - accuracy: 0.9008 - val_loss: 0.3338 - val_accuracy: 0.8983\n",
            "Epoch 53/200\n",
            "45/45 [==============================] - 25s 541ms/step - loss: 0.3199 - accuracy: 0.8924 - val_loss: 0.3874 - val_accuracy: 0.8690\n",
            "Epoch 54/200\n",
            "45/45 [==============================] - 25s 543ms/step - loss: 0.3068 - accuracy: 0.9023 - val_loss: 0.2704 - val_accuracy: 0.8983\n",
            "Epoch 55/200\n",
            "45/45 [==============================] - 26s 544ms/step - loss: 0.3249 - accuracy: 0.8966 - val_loss: 0.3550 - val_accuracy: 0.8845\n",
            "Epoch 56/200\n",
            "45/45 [==============================] - 25s 541ms/step - loss: 0.3064 - accuracy: 0.9008 - val_loss: 0.3254 - val_accuracy: 0.8862\n",
            "Epoch 57/200\n",
            "45/45 [==============================] - 25s 540ms/step - loss: 0.3174 - accuracy: 0.8945 - val_loss: 0.2695 - val_accuracy: 0.9138\n",
            "Epoch 58/200\n",
            "45/45 [==============================] - 26s 553ms/step - loss: 0.2723 - accuracy: 0.9100 - val_loss: 0.3465 - val_accuracy: 0.8741\n",
            "Epoch 59/200\n",
            "45/45 [==============================] - 26s 546ms/step - loss: 0.2946 - accuracy: 0.8917 - val_loss: 0.3044 - val_accuracy: 0.9017\n",
            "Epoch 60/200\n",
            "45/45 [==============================] - 25s 538ms/step - loss: 0.2845 - accuracy: 0.9061 - val_loss: 0.3224 - val_accuracy: 0.9000\n",
            "Epoch 61/200\n",
            "45/45 [==============================] - 25s 536ms/step - loss: 0.2829 - accuracy: 0.9072 - val_loss: 0.3100 - val_accuracy: 0.8862\n",
            "Epoch 62/200\n",
            "45/45 [==============================] - 25s 544ms/step - loss: 0.2403 - accuracy: 0.9118 - val_loss: 0.2630 - val_accuracy: 0.9086\n",
            "Epoch 63/200\n",
            "45/45 [==============================] - 26s 539ms/step - loss: 0.2655 - accuracy: 0.9097 - val_loss: 0.3331 - val_accuracy: 0.9034\n",
            "Epoch 64/200\n",
            "45/45 [==============================] - 25s 542ms/step - loss: 0.2549 - accuracy: 0.9118 - val_loss: 0.3654 - val_accuracy: 0.8845\n",
            "Epoch 65/200\n",
            "45/45 [==============================] - 25s 540ms/step - loss: 0.2509 - accuracy: 0.9181 - val_loss: 0.3260 - val_accuracy: 0.8983\n",
            "Epoch 66/200\n",
            "45/45 [==============================] - 26s 545ms/step - loss: 0.2483 - accuracy: 0.9125 - val_loss: 0.3028 - val_accuracy: 0.9069\n",
            "Epoch 67/200\n",
            "45/45 [==============================] - 26s 554ms/step - loss: 0.2515 - accuracy: 0.9100 - val_loss: 0.3176 - val_accuracy: 0.9034\n"
          ]
        }
      ]
    },
    {
      "cell_type": "code",
      "source": [
        "import matplotlib.pyplot as plt\n",
        "\n",
        "# plot the trend of the MSE of the training set (always decreasing of course) and of the validation set\n",
        "plt.figure(figsize=(15,5))\n",
        "plt.plot(history['accuracy'], label='Training', alpha=.8, color='#ff7f0e')\n",
        "plt.plot(history['val_accuracy'], label='Validation', alpha=.8, color='#4D61E2')\n",
        "plt.ylim(0, 1)\n",
        "plt.title('Accuracy')\n",
        "plt.legend(loc='upper right')\n",
        "plt.grid(alpha=.3)\n",
        "plt.show()"
      ],
      "metadata": {
        "colab": {
          "base_uri": "https://localhost:8080/",
          "height": 336
        },
        "id": "MxuCBftc74dm",
        "outputId": "d5426a49-aab1-420a-c40e-9e2280d296d1"
      },
      "execution_count": null,
      "outputs": [
        {
          "output_type": "display_data",
          "data": {
            "text/plain": [
              "<Figure size 1080x360 with 1 Axes>"
            ],
            "image/png": "[encoded data removed]"
          },
          "metadata": {
            "needs_background": "light"
          }
        }
      ]
    },
    {
      "cell_type": "code",
      "source": [
        "loss, acc = model.evaluate(test_ds)\n",
        "print(\"Accuracy\", acc)\n",
        "print(\"Loss\", loss)"
      ],
      "metadata": {
        "colab": {
          "base_uri": "https://localhost:8080/"
        },
        "id": "BTRc0Iw04uVa",
        "outputId": "d811a69b-5aa5-41fe-bcd7-ca4a20e70bc0",
        "pycharm": {
          "name": "#%%\n"
        }
      },
      "execution_count": null,
      "outputs": [
        {
          "output_type": "stream",
          "name": "stdout",
          "text": [
            "2/2 [==============================] - 1s 143ms/step - loss: 0.2385 - accuracy: 0.8984\n",
            "Accuracy 0.8984375\n",
            "Loss 0.2384503185749054\n"
          ]
        }
      ]
    },
    {
      "cell_type": "code",
      "source": [
        "# Save best epoch model\n",
        "model.save(\"V2B2_2\")"
      ],
      "metadata": {
        "id": "AdYt577IJfLm",
        "pycharm": {
          "name": "#%%\n"
        }
      },
      "execution_count": null,
      "outputs": []
    }
  ]
}