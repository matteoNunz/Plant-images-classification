{
  "nbformat": 4,
  "nbformat_minor": 0,
  "metadata": {
    "colab": {
      "provenance": []
    },
    "kernelspec": {
      "name": "python3",
      "display_name": "Python 3"
    },
    "language_info": {
      "name": "python"
    },
    "accelerator": "GPU",
    "gpuClass": "standard"
  },
  "cells": [
    {
      "cell_type": "code",
      "execution_count": null,
      "metadata": {
        "colab": {
          "base_uri": "https://localhost:8080/"
        },
        "id": "6NxPjeHb3KBK",
        "outputId": "13fe082a-9b84-4d2e-851d-a1b05a6cc9b1",
        "pycharm": {
          "name": "#%%\n"
        }
      },
      "outputs": [
        {
          "output_type": "stream",
          "name": "stdout",
          "text": [
            "Looking in indexes: https://pypi.org/simple, https://us-python.pkg.dev/colab-wheels/public/simple/\n",
            "Collecting tensorflow==2.8.3\n",
            "  Downloading tensorflow-2.8.3-cp37-cp37m-manylinux2010_x86_64.whl (497.9 MB)\n",
            "\u001b[K     |████████████████████████████████| 497.9 MB 33 kB/s \n",
            "\u001b[?25hRequirement already satisfied: numpy>=1.20 in /usr/local/lib/python3.7/dist-packages (from tensorflow==2.8.3) (1.21.6)\n",
            "Requirement already satisfied: keras-preprocessing>=1.1.1 in /usr/local/lib/python3.7/dist-packages (from tensorflow==2.8.3) (1.1.2)\n",
            "Collecting tensorboard<2.9,>=2.8\n",
            "  Downloading tensorboard-2.8.0-py3-none-any.whl (5.8 MB)\n",
            "\u001b[K     |████████████████████████████████| 5.8 MB 55.9 MB/s \n",
            "\u001b[?25hRequirement already satisfied: six>=1.12.0 in /usr/local/lib/python3.7/dist-packages (from tensorflow==2.8.3) (1.15.0)\n",
            "Requirement already satisfied: tensorflow-io-gcs-filesystem>=0.23.1 in /usr/local/lib/python3.7/dist-packages (from tensorflow==2.8.3) (0.27.0)\n",
            "Requirement already satisfied: wrapt>=1.11.0 in /usr/local/lib/python3.7/dist-packages (from tensorflow==2.8.3) (1.14.1)\n",
            "Requirement already satisfied: astunparse>=1.6.0 in /usr/local/lib/python3.7/dist-packages (from tensorflow==2.8.3) (1.6.3)\n",
            "Requirement already satisfied: h5py>=2.9.0 in /usr/local/lib/python3.7/dist-packages (from tensorflow==2.8.3) (3.1.0)\n",
            "Requirement already satisfied: absl-py>=0.4.0 in /usr/local/lib/python3.7/dist-packages (from tensorflow==2.8.3) (1.3.0)\n",
            "Requirement already satisfied: setuptools in /usr/local/lib/python3.7/dist-packages (from tensorflow==2.8.3) (57.4.0)\n",
            "Requirement already satisfied: opt-einsum>=2.3.2 in /usr/local/lib/python3.7/dist-packages (from tensorflow==2.8.3) (3.3.0)\n",
            "Requirement already satisfied: termcolor>=1.1.0 in /usr/local/lib/python3.7/dist-packages (from tensorflow==2.8.3) (2.1.0)\n",
            "Requirement already satisfied: libclang>=9.0.1 in /usr/local/lib/python3.7/dist-packages (from tensorflow==2.8.3) (14.0.6)\n",
            "Collecting keras<2.9,>=2.8.0rc0\n",
            "  Downloading keras-2.8.0-py2.py3-none-any.whl (1.4 MB)\n",
            "\u001b[K     |████████████████████████████████| 1.4 MB 52.4 MB/s \n",
            "\u001b[?25hRequirement already satisfied: google-pasta>=0.1.1 in /usr/local/lib/python3.7/dist-packages (from tensorflow==2.8.3) (0.2.0)\n",
            "Requirement already satisfied: protobuf<3.20,>=3.9.2 in /usr/local/lib/python3.7/dist-packages (from tensorflow==2.8.3) (3.19.6)\n",
            "Requirement already satisfied: gast>=0.2.1 in /usr/local/lib/python3.7/dist-packages (from tensorflow==2.8.3) (0.4.0)\n",
            "Requirement already satisfied: grpcio<2.0,>=1.24.3 in /usr/local/lib/python3.7/dist-packages (from tensorflow==2.8.3) (1.50.0)\n",
            "Requirement already satisfied: flatbuffers>=1.12 in /usr/local/lib/python3.7/dist-packages (from tensorflow==2.8.3) (1.12)\n",
            "Collecting tensorflow-estimator<2.9,>=2.8\n",
            "  Downloading tensorflow_estimator-2.8.0-py2.py3-none-any.whl (462 kB)\n",
            "\u001b[K     |████████████████████████████████| 462 kB 70.5 MB/s \n",
            "\u001b[?25hRequirement already satisfied: typing-extensions>=3.6.6 in /usr/local/lib/python3.7/dist-packages (from tensorflow==2.8.3) (4.1.1)\n",
            "Requirement already satisfied: wheel<1.0,>=0.23.0 in /usr/local/lib/python3.7/dist-packages (from astunparse>=1.6.0->tensorflow==2.8.3) (0.38.4)\n",
            "Requirement already satisfied: cached-property in /usr/local/lib/python3.7/dist-packages (from h5py>=2.9.0->tensorflow==2.8.3) (1.5.2)\n",
            "Requirement already satisfied: google-auth<3,>=1.6.3 in /usr/local/lib/python3.7/dist-packages (from tensorboard<2.9,>=2.8->tensorflow==2.8.3) (2.14.1)\n",
            "Requirement already satisfied: google-auth-oauthlib<0.5,>=0.4.1 in /usr/local/lib/python3.7/dist-packages (from tensorboard<2.9,>=2.8->tensorflow==2.8.3) (0.4.6)\n",
            "Requirement already satisfied: tensorboard-data-server<0.7.0,>=0.6.0 in /usr/local/lib/python3.7/dist-packages (from tensorboard<2.9,>=2.8->tensorflow==2.8.3) (0.6.1)\n",
            "Requirement already satisfied: markdown>=2.6.8 in /usr/local/lib/python3.7/dist-packages (from tensorboard<2.9,>=2.8->tensorflow==2.8.3) (3.4.1)\n",
            "Requirement already satisfied: tensorboard-plugin-wit>=1.6.0 in /usr/local/lib/python3.7/dist-packages (from tensorboard<2.9,>=2.8->tensorflow==2.8.3) (1.8.1)\n",
            "Requirement already satisfied: requests<3,>=2.21.0 in /usr/local/lib/python3.7/dist-packages (from tensorboard<2.9,>=2.8->tensorflow==2.8.3) (2.23.0)\n",
            "Requirement already satisfied: werkzeug>=0.11.15 in /usr/local/lib/python3.7/dist-packages (from tensorboard<2.9,>=2.8->tensorflow==2.8.3) (1.0.1)\n",
            "Requirement already satisfied: rsa<5,>=3.1.4 in /usr/local/lib/python3.7/dist-packages (from google-auth<3,>=1.6.3->tensorboard<2.9,>=2.8->tensorflow==2.8.3) (4.9)\n",
            "Requirement already satisfied: pyasn1-modules>=0.2.1 in /usr/local/lib/python3.7/dist-packages (from google-auth<3,>=1.6.3->tensorboard<2.9,>=2.8->tensorflow==2.8.3) (0.2.8)\n",
            "Requirement already satisfied: cachetools<6.0,>=2.0.0 in /usr/local/lib/python3.7/dist-packages (from google-auth<3,>=1.6.3->tensorboard<2.9,>=2.8->tensorflow==2.8.3) (5.2.0)\n",
            "Requirement already satisfied: requests-oauthlib>=0.7.0 in /usr/local/lib/python3.7/dist-packages (from google-auth-oauthlib<0.5,>=0.4.1->tensorboard<2.9,>=2.8->tensorflow==2.8.3) (1.3.1)\n",
            "Requirement already satisfied: importlib-metadata>=4.4 in /usr/local/lib/python3.7/dist-packages (from markdown>=2.6.8->tensorboard<2.9,>=2.8->tensorflow==2.8.3) (4.13.0)\n",
            "Requirement already satisfied: zipp>=0.5 in /usr/local/lib/python3.7/dist-packages (from importlib-metadata>=4.4->markdown>=2.6.8->tensorboard<2.9,>=2.8->tensorflow==2.8.3) (3.10.0)\n",
            "Requirement already satisfied: pyasn1<0.5.0,>=0.4.6 in /usr/local/lib/python3.7/dist-packages (from pyasn1-modules>=0.2.1->google-auth<3,>=1.6.3->tensorboard<2.9,>=2.8->tensorflow==2.8.3) (0.4.8)\n",
            "Requirement already satisfied: urllib3!=1.25.0,!=1.25.1,<1.26,>=1.21.1 in /usr/local/lib/python3.7/dist-packages (from requests<3,>=2.21.0->tensorboard<2.9,>=2.8->tensorflow==2.8.3) (1.24.3)\n",
            "Requirement already satisfied: chardet<4,>=3.0.2 in /usr/local/lib/python3.7/dist-packages (from requests<3,>=2.21.0->tensorboard<2.9,>=2.8->tensorflow==2.8.3) (3.0.4)\n",
            "Requirement already satisfied: idna<3,>=2.5 in /usr/local/lib/python3.7/dist-packages (from requests<3,>=2.21.0->tensorboard<2.9,>=2.8->tensorflow==2.8.3) (2.10)\n",
            "Requirement already satisfied: certifi>=2017.4.17 in /usr/local/lib/python3.7/dist-packages (from requests<3,>=2.21.0->tensorboard<2.9,>=2.8->tensorflow==2.8.3) (2022.9.24)\n",
            "Requirement already satisfied: oauthlib>=3.0.0 in /usr/local/lib/python3.7/dist-packages (from requests-oauthlib>=0.7.0->google-auth-oauthlib<0.5,>=0.4.1->tensorboard<2.9,>=2.8->tensorflow==2.8.3) (3.2.2)\n",
            "Installing collected packages: tensorflow-estimator, tensorboard, keras, tensorflow\n",
            "  Attempting uninstall: tensorflow-estimator\n",
            "    Found existing installation: tensorflow-estimator 2.9.0\n",
            "    Uninstalling tensorflow-estimator-2.9.0:\n",
            "      Successfully uninstalled tensorflow-estimator-2.9.0\n",
            "  Attempting uninstall: tensorboard\n",
            "    Found existing installation: tensorboard 2.9.1\n",
            "    Uninstalling tensorboard-2.9.1:\n",
            "      Successfully uninstalled tensorboard-2.9.1\n",
            "  Attempting uninstall: keras\n",
            "    Found existing installation: keras 2.9.0\n",
            "    Uninstalling keras-2.9.0:\n",
            "      Successfully uninstalled keras-2.9.0\n",
            "  Attempting uninstall: tensorflow\n",
            "    Found existing installation: tensorflow 2.9.2\n",
            "    Uninstalling tensorflow-2.9.2:\n",
            "      Successfully uninstalled tensorflow-2.9.2\n",
            "Successfully installed keras-2.8.0 tensorboard-2.8.0 tensorflow-2.8.3 tensorflow-estimator-2.8.0\n",
            "2.8.3\n"
          ]
        }
      ],
      "source": [
        "!pip install tensorflow==2.8.3\n",
        "import tensorflow as tf\n",
        "import numpy as np\n",
        "import os\n",
        "import random\n",
        "import tensorboard\n",
        "import datetime\n",
        "\n",
        "tfk = tf.keras\n",
        "tfkl = tf.keras.layers\n",
        "print(tf.__version__)"
      ]
    },
    {
      "cell_type": "code",
      "source": [
        "from google.colab import drive\n",
        "drive.mount('/content/drive')"
      ],
      "metadata": {
        "colab": {
          "base_uri": "https://localhost:8080/"
        },
        "id": "WIR7gJGz5Nqy",
        "outputId": "5b363200-436f-439b-df39-333d56790dc2",
        "pycharm": {
          "name": "#%%\n"
        }
      },
      "execution_count": null,
      "outputs": [
        {
          "output_type": "stream",
          "name": "stdout",
          "text": [
            "Mounted at /content/drive\n"
          ]
        }
      ]
    },
    {
      "cell_type": "code",
      "source": [
        "# Random seed for reproducibility\n",
        "seed = 54721\n",
        "\n",
        "random.seed(seed)\n",
        "os.environ['PYTHONHASHSEED'] = str(seed)\n",
        "np.random.seed(seed)\n",
        "tf.random.set_seed(seed)\n",
        "tf.compat.v1.set_random_seed(seed)"
      ],
      "metadata": {
        "id": "M670wyKl3Lhw",
        "pycharm": {
          "name": "#%%\n"
        }
      },
      "execution_count": null,
      "outputs": []
    },
    {
      "cell_type": "code",
      "source": [
        "%cd /content/drive/MyDrive/ANN&DL\n",
        "dataset_dir = 'training_data_final'\n",
        "image_size = 96\n",
        "# image_size = 331\n",
        "batch_size = 64"
      ],
      "metadata": {
        "colab": {
          "base_uri": "https://localhost:8080/"
        },
        "id": "YzAbBviu3YJW",
        "outputId": "8b23b758-07e8-4f90-9e63-7dcf254ef9f0",
        "pycharm": {
          "name": "#%%\n"
        }
      },
      "execution_count": null,
      "outputs": [
        {
          "output_type": "stream",
          "name": "stdout",
          "text": [
            "/content/drive/MyDrive/ANN&DL\n"
          ]
        }
      ]
    },
    {
      "cell_type": "code",
      "source": [
        "class_names = ['Species1', 'Species2', 'Species3', 'Species4', 'Species5', 'Species6', 'Species7', 'Species8']\n",
        "class_samples = [0] * len(class_names)"
      ],
      "metadata": {
        "id": "tjF8JhS_3n7p",
        "pycharm": {
          "name": "#%%\n"
        }
      },
      "execution_count": null,
      "outputs": []
    },
    {
      "cell_type": "code",
      "source": [
        "for i, class_name in enumerate(class_names):\n",
        "    class_dir = '{}/{}/'.format(dataset_dir, class_name)\n",
        "    class_samples[i] = len(os.listdir(class_dir))"
      ],
      "metadata": {
        "id": "05MKlhMs3tW4",
        "pycharm": {
          "name": "#%%\n"
        }
      },
      "execution_count": null,
      "outputs": []
    },
    {
      "cell_type": "code",
      "source": [
        "total_samples = sum(class_samples)\n",
        "class_weight = list(total_samples / (len(class_names) * np.array(class_samples)))\n",
        "class_weight = {i: class_weight[i] for i in range(len(class_weight))}"
      ],
      "metadata": {
        "id": "jmua8QXM3u_f",
        "pycharm": {
          "name": "#%%\n"
        }
      },
      "execution_count": null,
      "outputs": []
    },
    {
      "cell_type": "code",
      "source": [
        "print('Class weights: {}'.format(class_weight))"
      ],
      "metadata": {
        "colab": {
          "base_uri": "https://localhost:8080/"
        },
        "id": "G4Mrm-7531KI",
        "outputId": "670ccc21-7fd7-4c9e-8c74-b8cd0eb44476",
        "pycharm": {
          "name": "#%%\n"
        }
      },
      "execution_count": null,
      "outputs": [
        {
          "output_type": "stream",
          "name": "stdout",
          "text": [
            "Class weights: {0: 2.3803763440860215, 1: 0.8322368421052632, 2: 0.8597087378640776, 3: 0.8664383561643836, 4: 0.833804143126177, 5: 1.9943693693693694, 6: 0.824487895716946, 7: 0.8715551181102362}\n"
          ]
        }
      ]
    },
    {
      "cell_type": "code",
      "source": [
        "train_ds = tf.keras.utils.image_dataset_from_directory(\n",
        "    dataset_dir,\n",
        "    validation_split=0.2,\n",
        "    subset=\"training\",\n",
        "    shuffle=True,\n",
        "    seed=seed,\n",
        "    image_size=(image_size, image_size),\n",
        "    batch_size=batch_size)"
      ],
      "metadata": {
        "colab": {
          "base_uri": "https://localhost:8080/"
        },
        "id": "FH9S_dEY31pN",
        "outputId": "382590b0-1edc-4e7e-e320-3b56a5c175de",
        "pycharm": {
          "name": "#%%\n"
        }
      },
      "execution_count": null,
      "outputs": [
        {
          "output_type": "stream",
          "name": "stdout",
          "text": [
            "Found 3542 files belonging to 8 classes.\n",
            "Using 2834 files for training.\n"
          ]
        }
      ]
    },
    {
      "cell_type": "code",
      "source": [
        "val_ds = tf.keras.utils.image_dataset_from_directory(\n",
        "    dataset_dir,\n",
        "    validation_split=0.2,\n",
        "    subset=\"validation\",\n",
        "    shuffle=True,\n",
        "    seed=seed,\n",
        "    image_size=(image_size, image_size),\n",
        "    batch_size=batch_size)"
      ],
      "metadata": {
        "colab": {
          "base_uri": "https://localhost:8080/"
        },
        "id": "y8s2sxjl36rv",
        "outputId": "98004512-6e5a-45ff-ed39-abfad3df5b94",
        "pycharm": {
          "name": "#%%\n"
        }
      },
      "execution_count": null,
      "outputs": [
        {
          "output_type": "stream",
          "name": "stdout",
          "text": [
            "Found 3542 files belonging to 8 classes.\n",
            "Using 708 files for validation.\n"
          ]
        }
      ]
    },
    {
      "cell_type": "code",
      "source": [
        "val_batches = tf.data.experimental.cardinality(val_ds)\n",
        "test_ds = val_ds.take(val_batches // 5)\n",
        "validation_dataset = val_ds.skip(val_batches // 5)"
      ],
      "metadata": {
        "id": "FxPnyxYV3_XK",
        "pycharm": {
          "name": "#%%\n"
        }
      },
      "execution_count": null,
      "outputs": []
    },
    {
      "cell_type": "code",
      "source": [
        "class_names = train_ds.class_names\n",
        "num_classes = len(class_names)"
      ],
      "metadata": {
        "id": "xW0pHMXQ4GiZ",
        "pycharm": {
          "name": "#%%\n"
        }
      },
      "execution_count": null,
      "outputs": []
    },
    {
      "cell_type": "code",
      "source": [
        "# Add caching to dataset\n",
        "AUTOTUNE = tf.data.AUTOTUNE\n",
        "train_ds = train_ds.prefetch(buffer_size=AUTOTUNE)\n",
        "val_ds = validation_dataset.prefetch(buffer_size=AUTOTUNE)\n",
        "test_ds = test_ds.prefetch(buffer_size=AUTOTUNE)"
      ],
      "metadata": {
        "id": "-HPT0GSz4PKX",
        "pycharm": {
          "name": "#%%\n"
        }
      },
      "execution_count": null,
      "outputs": []
    },
    {
      "cell_type": "code",
      "source": [
        "# Use one-hot encoding for labels\n",
        "train_ds = train_ds.map(lambda x, y: (x, tf.one_hot(y, depth=num_classes)))\n",
        "val_ds = val_ds.map(lambda x, y: (x, tf.one_hot(y, depth=num_classes)))\n",
        "test_ds = test_ds.map(lambda x, y: (x, tf.one_hot(y, depth=num_classes)))"
      ],
      "metadata": {
        "id": "ONLJajm74R8w",
        "pycharm": {
          "name": "#%%\n"
        }
      },
      "execution_count": null,
      "outputs": []
    },
    {
      "cell_type": "code",
      "source": [
        "crop_dim = 3\n",
        "input_shape = (image_size, image_size, 3)\n",
        "input_shape_cropping = (image_size-crop_dim*2, image_size-crop_dim*2, 3)"
      ],
      "metadata": {
        "id": "QIj2Z8fw4UFm",
        "pycharm": {
          "name": "#%%\n"
        }
      },
      "execution_count": null,
      "outputs": []
    },
    {
      "cell_type": "code",
      "source": [
        "base_model = tf.keras.applications.EfficientNetV2B2(\n",
        "    input_shape=input_shape,\n",
        "    include_top=False,\n",
        "    weights='imagenet')\n",
        "base_model.trainable = True"
      ],
      "metadata": {
        "colab": {
          "base_uri": "https://localhost:8080/"
        },
        "id": "s9iSE-uS4Wcd",
        "outputId": "0825f401-676c-41cd-dcbb-96a5e4349b18",
        "pycharm": {
          "name": "#%%\n"
        }
      },
      "execution_count": null,
      "outputs": [
        {
          "output_type": "stream",
          "name": "stdout",
          "text": [
            "Downloading data from https://storage.googleapis.com/tensorflow/keras-applications/efficientnet_v2/efficientnetv2-b2_notop.h5\n",
            "35840000/35839040 [==============================] - 0s 0us/step\n",
            "35848192/35839040 [==============================] - 0s 0us/step\n"
          ]
        }
      ]
    },
    {
      "cell_type": "code",
      "source": [
        "model = tfk.Sequential([\n",
        "    tfk.layers.Input(shape=input_shape),\n",
        "    # Augmentation\n",
        "    tfk.layers.RandomFlip(\"horizontal_and_vertical\", input_shape=input_shape),\n",
        "    # tfk.layers.RandomRotation(0.5),\n",
        "    tfk.layers.RandomZoom(0.5),\n",
        "    tfk.layers.RandomTranslation(width_factor=0.5, height_factor=0.5),\n",
        "    tfk.layers.Cropping2D(cropping=((crop_dim, crop_dim), (crop_dim, crop_dim)), input_shape=input_shape),\n",
        "\n",
        "    tf.keras.layers.Resizing(height=image_size, width=image_size, interpolation='bilinear', crop_to_aspect_ratio=False),\n",
        "    \n",
        "    # Preprocess for base model\n",
        "    tfk.layers.Lambda(tf.keras.applications.efficientnet_v2.preprocess_input),\n",
        "    # Transfer learning\n",
        "    base_model,\n",
        "    # Global avg\n",
        "    # tfk.layers.Flatten(),\n",
        "\n",
        "    tfk.layers.GlobalAveragePooling2D(),\n",
        "\n",
        "    # Classification\n",
        "    # tfk.layers.Dense(512, activation='relu', kernel_initializer='he_uniform'),\n",
        "    tfk.layers.Dense(192, activation='relu', kernel_initializer='he_uniform'),\n",
        "    tfk.layers.Dense(48, activation='relu', kernel_initializer='he_uniform'),\n",
        "    # Dropout\n",
        "    tfk.layers.Dropout(0.3),\n",
        "    # Output\n",
        "    tfk.layers.Dense(num_classes, activation='softmax')\n",
        "])"
      ],
      "metadata": {
        "id": "xoU0x0up4bR4",
        "pycharm": {
          "name": "#%%\n"
        }
      },
      "execution_count": null,
      "outputs": []
    },
    {
      "cell_type": "code",
      "source": [
        "model.compile(optimizer=tfk.optimizers.Adagrad(learning_rate=0.01, initial_accumulator_value=0.1),\n",
        "              loss=tf.keras.losses.CategoricalCrossentropy(),\n",
        "              metrics=['accuracy'])"
      ],
      "metadata": {
        "id": "F3tWPleN4kC6",
        "pycharm": {
          "name": "#%%\n"
        }
      },
      "execution_count": null,
      "outputs": []
    },
    {
      "cell_type": "code",
      "source": [
        "model.summary()"
      ],
      "metadata": {
        "colab": {
          "base_uri": "https://localhost:8080/"
        },
        "id": "xCAanBCB4nKE",
        "outputId": "5db30f98-bf26-4400-b079-5389df58fba4",
        "pycharm": {
          "name": "#%%\n"
        }
      },
      "execution_count": null,
      "outputs": [
        {
          "output_type": "stream",
          "name": "stdout",
          "text": [
            "Model: \"sequential\"\n",
            "_________________________________________________________________\n",
            " Layer (type)                Output Shape              Param #   \n",
            "=================================================================\n",
            " random_flip (RandomFlip)    (None, 96, 96, 3)         0         \n",
            "                                                                 \n",
            " random_zoom (RandomZoom)    (None, 96, 96, 3)         0         \n",
            "                                                                 \n",
            " random_translation (RandomT  (None, 96, 96, 3)        0         \n",
            " ranslation)                                                     \n",
            "                                                                 \n",
            " cropping2d (Cropping2D)     (None, 90, 90, 3)         0         \n",
            "                                                                 \n",
            " resizing (Resizing)         (None, 96, 96, 3)         0         \n",
            "                                                                 \n",
            " lambda (Lambda)             (None, 96, 96, 3)         0         \n",
            "                                                                 \n",
            " efficientnetv2-b2 (Function  (None, 3, 3, 1408)       8769374   \n",
            " al)                                                             \n",
            "                                                                 \n",
            " global_average_pooling2d (G  (None, 1408)             0         \n",
            " lobalAveragePooling2D)                                          \n",
            "                                                                 \n",
            " dense (Dense)               (None, 192)               270528    \n",
            "                                                                 \n",
            " dense_1 (Dense)             (None, 48)                9264      \n",
            "                                                                 \n",
            " dropout (Dropout)           (None, 48)                0         \n",
            "                                                                 \n",
            " dense_2 (Dense)             (None, 8)                 392       \n",
            "                                                                 \n",
            "=================================================================\n",
            "Total params: 9,049,558\n",
            "Trainable params: 8,967,270\n",
            "Non-trainable params: 82,288\n",
            "_________________________________________________________________\n"
          ]
        }
      ]
    },
    {
      "cell_type": "code",
      "source": [
        "epochs = 200"
      ],
      "metadata": {
        "id": "-tjsykR04pAZ",
        "pycharm": {
          "name": "#%%\n"
        }
      },
      "execution_count": null,
      "outputs": []
    },
    {
      "cell_type": "code",
      "source": [
        "history = model.fit(\n",
        "    train_ds,\n",
        "    validation_data=val_ds,\n",
        "    epochs=epochs,\n",
        "    class_weight=class_weight,\n",
        "    callbacks=[tfk.callbacks.EarlyStopping(monitor='val_accuracy', mode='max', patience=10, restore_best_weights=True)]\n",
        "    ).history"
      ],
      "metadata": {
        "colab": {
          "base_uri": "https://localhost:8080/"
        },
        "id": "jb54axct4svz",
        "outputId": "2a8c1bbd-fbfd-4d4b-9795-a6cd6f1256b0",
        "pycharm": {
          "name": "#%%\n"
        }
      },
      "execution_count": null,
      "outputs": [
        {
          "output_type": "stream",
          "name": "stdout",
          "text": [
            "Epoch 1/200\n",
            "45/45 [==============================] - 257s 4s/step - loss: 2.0561 - accuracy: 0.1754 - val_loss: 2.0010 - val_accuracy: 0.1983\n",
            "Epoch 2/200\n",
            "45/45 [==============================] - 7s 154ms/step - loss: 1.9323 - accuracy: 0.2438 - val_loss: 1.8929 - val_accuracy: 0.2828\n",
            "Epoch 3/200\n",
            "45/45 [==============================] - 8s 155ms/step - loss: 1.7653 - accuracy: 0.3296 - val_loss: 1.7587 - val_accuracy: 0.3655\n",
            "Epoch 4/200\n",
            "45/45 [==============================] - 8s 154ms/step - loss: 1.6191 - accuracy: 0.3899 - val_loss: 1.6263 - val_accuracy: 0.4190\n",
            "Epoch 5/200\n",
            "45/45 [==============================] - 8s 156ms/step - loss: 1.4725 - accuracy: 0.4524 - val_loss: 1.4787 - val_accuracy: 0.4690\n",
            "Epoch 6/200\n",
            "45/45 [==============================] - 8s 155ms/step - loss: 1.3814 - accuracy: 0.4884 - val_loss: 1.3957 - val_accuracy: 0.4948\n",
            "Epoch 7/200\n",
            "45/45 [==============================] - 8s 154ms/step - loss: 1.3232 - accuracy: 0.5141 - val_loss: 1.3408 - val_accuracy: 0.5431\n",
            "Epoch 8/200\n",
            "45/45 [==============================] - 7s 153ms/step - loss: 1.2474 - accuracy: 0.5466 - val_loss: 1.2265 - val_accuracy: 0.5466\n",
            "Epoch 9/200\n",
            "45/45 [==============================] - 8s 159ms/step - loss: 1.1775 - accuracy: 0.5635 - val_loss: 1.1152 - val_accuracy: 0.5931\n",
            "Epoch 10/200\n",
            "45/45 [==============================] - 8s 160ms/step - loss: 1.1357 - accuracy: 0.5953 - val_loss: 1.0603 - val_accuracy: 0.6121\n",
            "Epoch 11/200\n",
            "45/45 [==============================] - 8s 160ms/step - loss: 1.0949 - accuracy: 0.6171 - val_loss: 0.9665 - val_accuracy: 0.6414\n",
            "Epoch 12/200\n",
            "45/45 [==============================] - 7s 155ms/step - loss: 1.0635 - accuracy: 0.6196 - val_loss: 0.9688 - val_accuracy: 0.6483\n",
            "Epoch 13/200\n",
            "45/45 [==============================] - 8s 159ms/step - loss: 0.9857 - accuracy: 0.6507 - val_loss: 0.8952 - val_accuracy: 0.6690\n",
            "Epoch 14/200\n",
            "45/45 [==============================] - 7s 153ms/step - loss: 0.9937 - accuracy: 0.6521 - val_loss: 0.8083 - val_accuracy: 0.7155\n",
            "Epoch 15/200\n",
            "45/45 [==============================] - 7s 153ms/step - loss: 0.9620 - accuracy: 0.6634 - val_loss: 0.8159 - val_accuracy: 0.7103\n",
            "Epoch 16/200\n",
            "45/45 [==============================] - 8s 155ms/step - loss: 0.9096 - accuracy: 0.6764 - val_loss: 0.7411 - val_accuracy: 0.7310\n",
            "Epoch 17/200\n",
            "45/45 [==============================] - 7s 149ms/step - loss: 0.9023 - accuracy: 0.6874 - val_loss: 0.7574 - val_accuracy: 0.7155\n",
            "Epoch 18/200\n",
            "45/45 [==============================] - 8s 155ms/step - loss: 0.8752 - accuracy: 0.6937 - val_loss: 0.7611 - val_accuracy: 0.7276\n",
            "Epoch 19/200\n",
            "45/45 [==============================] - 7s 150ms/step - loss: 0.8557 - accuracy: 0.7040 - val_loss: 0.7224 - val_accuracy: 0.7190\n",
            "Epoch 20/200\n",
            "45/45 [==============================] - 7s 152ms/step - loss: 0.8328 - accuracy: 0.7100 - val_loss: 0.6976 - val_accuracy: 0.7328\n",
            "Epoch 21/200\n",
            "45/45 [==============================] - 7s 153ms/step - loss: 0.8199 - accuracy: 0.7128 - val_loss: 0.7133 - val_accuracy: 0.7534\n",
            "Epoch 22/200\n",
            "45/45 [==============================] - 8s 157ms/step - loss: 0.7943 - accuracy: 0.7318 - val_loss: 0.7167 - val_accuracy: 0.7431\n",
            "Epoch 23/200\n",
            "45/45 [==============================] - 10s 198ms/step - loss: 0.7943 - accuracy: 0.7269 - val_loss: 0.6787 - val_accuracy: 0.7621\n",
            "Epoch 24/200\n",
            "45/45 [==============================] - 7s 154ms/step - loss: 0.7697 - accuracy: 0.7308 - val_loss: 0.6546 - val_accuracy: 0.7741\n",
            "Epoch 25/200\n",
            "45/45 [==============================] - 7s 152ms/step - loss: 0.7203 - accuracy: 0.7551 - val_loss: 0.6097 - val_accuracy: 0.7724\n",
            "Epoch 26/200\n",
            "45/45 [==============================] - 7s 155ms/step - loss: 0.7136 - accuracy: 0.7544 - val_loss: 0.6233 - val_accuracy: 0.7776\n",
            "Epoch 27/200\n",
            "45/45 [==============================] - 7s 152ms/step - loss: 0.7063 - accuracy: 0.7548 - val_loss: 0.6339 - val_accuracy: 0.7810\n",
            "Epoch 28/200\n",
            "45/45 [==============================] - 7s 152ms/step - loss: 0.6988 - accuracy: 0.7565 - val_loss: 0.5735 - val_accuracy: 0.7931\n",
            "Epoch 29/200\n",
            "45/45 [==============================] - 7s 153ms/step - loss: 0.6865 - accuracy: 0.7703 - val_loss: 0.5790 - val_accuracy: 0.8052\n",
            "Epoch 30/200\n",
            "45/45 [==============================] - 7s 151ms/step - loss: 0.6446 - accuracy: 0.7763 - val_loss: 0.5637 - val_accuracy: 0.8017\n",
            "Epoch 31/200\n",
            "45/45 [==============================] - 7s 151ms/step - loss: 0.6673 - accuracy: 0.7773 - val_loss: 0.5768 - val_accuracy: 0.7966\n",
            "Epoch 32/200\n",
            "45/45 [==============================] - 7s 149ms/step - loss: 0.6545 - accuracy: 0.7657 - val_loss: 0.5825 - val_accuracy: 0.7983\n",
            "Epoch 33/200\n",
            "45/45 [==============================] - 7s 152ms/step - loss: 0.6566 - accuracy: 0.7759 - val_loss: 0.5754 - val_accuracy: 0.7879\n",
            "Epoch 34/200\n",
            "45/45 [==============================] - 7s 149ms/step - loss: 0.6233 - accuracy: 0.7848 - val_loss: 0.5619 - val_accuracy: 0.7966\n",
            "Epoch 35/200\n",
            "45/45 [==============================] - 7s 152ms/step - loss: 0.6087 - accuracy: 0.7876 - val_loss: 0.5090 - val_accuracy: 0.8414\n",
            "Epoch 36/200\n",
            "45/45 [==============================] - 7s 152ms/step - loss: 0.5645 - accuracy: 0.8042 - val_loss: 0.5148 - val_accuracy: 0.8293\n",
            "Epoch 37/200\n",
            "45/45 [==============================] - 8s 158ms/step - loss: 0.5989 - accuracy: 0.8006 - val_loss: 0.5068 - val_accuracy: 0.8362\n",
            "Epoch 38/200\n",
            "45/45 [==============================] - 7s 149ms/step - loss: 0.5774 - accuracy: 0.8013 - val_loss: 0.5324 - val_accuracy: 0.8224\n",
            "Epoch 39/200\n",
            "45/45 [==============================] - 7s 148ms/step - loss: 0.5576 - accuracy: 0.8091 - val_loss: 0.5615 - val_accuracy: 0.8017\n",
            "Epoch 40/200\n",
            "45/45 [==============================] - 7s 151ms/step - loss: 0.5770 - accuracy: 0.8133 - val_loss: 0.6032 - val_accuracy: 0.7948\n",
            "Epoch 41/200\n",
            "45/45 [==============================] - 8s 156ms/step - loss: 0.5777 - accuracy: 0.8063 - val_loss: 0.5253 - val_accuracy: 0.8328\n",
            "Epoch 42/200\n",
            "45/45 [==============================] - 7s 151ms/step - loss: 0.5417 - accuracy: 0.8126 - val_loss: 0.5411 - val_accuracy: 0.8259\n",
            "Epoch 43/200\n",
            "45/45 [==============================] - 7s 150ms/step - loss: 0.5501 - accuracy: 0.8123 - val_loss: 0.5036 - val_accuracy: 0.8328\n",
            "Epoch 44/200\n",
            "45/45 [==============================] - 7s 150ms/step - loss: 0.5219 - accuracy: 0.8253 - val_loss: 0.4970 - val_accuracy: 0.8155\n",
            "Epoch 45/200\n",
            "45/45 [==============================] - 8s 164ms/step - loss: 0.5235 - accuracy: 0.8239 - val_loss: 0.5002 - val_accuracy: 0.8276\n"
          ]
        }
      ]
    },
    {
      "cell_type": "code",
      "source": [
        "import matplotlib.pyplot as plt\n",
        "\n",
        "# plot the trend of the MSE of the training set (always decreasing of course) and of the validation set\n",
        "plt.figure(figsize=(15,5))\n",
        "plt.plot(history['accuracy'], label='Training', alpha=.8, color='#ff7f0e')\n",
        "plt.plot(history['val_accuracy'], label='Validation', alpha=.8, color='#4D61E2')\n",
        "plt.ylim(0, 1)\n",
        "plt.title('Accuracy')\n",
        "plt.legend(loc='upper right')\n",
        "plt.grid(alpha=.3)\n",
        "plt.show()"
      ],
      "metadata": {
        "colab": {
          "base_uri": "https://localhost:8080/",
          "height": 336
        },
        "id": "MxuCBftc74dm",
        "outputId": "c5f33c5a-6c0a-41be-de85-8e09e4aea427"
      },
      "execution_count": null,
      "outputs": [
        {
          "output_type": "display_data",
          "data": {
            "text/plain": [
              "<Figure size 1080x360 with 1 Axes>"
            ],
            "image/png": "[encoded data removed]"
          },
          "metadata": {
            "needs_background": "light"
          }
        }
      ]
    },
    {
      "cell_type": "code",
      "source": [
        "loss, acc = model.evaluate(test_ds)\n",
        "print(\"Accuracy\", acc)\n",
        "print(\"Loss\", loss)"
      ],
      "metadata": {
        "colab": {
          "base_uri": "https://localhost:8080/"
        },
        "id": "BTRc0Iw04uVa",
        "outputId": "f7cbb924-3030-4349-984f-d77891d8993b",
        "pycharm": {
          "name": "#%%\n"
        }
      },
      "execution_count": null,
      "outputs": [
        {
          "output_type": "stream",
          "name": "stdout",
          "text": [
            "2/2 [==============================] - 1s 66ms/step - loss: 0.3927 - accuracy: 0.8750\n",
            "Accuracy 0.875\n",
            "Loss 0.3926621675491333\n"
          ]
        }
      ]
    },
    {
      "cell_type": "code",
      "source": [
        "# Save best epoch model\n",
        "model.save(\"V2B2_1\")"
      ],
      "metadata": {
        "id": "AdYt577IJfLm",
        "pycharm": {
          "name": "#%%\n"
        }
      },
      "execution_count": null,
      "outputs": []
    },
    {
      "cell_type": "code",
      "source": [],
      "metadata": {
        "id": "86uxQFPcJrgq",
        "pycharm": {
          "name": "#%%\n"
        }
      },
      "execution_count": null,
      "outputs": []
    }
  ]
}