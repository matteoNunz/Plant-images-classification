{
  "cells": [
    {
      "cell_type": "code",
      "execution_count": null,
      "outputs": [
        {
          "name": "stdout",
          "output_type": "stream",
          "text": [
            "2.8.3\n"
          ]
        }
      ],
      "source": [
        "!pip install tensorflow==2.8.3\n",
        "import tensorflow as tf\n",
        "import numpy as np\n",
        "import os\n",
        "import random\n",
        "import tensorboard\n",
        "import datetime\n",
        "\n",
        "tfk = tf.keras\n",
        "tfkl = tf.keras.layers\n",
        "print(tf.__version__)"
      ],
      "metadata": {
        "id": "WMTqsbcGsoU4",
        "outputId": "0edf175a-ccfa-468c-efbf-23bddcbda760"
      }
    },
    {
      "cell_type": "code",
      "execution_count": null,
      "outputs": [],
      "source": [
        "from google.colab import drive\n",
        "drive.mount('/content/drive')"
      ],
      "metadata": {
        "id": "7_9LKCQCsoU_"
      }
    },
    {
      "cell_type": "code",
      "execution_count": null,
      "outputs": [],
      "source": [
        "# Random seed for reproducibility\n",
        "seed = 54721\n",
        "\n",
        "random.seed(seed)\n",
        "os.environ['PYTHONHASHSEED'] = str(seed)\n",
        "np.random.seed(seed)\n",
        "tf.random.set_seed(seed)\n",
        "tf.compat.v1.set_random_seed(seed)"
      ],
      "metadata": {
        "id": "OZSuZTrZsoVC"
      }
    },
    {
      "cell_type": "code",
      "execution_count": null,
      "outputs": [],
      "source": [
        "%cd /content/drive/MyDrive/ANN&DL\n",
        "dataset_dir = 'training_data_final'\n",
        "# image_size = 96\n",
        "image_size = 256\n",
        "batch_size = 64"
      ],
      "metadata": {
        "id": "7S3j156vsoVF"
      }
    },
    {
      "cell_type": "code",
      "execution_count": null,
      "outputs": [],
      "source": [
        "class_names = ['Species1', 'Species2', 'Species3', 'Species4', 'Species5', 'Species6', 'Species7', 'Species8']\n",
        "class_samples = [0] * len(class_names)"
      ],
      "metadata": {
        "id": "DhgomqKisoVH"
      }
    },
    {
      "cell_type": "code",
      "execution_count": null,
      "outputs": [],
      "source": [
        "for i, class_name in enumerate(class_names):\n",
        "    class_dir = '{}/{}/'.format(dataset_dir, class_name)\n",
        "    class_samples[i] = len(os.listdir(class_dir))"
      ],
      "metadata": {
        "id": "Tovqje5rsoVJ"
      }
    },
    {
      "cell_type": "code",
      "execution_count": null,
      "outputs": [],
      "source": [
        "total_samples = sum(class_samples)\n",
        "class_weight = list(total_samples / (len(class_names) * np.array(class_samples)))\n",
        "class_weight = {i: class_weight[i] for i in range(len(class_weight))}"
      ],
      "metadata": {
        "id": "iUXR7jXesoVL"
      }
    },
    {
      "cell_type": "code",
      "execution_count": null,
      "outputs": [
        {
          "name": "stdout",
          "output_type": "stream",
          "text": [
            "Class weights: {0: 2.3803763440860215, 1: 0.8322368421052632, 2: 0.8597087378640776, 3: 0.8664383561643836, 4: 0.833804143126177, 5: 1.9943693693693694, 6: 0.824487895716946, 7: 0.8715551181102362}\n"
          ]
        }
      ],
      "source": [
        "print('Class weights: {}'.format(class_weight))"
      ],
      "metadata": {
        "id": "bV76WGFusoVO",
        "outputId": "03887e89-361f-4c2d-e7ae-6efceb701761"
      }
    },
    {
      "cell_type": "code",
      "execution_count": null,
      "outputs": [
        {
          "name": "stdout",
          "output_type": "stream",
          "text": [
            "Found 3542 files belonging to 8 classes.\n",
            "Using 3011 files for training.\n"
          ]
        }
      ],
      "source": [
        "train_ds = tf.keras.utils.image_dataset_from_directory(\n",
        "    dataset_dir,\n",
        "    validation_split=0.15,\n",
        "    subset=\"training\",\n",
        "    shuffle=True,\n",
        "    seed=seed,\n",
        "    image_size=(image_size, image_size),\n",
        "    batch_size=batch_size)"
      ],
      "metadata": {
        "id": "IaeXhOc-soVQ",
        "outputId": "1757b72c-16d0-4814-b6e9-2264104969e5"
      }
    },
    {
      "cell_type": "code",
      "execution_count": null,
      "metadata": {
        "colab": {
          "base_uri": "https://localhost:8080/"
        },
        "id": "y8s2sxjl36rv",
        "outputId": "5c01f074-2129-4332-f9b7-80351bb8ef4f"
      },
      "outputs": [
        {
          "name": "stdout",
          "output_type": "stream",
          "text": [
            "Found 3542 files belonging to 8 classes.\n",
            "Using 531 files for validation.\n"
          ]
        }
      ],
      "source": [
        "val_ds = tf.keras.utils.image_dataset_from_directory(\n",
        "    dataset_dir,\n",
        "    validation_split=0.15,\n",
        "    subset=\"validation\",\n",
        "    shuffle=True,\n",
        "    seed=seed,\n",
        "    image_size=(image_size, image_size),\n",
        "    batch_size=batch_size)"
      ]
    },
    {
      "cell_type": "code",
      "execution_count": null,
      "metadata": {
        "id": "FxPnyxYV3_XK"
      },
      "outputs": [],
      "source": [
        "val_batches = tf.data.experimental.cardinality(val_ds)\n",
        "test_ds = val_ds.take(val_batches // 4)\n",
        "validation_dataset = val_ds.skip(val_batches // 4)"
      ]
    },
    {
      "cell_type": "code",
      "execution_count": null,
      "metadata": {
        "id": "xW0pHMXQ4GiZ"
      },
      "outputs": [],
      "source": [
        "class_names = train_ds.class_names\n",
        "num_classes = len(class_names)"
      ]
    },
    {
      "cell_type": "code",
      "execution_count": null,
      "metadata": {
        "id": "-HPT0GSz4PKX"
      },
      "outputs": [],
      "source": [
        "# Add caching to dataset\n",
        "AUTOTUNE = tf.data.AUTOTUNE\n",
        "train_ds = train_ds.prefetch(buffer_size=AUTOTUNE)\n",
        "val_ds = validation_dataset.prefetch(buffer_size=AUTOTUNE)\n",
        "test_ds = test_ds.prefetch(buffer_size=AUTOTUNE)"
      ]
    },
    {
      "cell_type": "code",
      "execution_count": null,
      "metadata": {
        "id": "ONLJajm74R8w"
      },
      "outputs": [],
      "source": [
        "# Use one-hot encoding for labels\n",
        "train_ds = train_ds.map(lambda x, y: (x, tf.one_hot(y, depth=num_classes)))\n",
        "val_ds = val_ds.map(lambda x, y: (x, tf.one_hot(y, depth=num_classes)))\n",
        "test_ds = test_ds.map(lambda x, y: (x, tf.one_hot(y, depth=num_classes)))"
      ]
    },
    {
      "cell_type": "code",
      "execution_count": null,
      "metadata": {
        "id": "QIj2Z8fw4UFm"
      },
      "outputs": [],
      "source": [
        "crop_dim = 16\n",
        "input_shape = (image_size, image_size, 3)\n",
        "input_shape_cropping = (image_size-crop_dim*2, image_size-crop_dim*2, 3)"
      ]
    },
    {
      "cell_type": "code",
      "execution_count": null,
      "metadata": {
        "id": "s9iSE-uS4Wcd"
      },
      "outputs": [],
      "source": [
        "import convnext\n",
        "\n",
        "base_model = convnext.ConvNeXtBase(\n",
        "    input_shape=input_shape_cropping,\n",
        "    include_top=False,\n",
        "    weights='imagenet',\n",
        "    pooling='avg')\n",
        "base_model.trainable = False"
      ]
    },
    {
      "cell_type": "code",
      "execution_count": null,
      "metadata": {
        "id": "xoU0x0up4bR4"
      },
      "outputs": [],
      "source": [
        "model = tfk.Sequential([\n",
        "    tfk.layers.Input(shape=input_shape),\n",
        "    # Augmentation\n",
        "    tfk.layers.RandomFlip(\"horizontal_and_vertical\", input_shape=input_shape),\n",
        "    # tfk.layers.RandomRotation(0.5),\n",
        "    tfk.layers.RandomZoom(0.5),\n",
        "    tfk.layers.RandomTranslation(width_factor=0.1, height_factor=0.1),\n",
        "    tfk.layers.Cropping2D(cropping=((crop_dim, crop_dim), (crop_dim, crop_dim)), input_shape=input_shape),\n",
        "\n",
        "    # tfk.layers.Resizing(height=image_size, width=image_size, interpolation='bilinear', crop_to_aspect_ratio=False),\n",
        "    \n",
        "    # Preprocess for base model\n",
        "    tfk.layers.Lambda(convnext.preprocess_input),\n",
        "    # Transfer learning\n",
        "    base_model,\n",
        "    # Classification\n",
        "    tfk.layers.Dense(384, activation='relu', kernel_initializer='he_uniform'),\n",
        "    tfk.layers.Dense(64, activation='relu', kernel_initializer='he_uniform'),\n",
        "    # Dropout\n",
        "    tfk.layers.Dropout(0.3),\n",
        "    # Output\n",
        "    tfk.layers.Dense(num_classes, activation='softmax')\n",
        "])"
      ]
    },
    {
      "cell_type": "code",
      "execution_count": null,
      "metadata": {
        "id": "F3tWPleN4kC6"
      },
      "outputs": [],
      "source": [
        "model.compile(optimizer=tfk.optimizers.Adagrad(learning_rate=0.01, initial_accumulator_value=0.1),\n",
        "              loss=tf.keras.losses.CategoricalCrossentropy(),\n",
        "              metrics=['accuracy'])"
      ]
    },
    {
      "cell_type": "code",
      "execution_count": null,
      "metadata": {
        "colab": {
          "base_uri": "https://localhost:8080/"
        },
        "id": "xCAanBCB4nKE",
        "outputId": "897d7c43-e8d0-4df9-e24b-9b7e7cf05881"
      },
      "outputs": [
        {
          "name": "stdout",
          "output_type": "stream",
          "text": [
            "Model: \"sequential_2\"\n",
            "_________________________________________________________________\n",
            " Layer (type)                Output Shape              Param #   \n",
            "=================================================================\n",
            " random_flip_2 (RandomFlip)  (None, 256, 256, 3)       0         \n",
            "                                                                 \n",
            " random_zoom_2 (RandomZoom)  (None, 256, 256, 3)       0         \n",
            "                                                                 \n",
            " random_translation_2 (Rando  (None, 256, 256, 3)      0         \n",
            " mTranslation)                                                   \n",
            "                                                                 \n",
            " cropping2d_2 (Cropping2D)   (None, 224, 224, 3)       0         \n",
            "                                                                 \n",
            " lambda_2 (Lambda)           (None, 224, 224, 3)       0         \n",
            "                                                                 \n",
            " convnext_base (Functional)  (None, 1024)              87566464  \n",
            "                                                                 \n",
            " dense_8 (Dense)             (None, 384)               393600    \n",
            "                                                                 \n",
            " dense_9 (Dense)             (None, 64)                24640     \n",
            "                                                                 \n",
            " dropout_2 (Dropout)         (None, 64)                0         \n",
            "                                                                 \n",
            " dense_10 (Dense)            (None, 8)                 520       \n",
            "                                                                 \n",
            "=================================================================\n",
            "Total params: 87,985,224\n",
            "Trainable params: 418,760\n",
            "Non-trainable params: 87,566,464\n",
            "_________________________________________________________________\n"
          ]
        }
      ],
      "source": [
        "model.summary()"
      ]
    },
    {
      "cell_type": "code",
      "execution_count": null,
      "metadata": {
        "id": "-tjsykR04pAZ"
      },
      "outputs": [],
      "source": [
        "epochs = 200"
      ]
    },
    {
      "cell_type": "code",
      "execution_count": null,
      "metadata": {
        "colab": {
          "base_uri": "https://localhost:8080/"
        },
        "id": "jb54axct4svz",
        "outputId": "bed42d76-545f-4cbf-f4e7-d2a4f9248825"
      },
      "outputs": [
        {
          "name": "stdout",
          "output_type": "stream",
          "text": [
            "Epoch 1/200\n",
            "48/48 [==============================] - 41s 698ms/step - loss: 1.7292 - accuracy: 0.3713 - val_loss: 1.1860 - val_accuracy: 0.5782\n",
            "Epoch 2/200\n",
            "48/48 [==============================] - 32s 655ms/step - loss: 1.3185 - accuracy: 0.5247 - val_loss: 1.0663 - val_accuracy: 0.6278\n",
            "Epoch 3/200\n",
            "48/48 [==============================] - 32s 656ms/step - loss: 1.1775 - accuracy: 0.5795 - val_loss: 0.8437 - val_accuracy: 0.7047\n",
            "Epoch 4/200\n",
            "48/48 [==============================] - 32s 657ms/step - loss: 1.0673 - accuracy: 0.6270 - val_loss: 0.8197 - val_accuracy: 0.7146\n",
            "Epoch 5/200\n",
            "48/48 [==============================] - 32s 658ms/step - loss: 0.9541 - accuracy: 0.6682 - val_loss: 0.7497 - val_accuracy: 0.7196\n",
            "Epoch 6/200\n",
            "48/48 [==============================] - 32s 656ms/step - loss: 0.9285 - accuracy: 0.6762 - val_loss: 0.7666 - val_accuracy: 0.7320\n",
            "Epoch 7/200\n",
            "48/48 [==============================] - 32s 657ms/step - loss: 0.8672 - accuracy: 0.6911 - val_loss: 0.6971 - val_accuracy: 0.7519\n",
            "Epoch 8/200\n",
            "48/48 [==============================] - 32s 658ms/step - loss: 0.8345 - accuracy: 0.7074 - val_loss: 0.5874 - val_accuracy: 0.8089\n",
            "Epoch 9/200\n",
            "48/48 [==============================] - 31s 653ms/step - loss: 0.7740 - accuracy: 0.7243 - val_loss: 0.7624 - val_accuracy: 0.7395\n",
            "Epoch 10/200\n",
            "48/48 [==============================] - 31s 653ms/step - loss: 0.7405 - accuracy: 0.7353 - val_loss: 0.5937 - val_accuracy: 0.7940\n",
            "Epoch 11/200\n",
            "48/48 [==============================] - 31s 653ms/step - loss: 0.7266 - accuracy: 0.7433 - val_loss: 0.6355 - val_accuracy: 0.7816\n",
            "Epoch 12/200\n",
            "48/48 [==============================] - 31s 653ms/step - loss: 0.7009 - accuracy: 0.7456 - val_loss: 0.6683 - val_accuracy: 0.7618\n",
            "Epoch 13/200\n",
            "48/48 [==============================] - 31s 653ms/step - loss: 0.6878 - accuracy: 0.7529 - val_loss: 0.5952 - val_accuracy: 0.7990\n",
            "Epoch 14/200\n",
            "48/48 [==============================] - 31s 653ms/step - loss: 0.6635 - accuracy: 0.7655 - val_loss: 0.6197 - val_accuracy: 0.7940\n",
            "Epoch 15/200\n",
            "48/48 [==============================] - 31s 653ms/step - loss: 0.6792 - accuracy: 0.7669 - val_loss: 0.5678 - val_accuracy: 0.8089\n",
            "Epoch 16/200\n",
            "48/48 [==============================] - 31s 654ms/step - loss: 0.6411 - accuracy: 0.7745 - val_loss: 0.5762 - val_accuracy: 0.8015\n",
            "Epoch 17/200\n",
            "48/48 [==============================] - 32s 657ms/step - loss: 0.6139 - accuracy: 0.7914 - val_loss: 0.5097 - val_accuracy: 0.8139\n",
            "Epoch 18/200\n",
            "48/48 [==============================] - 31s 653ms/step - loss: 0.6312 - accuracy: 0.7815 - val_loss: 0.6003 - val_accuracy: 0.7891\n",
            "Epoch 19/200\n",
            "48/48 [==============================] - 32s 658ms/step - loss: 0.6172 - accuracy: 0.7825 - val_loss: 0.5259 - val_accuracy: 0.8189\n",
            "Epoch 20/200\n",
            "48/48 [==============================] - 32s 659ms/step - loss: 0.5970 - accuracy: 0.7805 - val_loss: 0.5340 - val_accuracy: 0.8313\n",
            "Epoch 21/200\n",
            "48/48 [==============================] - 32s 655ms/step - loss: 0.5960 - accuracy: 0.7821 - val_loss: 0.6176 - val_accuracy: 0.7940\n",
            "Epoch 22/200\n",
            "48/48 [==============================] - 32s 655ms/step - loss: 0.5842 - accuracy: 0.7977 - val_loss: 0.5407 - val_accuracy: 0.8213\n",
            "Epoch 23/200\n",
            "48/48 [==============================] - 32s 660ms/step - loss: 0.5685 - accuracy: 0.7981 - val_loss: 0.4837 - val_accuracy: 0.8412\n",
            "Epoch 24/200\n",
            "48/48 [==============================] - 32s 670ms/step - loss: 0.5372 - accuracy: 0.8107 - val_loss: 0.5182 - val_accuracy: 0.8139\n",
            "Epoch 25/200\n",
            "48/48 [==============================] - 33s 688ms/step - loss: 0.5655 - accuracy: 0.8100 - val_loss: 0.5667 - val_accuracy: 0.8263\n",
            "Epoch 26/200\n",
            "48/48 [==============================] - 33s 690ms/step - loss: 0.5468 - accuracy: 0.8027 - val_loss: 0.4878 - val_accuracy: 0.8313\n",
            "Epoch 27/200\n",
            "48/48 [==============================] - 33s 696ms/step - loss: 0.5230 - accuracy: 0.8170 - val_loss: 0.4872 - val_accuracy: 0.8486\n",
            "Epoch 28/200\n",
            "48/48 [==============================] - 33s 690ms/step - loss: 0.5297 - accuracy: 0.8200 - val_loss: 0.5548 - val_accuracy: 0.8040\n",
            "Epoch 29/200\n",
            "48/48 [==============================] - 34s 718ms/step - loss: 0.5060 - accuracy: 0.8280 - val_loss: 0.5140 - val_accuracy: 0.8164\n",
            "Epoch 30/200\n",
            "48/48 [==============================] - 34s 697ms/step - loss: 0.4917 - accuracy: 0.8220 - val_loss: 0.4913 - val_accuracy: 0.8337\n",
            "Epoch 31/200\n",
            "48/48 [==============================] - 34s 701ms/step - loss: 0.5068 - accuracy: 0.8396 - val_loss: 0.5204 - val_accuracy: 0.8139\n",
            "Epoch 32/200\n",
            "48/48 [==============================] - 33s 696ms/step - loss: 0.4962 - accuracy: 0.8213 - val_loss: 0.4908 - val_accuracy: 0.8313\n",
            "Epoch 33/200\n",
            "48/48 [==============================] - 33s 696ms/step - loss: 0.4724 - accuracy: 0.8356 - val_loss: 0.6085 - val_accuracy: 0.8139\n",
            "Epoch 34/200\n",
            "48/48 [==============================] - 34s 698ms/step - loss: 0.4829 - accuracy: 0.8310 - val_loss: 0.4780 - val_accuracy: 0.8536\n",
            "Epoch 35/200\n",
            "48/48 [==============================] - 33s 688ms/step - loss: 0.4678 - accuracy: 0.8283 - val_loss: 0.4595 - val_accuracy: 0.8486\n",
            "Epoch 36/200\n",
            "48/48 [==============================] - 33s 689ms/step - loss: 0.4650 - accuracy: 0.8339 - val_loss: 0.4842 - val_accuracy: 0.8412\n",
            "Epoch 37/200\n",
            "48/48 [==============================] - 33s 693ms/step - loss: 0.4714 - accuracy: 0.8406 - val_loss: 0.5377 - val_accuracy: 0.8189\n",
            "Epoch 38/200\n",
            "48/48 [==============================] - 33s 692ms/step - loss: 0.4812 - accuracy: 0.8319 - val_loss: 0.4607 - val_accuracy: 0.8536\n",
            "Epoch 39/200\n",
            "48/48 [==============================] - 33s 690ms/step - loss: 0.4443 - accuracy: 0.8429 - val_loss: 0.4659 - val_accuracy: 0.8511\n",
            "Epoch 40/200\n",
            "48/48 [==============================] - 33s 693ms/step - loss: 0.4478 - accuracy: 0.8406 - val_loss: 0.4640 - val_accuracy: 0.8437\n",
            "Epoch 41/200\n",
            "48/48 [==============================] - 33s 687ms/step - loss: 0.4423 - accuracy: 0.8396 - val_loss: 0.4525 - val_accuracy: 0.8511\n",
            "Epoch 42/200\n",
            "48/48 [==============================] - 34s 702ms/step - loss: 0.4248 - accuracy: 0.8403 - val_loss: 0.4582 - val_accuracy: 0.8486\n",
            "Epoch 43/200\n",
            "48/48 [==============================] - 34s 707ms/step - loss: 0.4250 - accuracy: 0.8469 - val_loss: 0.5017 - val_accuracy: 0.8164\n",
            "Epoch 44/200\n",
            "48/48 [==============================] - 34s 709ms/step - loss: 0.4282 - accuracy: 0.8476 - val_loss: 0.4158 - val_accuracy: 0.8561\n",
            "Epoch 45/200\n",
            "48/48 [==============================] - 34s 702ms/step - loss: 0.4139 - accuracy: 0.8532 - val_loss: 0.5940 - val_accuracy: 0.7990\n",
            "Epoch 46/200\n",
            "48/48 [==============================] - 34s 697ms/step - loss: 0.4650 - accuracy: 0.8316 - val_loss: 0.5240 - val_accuracy: 0.8139\n",
            "Epoch 47/200\n",
            "48/48 [==============================] - 34s 699ms/step - loss: 0.4375 - accuracy: 0.8462 - val_loss: 0.4453 - val_accuracy: 0.8635\n",
            "Epoch 48/200\n",
            "48/48 [==============================] - 34s 699ms/step - loss: 0.4124 - accuracy: 0.8532 - val_loss: 0.4798 - val_accuracy: 0.8561\n",
            "Epoch 49/200\n",
            "48/48 [==============================] - 34s 704ms/step - loss: 0.4151 - accuracy: 0.8555 - val_loss: 0.4599 - val_accuracy: 0.8536\n",
            "Epoch 50/200\n",
            "48/48 [==============================] - 34s 698ms/step - loss: 0.3798 - accuracy: 0.8725 - val_loss: 0.4467 - val_accuracy: 0.8610\n",
            "Epoch 51/200\n",
            "48/48 [==============================] - 34s 696ms/step - loss: 0.3844 - accuracy: 0.8655 - val_loss: 0.4890 - val_accuracy: 0.8362\n",
            "Epoch 52/200\n",
            "48/48 [==============================] - 33s 696ms/step - loss: 0.4141 - accuracy: 0.8525 - val_loss: 0.4027 - val_accuracy: 0.8561\n",
            "Epoch 53/200\n",
            "48/48 [==============================] - 33s 687ms/step - loss: 0.3848 - accuracy: 0.8665 - val_loss: 0.5260 - val_accuracy: 0.8313\n",
            "Epoch 54/200\n",
            "48/48 [==============================] - 33s 688ms/step - loss: 0.3881 - accuracy: 0.8585 - val_loss: 0.4308 - val_accuracy: 0.8586\n",
            "Epoch 55/200\n",
            "48/48 [==============================] - 33s 692ms/step - loss: 0.3806 - accuracy: 0.8628 - val_loss: 0.3705 - val_accuracy: 0.8710\n",
            "Epoch 56/200\n",
            "48/48 [==============================] - 33s 696ms/step - loss: 0.4017 - accuracy: 0.8598 - val_loss: 0.4049 - val_accuracy: 0.8610\n",
            "Epoch 57/200\n",
            "48/48 [==============================] - 33s 694ms/step - loss: 0.3746 - accuracy: 0.8632 - val_loss: 0.4755 - val_accuracy: 0.8511\n",
            "Epoch 58/200\n",
            "48/48 [==============================] - 34s 697ms/step - loss: 0.3618 - accuracy: 0.8758 - val_loss: 0.3791 - val_accuracy: 0.8809\n",
            "Epoch 59/200\n",
            "48/48 [==============================] - 34s 699ms/step - loss: 0.3929 - accuracy: 0.8579 - val_loss: 0.3823 - val_accuracy: 0.8710\n",
            "Epoch 60/200\n",
            "48/48 [==============================] - 33s 693ms/step - loss: 0.3715 - accuracy: 0.8675 - val_loss: 0.4136 - val_accuracy: 0.8660\n",
            "Epoch 61/200\n",
            "48/48 [==============================] - 34s 697ms/step - loss: 0.3585 - accuracy: 0.8811 - val_loss: 0.4467 - val_accuracy: 0.8610\n",
            "Epoch 62/200\n",
            "48/48 [==============================] - 33s 692ms/step - loss: 0.3609 - accuracy: 0.8738 - val_loss: 0.4103 - val_accuracy: 0.8635\n",
            "Epoch 63/200\n",
            "48/48 [==============================] - 34s 697ms/step - loss: 0.3471 - accuracy: 0.8768 - val_loss: 0.4441 - val_accuracy: 0.8710\n",
            "Epoch 64/200\n",
            "48/48 [==============================] - 33s 686ms/step - loss: 0.3550 - accuracy: 0.8854 - val_loss: 0.4488 - val_accuracy: 0.8536\n",
            "Epoch 65/200\n",
            "48/48 [==============================] - 32s 660ms/step - loss: 0.3391 - accuracy: 0.8858 - val_loss: 0.5374 - val_accuracy: 0.7990\n",
            "Epoch 66/200\n",
            "48/48 [==============================] - 32s 664ms/step - loss: 0.3467 - accuracy: 0.8774 - val_loss: 0.4175 - val_accuracy: 0.8511\n",
            "Epoch 67/200\n",
            "48/48 [==============================] - 33s 690ms/step - loss: 0.3641 - accuracy: 0.8728 - val_loss: 0.4391 - val_accuracy: 0.8635\n",
            "Epoch 68/200\n",
            "48/48 [==============================] - 32s 671ms/step - loss: 0.3365 - accuracy: 0.8858 - val_loss: 0.4479 - val_accuracy: 0.8164\n",
            "Epoch 69/200\n",
            "48/48 [==============================] - 32s 656ms/step - loss: 0.3383 - accuracy: 0.8848 - val_loss: 0.4193 - val_accuracy: 0.8784\n",
            "Epoch 70/200\n",
            "48/48 [==============================] - 31s 653ms/step - loss: 0.3428 - accuracy: 0.8774 - val_loss: 0.3872 - val_accuracy: 0.8660\n",
            "Epoch 71/200\n",
            "48/48 [==============================] - 32s 655ms/step - loss: 0.3369 - accuracy: 0.8838 - val_loss: 0.4421 - val_accuracy: 0.8486\n",
            "Epoch 72/200\n",
            "48/48 [==============================] - 32s 655ms/step - loss: 0.3597 - accuracy: 0.8698 - val_loss: 0.4242 - val_accuracy: 0.8586\n",
            "Epoch 73/200\n",
            "48/48 [==============================] - 32s 658ms/step - loss: 0.3359 - accuracy: 0.8784 - val_loss: 0.4702 - val_accuracy: 0.8536\n"
          ]
        }
      ],
      "source": [
        "history = model.fit(\n",
        "    train_ds,\n",
        "    validation_data=val_ds,\n",
        "    epochs=epochs,\n",
        "    class_weight=class_weight,\n",
        "    callbacks=[tfk.callbacks.EarlyStopping(monitor='val_accuracy', mode='max', patience=15, restore_best_weights=True)]\n",
        "    ).history"
      ]
    },
    {
      "cell_type": "code",
      "execution_count": null,
      "outputs": [
        {
          "data": {
            "text/plain": "<Figure size 1500x500 with 1 Axes>",
            "image/png": "[encoded data removed]"
          },
          "metadata": {},
          "output_type": "display_data"
        }
      ],
      "source": [
        "import matplotlib.pyplot as plt\n",
        "\n",
        "# plot the trend of the MSE of the training set (always decreasing of course) and of the validation set\n",
        "plt.figure(figsize=(15, 5))\n",
        "plt.plot(history['accuracy'], label='Training', alpha=.8, color='#ff7f0e')\n",
        "plt.plot(history['val_accuracy'], label='Validation', alpha=.8, color='#4D61E2')\n",
        "plt.ylim(0, 1)\n",
        "plt.title('Accuracy')\n",
        "plt.legend(loc='upper right')\n",
        "plt.grid(alpha=.3)\n",
        "plt.show()"
      ],
      "metadata": {
        "id": "tMLCgiWWsoVi",
        "outputId": "c78ff631-3f00-40a1-eb1f-0cb6d178073e"
      }
    },
    {
      "cell_type": "code",
      "execution_count": null,
      "outputs": [
        {
          "name": "stdout",
          "output_type": "stream",
          "text": [
            "2/2 [==============================] - 1s 572ms/step - loss: 0.3747 - accuracy: 0.8750\n",
            "Accuracy 0.875\n",
            "Loss 0.37470096349716187\n"
          ]
        }
      ],
      "source": [
        "loss, acc = model.evaluate(test_ds)\n",
        "print(\"Accuracy\", acc)\n",
        "print(\"Loss\", loss)"
      ],
      "metadata": {
        "id": "YJVXjbSlsoVj",
        "outputId": "8b7d9ab8-af33-460c-b992-8c08ecea40a4"
      }
    },
    {
      "cell_type": "code",
      "execution_count": null,
      "outputs": [
        {
          "name": "stdout",
          "output_type": "stream",
          "text": [
            "INFO:tensorflow:Assets written to: models/20221122-225409-0.875-nofinetuning\\assets\n"
          ]
        },
        {
          "name": "stderr",
          "output_type": "stream",
          "text": [
            "INFO:tensorflow:Assets written to: models/20221122-225409-0.875-nofinetuning\\assets\n"
          ]
        }
      ],
      "source": [
        "# model.save(\"notebook24_5_1\")"
      ],
      "metadata": {
        "id": "BmC_D4G1soVl",
        "outputId": "849d75f8-d6d8-474b-e3a7-431a8aa1a49d"
      }
    },
    {
      "cell_type": "code",
      "execution_count": null,
      "outputs": [
        {
          "name": "stdout",
          "output_type": "stream",
          "text": [
            "Model: \"sequential_2\"\n",
            "_________________________________________________________________\n",
            " Layer (type)                Output Shape              Param #   \n",
            "=================================================================\n",
            " random_flip_2 (RandomFlip)  (None, 256, 256, 3)       0         \n",
            "                                                                 \n",
            " random_zoom_2 (RandomZoom)  (None, 256, 256, 3)       0         \n",
            "                                                                 \n",
            " random_translation_2 (Rando  (None, 256, 256, 3)      0         \n",
            " mTranslation)                                                   \n",
            "                                                                 \n",
            " cropping2d_2 (Cropping2D)   (None, 224, 224, 3)       0         \n",
            "                                                                 \n",
            " lambda_2 (Lambda)           (None, 224, 224, 3)       0         \n",
            "                                                                 \n",
            " convnext_base (Functional)  (None, 1024)              87566464  \n",
            "                                                                 \n",
            " dense_8 (Dense)             (None, 384)               393600    \n",
            "                                                                 \n",
            " dense_9 (Dense)             (None, 64)                24640     \n",
            "                                                                 \n",
            " dropout_2 (Dropout)         (None, 64)                0         \n",
            "                                                                 \n",
            " dense_10 (Dense)            (None, 8)                 520       \n",
            "                                                                 \n",
            "=================================================================\n",
            "Total params: 87,985,224\n",
            "Trainable params: 8,815,560\n",
            "Non-trainable params: 79,169,664\n",
            "_________________________________________________________________\n",
            "Epoch 1/50\n",
            "48/48 [==============================] - 41s 707ms/step - loss: 0.3137 - accuracy: 0.8927 - val_loss: 0.4726 - val_accuracy: 0.8586\n",
            "Epoch 2/50\n",
            "48/48 [==============================] - 32s 664ms/step - loss: 0.3341 - accuracy: 0.8814 - val_loss: 0.4592 - val_accuracy: 0.8536\n",
            "Epoch 3/50\n",
            "48/48 [==============================] - 32s 663ms/step - loss: 0.3503 - accuracy: 0.8778 - val_loss: 0.6599 - val_accuracy: 0.8089\n",
            "Epoch 4/50\n",
            "48/48 [==============================] - 32s 667ms/step - loss: 0.3463 - accuracy: 0.8728 - val_loss: 0.4494 - val_accuracy: 0.8610\n",
            "Epoch 5/50\n",
            "48/48 [==============================] - 32s 665ms/step - loss: 0.3392 - accuracy: 0.8781 - val_loss: 0.4646 - val_accuracy: 0.8437\n",
            "Epoch 6/50\n",
            "48/48 [==============================] - 32s 665ms/step - loss: 0.3280 - accuracy: 0.8791 - val_loss: 0.4809 - val_accuracy: 0.8511\n",
            "Epoch 7/50\n",
            "48/48 [==============================] - 32s 669ms/step - loss: 0.3272 - accuracy: 0.8831 - val_loss: 0.4236 - val_accuracy: 0.8710\n",
            "Epoch 8/50\n",
            "48/48 [==============================] - 32s 665ms/step - loss: 0.3228 - accuracy: 0.8891 - val_loss: 0.4551 - val_accuracy: 0.8610\n",
            "Epoch 9/50\n",
            "48/48 [==============================] - 32s 665ms/step - loss: 0.3074 - accuracy: 0.8954 - val_loss: 0.4428 - val_accuracy: 0.8685\n",
            "Epoch 10/50\n",
            "48/48 [==============================] - 32s 668ms/step - loss: 0.3108 - accuracy: 0.8917 - val_loss: 0.4323 - val_accuracy: 0.8635\n",
            "Epoch 11/50\n",
            "48/48 [==============================] - 32s 674ms/step - loss: 0.2874 - accuracy: 0.8970 - val_loss: 0.5075 - val_accuracy: 0.8462\n",
            "Epoch 12/50\n",
            "48/48 [==============================] - 32s 668ms/step - loss: 0.3141 - accuracy: 0.8951 - val_loss: 0.4015 - val_accuracy: 0.8635\n",
            "Epoch 13/50\n",
            "48/48 [==============================] - 32s 668ms/step - loss: 0.3066 - accuracy: 0.8947 - val_loss: 0.4429 - val_accuracy: 0.8610\n",
            "Epoch 14/50\n",
            "48/48 [==============================] - 32s 670ms/step - loss: 0.3036 - accuracy: 0.8921 - val_loss: 0.4469 - val_accuracy: 0.8462\n",
            "Epoch 15/50\n",
            "48/48 [==============================] - 32s 665ms/step - loss: 0.2958 - accuracy: 0.8977 - val_loss: 0.4123 - val_accuracy: 0.8710\n",
            "Epoch 16/50\n",
            "48/48 [==============================] - 32s 666ms/step - loss: 0.2898 - accuracy: 0.8964 - val_loss: 0.4339 - val_accuracy: 0.8462\n",
            "Epoch 17/50\n",
            "48/48 [==============================] - 32s 666ms/step - loss: 0.2886 - accuracy: 0.8977 - val_loss: 0.4219 - val_accuracy: 0.8685\n"
          ]
        }
      ],
      "source": [
        "# Fine Tuning\n",
        "base_model.trainable = True\n",
        "for layer in base_model.layers[:-10]:\n",
        "    layer.trainable=False\n",
        "for layer in base_model.layers[-10:]:\n",
        "    layer.trainable=True\n",
        "\n",
        "# It's important to recompile your model after you make any changes\n",
        "# to the `trainable` attribute of any inner layer, so that your changes\n",
        "# are take into account\n",
        "model.compile(optimizer=tfk.optimizers.Adam(learning_rate=0.0001),\n",
        "              loss=tf.keras.losses.CategoricalCrossentropy(),\n",
        "              metrics=['accuracy'])\n",
        "\n",
        "model.summary()\n",
        "\n",
        "# Train end-to-end. Be careful to stop before you overfit!\n",
        "history = model.fit(\n",
        "    train_ds,\n",
        "    validation_data=val_ds,\n",
        "    epochs=50,\n",
        "    class_weight=class_weight,\n",
        "    callbacks=[tfk.callbacks.EarlyStopping(monitor='val_accuracy', mode='max', patience=5, restore_best_weights=True)]\n",
        ").history"
      ],
      "metadata": {
        "id": "H8v4HaYMsoVm",
        "outputId": "196eb12b-6981-4d05-b2a3-da5f3a23294d"
      }
    },
    {
      "cell_type": "code",
      "execution_count": null,
      "metadata": {
        "colab": {
          "base_uri": "https://localhost:8080/",
          "height": 336
        },
        "id": "MxuCBftc74dm",
        "outputId": "cf9abb89-3a36-4acd-a484-825b3467594c"
      },
      "outputs": [
        {
          "data": {
            "text/plain": "<Figure size 1500x500 with 1 Axes>",
            "image/png": "[encoded data removed]"
          },
          "metadata": {},
          "output_type": "display_data"
        }
      ],
      "source": [
        "import matplotlib.pyplot as plt\n",
        "\n",
        "# plot the trend of the MSE of the training set (always decreasing of course) and of the validation set\n",
        "plt.figure(figsize=(15,5))\n",
        "plt.plot(history['accuracy'], label='Training', alpha=.8, color='#ff7f0e')\n",
        "plt.plot(history['val_accuracy'], label='Validation', alpha=.8, color='#4D61E2')\n",
        "plt.ylim(0, 1)\n",
        "plt.title('Accuracy')\n",
        "plt.legend(loc='upper right')\n",
        "plt.grid(alpha=.3)\n",
        "plt.show()"
      ]
    },
    {
      "cell_type": "code",
      "execution_count": null,
      "metadata": {
        "colab": {
          "base_uri": "https://localhost:8080/"
        },
        "id": "BTRc0Iw04uVa",
        "outputId": "00c625dc-b98f-484d-e090-492f26a84af1"
      },
      "outputs": [
        {
          "name": "stdout",
          "output_type": "stream",
          "text": [
            "2/2 [==============================] - 1s 578ms/step - loss: 0.5611 - accuracy: 0.8438\n",
            "Accuracy 0.84375\n",
            "Loss 0.5611171126365662\n"
          ]
        }
      ],
      "source": [
        "loss, acc = model.evaluate(test_ds)\n",
        "print(\"Accuracy\", acc)\n",
        "print(\"Loss\", loss)"
      ]
    },
    {
      "cell_type": "code",
      "execution_count": null,
      "metadata": {
        "id": "AdYt577IJfLm",
        "outputId": "35843a96-12ba-46b2-c942-c69e4c42f7fa"
      },
      "outputs": [
        {
          "name": "stdout",
          "output_type": "stream",
          "text": [
            "INFO:tensorflow:Assets written to: models/20221122-225824-0.875\\assets\n"
          ]
        },
        {
          "name": "stderr",
          "output_type": "stream",
          "text": [
            "INFO:tensorflow:Assets written to: models/20221122-225824-0.875\\assets\n"
          ]
        }
      ],
      "source": [
        "model.save(\"ConvNext\")"
      ]
    },
    {
      "cell_type": "code",
      "execution_count": null,
      "outputs": [],
      "source": [
        "base_model.summary()"
      ],
      "metadata": {
        "id": "899hYzaQsoVo"
      }
    }
  ],
  "metadata": {
    "accelerator": "GPU",
    "colab": {
      "provenance": []
    },
    "gpuClass": "standard",
    "kernelspec": {
      "display_name": "Python 3 (ipykernel)",
      "language": "python",
      "name": "python3"
    },
    "language_info": {
      "codemirror_mode": {
        "name": "ipython",
        "version": 3
      },
      "file_extension": ".py",
      "mimetype": "text/x-python",
      "name": "python",
      "nbconvert_exporter": "python",
      "pygments_lexer": "ipython3",
      "version": "3.9.13"
    }
  },
  "nbformat": 4,
  "nbformat_minor": 0
}