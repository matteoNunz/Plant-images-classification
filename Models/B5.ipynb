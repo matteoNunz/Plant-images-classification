{
  "nbformat": 4,
  "nbformat_minor": 0,
  "metadata": {
    "colab": {
      "provenance": []
    },
    "kernelspec": {
      "name": "python3",
      "display_name": "Python 3"
    },
    "language_info": {
      "name": "python"
    },
    "accelerator": "GPU",
    "gpuClass": "standard"
  },
  "cells": [
    {
      "cell_type": "code",
      "execution_count": null,
      "metadata": {
        "colab": {
          "base_uri": "https://localhost:8080/"
        },
        "id": "6NxPjeHb3KBK",
        "outputId": "4f43df03-44cc-4a05-a42e-0e1d83e22b27",
        "pycharm": {
          "name": "#%%\n"
        }
      },
      "outputs": [
        {
          "output_type": "stream",
          "name": "stdout",
          "text": [
            "Looking in indexes: https://pypi.org/simple, https://us-python.pkg.dev/colab-wheels/public/simple/\n",
            "Requirement already satisfied: tensorflow==2.8.3 in /usr/local/lib/python3.7/dist-packages (2.8.3)\n",
            "Requirement already satisfied: google-pasta>=0.1.1 in /usr/local/lib/python3.7/dist-packages (from tensorflow==2.8.3) (0.2.0)\n",
            "Requirement already satisfied: numpy>=1.20 in /usr/local/lib/python3.7/dist-packages (from tensorflow==2.8.3) (1.21.6)\n",
            "Requirement already satisfied: typing-extensions>=3.6.6 in /usr/local/lib/python3.7/dist-packages (from tensorflow==2.8.3) (4.1.1)\n",
            "Requirement already satisfied: flatbuffers>=1.12 in /usr/local/lib/python3.7/dist-packages (from tensorflow==2.8.3) (1.12)\n",
            "Requirement already satisfied: keras<2.9,>=2.8.0rc0 in /usr/local/lib/python3.7/dist-packages (from tensorflow==2.8.3) (2.8.0)\n",
            "Requirement already satisfied: astunparse>=1.6.0 in /usr/local/lib/python3.7/dist-packages (from tensorflow==2.8.3) (1.6.3)\n",
            "Requirement already satisfied: tensorflow-estimator<2.9,>=2.8 in /usr/local/lib/python3.7/dist-packages (from tensorflow==2.8.3) (2.8.0)\n",
            "Requirement already satisfied: grpcio<2.0,>=1.24.3 in /usr/local/lib/python3.7/dist-packages (from tensorflow==2.8.3) (1.50.0)\n",
            "Requirement already satisfied: tensorboard<2.9,>=2.8 in /usr/local/lib/python3.7/dist-packages (from tensorflow==2.8.3) (2.8.0)\n",
            "Requirement already satisfied: termcolor>=1.1.0 in /usr/local/lib/python3.7/dist-packages (from tensorflow==2.8.3) (2.1.0)\n",
            "Requirement already satisfied: tensorflow-io-gcs-filesystem>=0.23.1 in /usr/local/lib/python3.7/dist-packages (from tensorflow==2.8.3) (0.27.0)\n",
            "Requirement already satisfied: setuptools in /usr/local/lib/python3.7/dist-packages (from tensorflow==2.8.3) (57.4.0)\n",
            "Requirement already satisfied: keras-preprocessing>=1.1.1 in /usr/local/lib/python3.7/dist-packages (from tensorflow==2.8.3) (1.1.2)\n",
            "Requirement already satisfied: opt-einsum>=2.3.2 in /usr/local/lib/python3.7/dist-packages (from tensorflow==2.8.3) (3.3.0)\n",
            "Requirement already satisfied: wrapt>=1.11.0 in /usr/local/lib/python3.7/dist-packages (from tensorflow==2.8.3) (1.14.1)\n",
            "Requirement already satisfied: protobuf<3.20,>=3.9.2 in /usr/local/lib/python3.7/dist-packages (from tensorflow==2.8.3) (3.19.6)\n",
            "Requirement already satisfied: libclang>=9.0.1 in /usr/local/lib/python3.7/dist-packages (from tensorflow==2.8.3) (14.0.6)\n",
            "Requirement already satisfied: six>=1.12.0 in /usr/local/lib/python3.7/dist-packages (from tensorflow==2.8.3) (1.15.0)\n",
            "Requirement already satisfied: gast>=0.2.1 in /usr/local/lib/python3.7/dist-packages (from tensorflow==2.8.3) (0.4.0)\n",
            "Requirement already satisfied: absl-py>=0.4.0 in /usr/local/lib/python3.7/dist-packages (from tensorflow==2.8.3) (1.3.0)\n",
            "Requirement already satisfied: h5py>=2.9.0 in /usr/local/lib/python3.7/dist-packages (from tensorflow==2.8.3) (3.1.0)\n",
            "Requirement already satisfied: wheel<1.0,>=0.23.0 in /usr/local/lib/python3.7/dist-packages (from astunparse>=1.6.0->tensorflow==2.8.3) (0.38.4)\n",
            "Requirement already satisfied: cached-property in /usr/local/lib/python3.7/dist-packages (from h5py>=2.9.0->tensorflow==2.8.3) (1.5.2)\n",
            "Requirement already satisfied: google-auth-oauthlib<0.5,>=0.4.1 in /usr/local/lib/python3.7/dist-packages (from tensorboard<2.9,>=2.8->tensorflow==2.8.3) (0.4.6)\n",
            "Requirement already satisfied: tensorboard-data-server<0.7.0,>=0.6.0 in /usr/local/lib/python3.7/dist-packages (from tensorboard<2.9,>=2.8->tensorflow==2.8.3) (0.6.1)\n",
            "Requirement already satisfied: tensorboard-plugin-wit>=1.6.0 in /usr/local/lib/python3.7/dist-packages (from tensorboard<2.9,>=2.8->tensorflow==2.8.3) (1.8.1)\n",
            "Requirement already satisfied: markdown>=2.6.8 in /usr/local/lib/python3.7/dist-packages (from tensorboard<2.9,>=2.8->tensorflow==2.8.3) (3.4.1)\n",
            "Requirement already satisfied: requests<3,>=2.21.0 in /usr/local/lib/python3.7/dist-packages (from tensorboard<2.9,>=2.8->tensorflow==2.8.3) (2.23.0)\n",
            "Requirement already satisfied: google-auth<3,>=1.6.3 in /usr/local/lib/python3.7/dist-packages (from tensorboard<2.9,>=2.8->tensorflow==2.8.3) (2.14.1)\n",
            "Requirement already satisfied: werkzeug>=0.11.15 in /usr/local/lib/python3.7/dist-packages (from tensorboard<2.9,>=2.8->tensorflow==2.8.3) (1.0.1)\n",
            "Requirement already satisfied: rsa<5,>=3.1.4 in /usr/local/lib/python3.7/dist-packages (from google-auth<3,>=1.6.3->tensorboard<2.9,>=2.8->tensorflow==2.8.3) (4.9)\n",
            "Requirement already satisfied: cachetools<6.0,>=2.0.0 in /usr/local/lib/python3.7/dist-packages (from google-auth<3,>=1.6.3->tensorboard<2.9,>=2.8->tensorflow==2.8.3) (5.2.0)\n",
            "Requirement already satisfied: pyasn1-modules>=0.2.1 in /usr/local/lib/python3.7/dist-packages (from google-auth<3,>=1.6.3->tensorboard<2.9,>=2.8->tensorflow==2.8.3) (0.2.8)\n",
            "Requirement already satisfied: requests-oauthlib>=0.7.0 in /usr/local/lib/python3.7/dist-packages (from google-auth-oauthlib<0.5,>=0.4.1->tensorboard<2.9,>=2.8->tensorflow==2.8.3) (1.3.1)\n",
            "Requirement already satisfied: importlib-metadata>=4.4 in /usr/local/lib/python3.7/dist-packages (from markdown>=2.6.8->tensorboard<2.9,>=2.8->tensorflow==2.8.3) (4.13.0)\n",
            "Requirement already satisfied: zipp>=0.5 in /usr/local/lib/python3.7/dist-packages (from importlib-metadata>=4.4->markdown>=2.6.8->tensorboard<2.9,>=2.8->tensorflow==2.8.3) (3.10.0)\n",
            "Requirement already satisfied: pyasn1<0.5.0,>=0.4.6 in /usr/local/lib/python3.7/dist-packages (from pyasn1-modules>=0.2.1->google-auth<3,>=1.6.3->tensorboard<2.9,>=2.8->tensorflow==2.8.3) (0.4.8)\n",
            "Requirement already satisfied: chardet<4,>=3.0.2 in /usr/local/lib/python3.7/dist-packages (from requests<3,>=2.21.0->tensorboard<2.9,>=2.8->tensorflow==2.8.3) (3.0.4)\n",
            "Requirement already satisfied: urllib3!=1.25.0,!=1.25.1,<1.26,>=1.21.1 in /usr/local/lib/python3.7/dist-packages (from requests<3,>=2.21.0->tensorboard<2.9,>=2.8->tensorflow==2.8.3) (1.24.3)\n",
            "Requirement already satisfied: certifi>=2017.4.17 in /usr/local/lib/python3.7/dist-packages (from requests<3,>=2.21.0->tensorboard<2.9,>=2.8->tensorflow==2.8.3) (2022.9.24)\n",
            "Requirement already satisfied: idna<3,>=2.5 in /usr/local/lib/python3.7/dist-packages (from requests<3,>=2.21.0->tensorboard<2.9,>=2.8->tensorflow==2.8.3) (2.10)\n",
            "Requirement already satisfied: oauthlib>=3.0.0 in /usr/local/lib/python3.7/dist-packages (from requests-oauthlib>=0.7.0->google-auth-oauthlib<0.5,>=0.4.1->tensorboard<2.9,>=2.8->tensorflow==2.8.3) (3.2.2)\n",
            "2.8.3\n"
          ]
        }
      ],
      "source": [
        "!pip install tensorflow==2.8.3\n",
        "import tensorflow as tf\n",
        "import numpy as np\n",
        "import os\n",
        "import random\n",
        "import tensorboard\n",
        "import datetime\n",
        "\n",
        "tfk = tf.keras\n",
        "tfkl = tf.keras.layers\n",
        "print(tf.__version__)"
      ]
    },
    {
      "cell_type": "code",
      "source": [
        "from google.colab import drive\n",
        "drive.mount('/content/drive')"
      ],
      "metadata": {
        "colab": {
          "base_uri": "https://localhost:8080/"
        },
        "id": "WIR7gJGz5Nqy",
        "outputId": "b411bf89-233d-4230-fd06-679bc08ed586",
        "pycharm": {
          "name": "#%%\n"
        }
      },
      "execution_count": null,
      "outputs": [
        {
          "output_type": "stream",
          "name": "stdout",
          "text": [
            "Drive already mounted at /content/drive; to attempt to forcibly remount, call drive.mount(\"/content/drive\", force_remount=True).\n"
          ]
        }
      ]
    },
    {
      "cell_type": "code",
      "source": [
        "# Random seed for reproducibility\n",
        "seed = 54721\n",
        "\n",
        "random.seed(seed)\n",
        "os.environ['PYTHONHASHSEED'] = str(seed)\n",
        "np.random.seed(seed)\n",
        "tf.random.set_seed(seed)\n",
        "tf.compat.v1.set_random_seed(seed)"
      ],
      "metadata": {
        "id": "M670wyKl3Lhw",
        "pycharm": {
          "name": "#%%\n"
        }
      },
      "execution_count": null,
      "outputs": []
    },
    {
      "cell_type": "code",
      "source": [
        "%cd /content/drive/MyDrive/ANN&DL\n",
        "dataset_dir = 'training_data_final'\n",
        "image_size = 96\n",
        "# image_size = 256 # add cropping = 16\n",
        "batch_size = 64"
      ],
      "metadata": {
        "colab": {
          "base_uri": "https://localhost:8080/"
        },
        "id": "YzAbBviu3YJW",
        "outputId": "3dc6a348-6f2d-4459-b272-2217e4a50b45",
        "pycharm": {
          "name": "#%%\n"
        }
      },
      "execution_count": null,
      "outputs": [
        {
          "output_type": "stream",
          "name": "stdout",
          "text": [
            "/content/drive/MyDrive/ANN&DL\n"
          ]
        }
      ]
    },
    {
      "cell_type": "code",
      "source": [
        "class_names = ['Species1', 'Species2', 'Species3', 'Species4', 'Species5', 'Species6', 'Species7', 'Species8']\n",
        "class_samples = [0] * len(class_names)"
      ],
      "metadata": {
        "id": "tjF8JhS_3n7p",
        "pycharm": {
          "name": "#%%\n"
        }
      },
      "execution_count": null,
      "outputs": []
    },
    {
      "cell_type": "code",
      "source": [
        "for i, class_name in enumerate(class_names):\n",
        "    class_dir = '{}/{}/'.format(dataset_dir, class_name)\n",
        "    class_samples[i] = len(os.listdir(class_dir))"
      ],
      "metadata": {
        "id": "05MKlhMs3tW4",
        "pycharm": {
          "name": "#%%\n"
        }
      },
      "execution_count": null,
      "outputs": []
    },
    {
      "cell_type": "code",
      "source": [
        "total_samples = sum(class_samples)\n",
        "class_weight = list(total_samples / (len(class_names) * np.array(class_samples)))\n",
        "class_weight = {i: class_weight[i] for i in range(len(class_weight))}"
      ],
      "metadata": {
        "id": "jmua8QXM3u_f",
        "pycharm": {
          "name": "#%%\n"
        }
      },
      "execution_count": null,
      "outputs": []
    },
    {
      "cell_type": "code",
      "source": [
        "print('Class weights: {}'.format(class_weight))"
      ],
      "metadata": {
        "colab": {
          "base_uri": "https://localhost:8080/"
        },
        "id": "G4Mrm-7531KI",
        "outputId": "2f7a68e8-af9c-4afc-8451-a7cfc1076f7d",
        "pycharm": {
          "name": "#%%\n"
        }
      },
      "execution_count": null,
      "outputs": [
        {
          "output_type": "stream",
          "name": "stdout",
          "text": [
            "Class weights: {0: 2.3803763440860215, 1: 0.8322368421052632, 2: 0.8597087378640776, 3: 0.8664383561643836, 4: 0.833804143126177, 5: 1.9943693693693694, 6: 0.824487895716946, 7: 0.8715551181102362}\n"
          ]
        }
      ]
    },
    {
      "cell_type": "code",
      "source": [
        "train_ds = tf.keras.utils.image_dataset_from_directory(\n",
        "    dataset_dir,\n",
        "    validation_split=0.2,\n",
        "    subset=\"training\",\n",
        "    shuffle=True,\n",
        "    seed=seed,\n",
        "    image_size=(image_size, image_size),\n",
        "    batch_size=batch_size)"
      ],
      "metadata": {
        "colab": {
          "base_uri": "https://localhost:8080/"
        },
        "id": "FH9S_dEY31pN",
        "outputId": "75fe1185-f3b5-42ce-caca-b32987d1a25b",
        "pycharm": {
          "name": "#%%\n"
        }
      },
      "execution_count": null,
      "outputs": [
        {
          "output_type": "stream",
          "name": "stdout",
          "text": [
            "Found 3542 files belonging to 8 classes.\n",
            "Using 2834 files for training.\n"
          ]
        }
      ]
    },
    {
      "cell_type": "code",
      "source": [
        "val_ds = tf.keras.utils.image_dataset_from_directory(\n",
        "    dataset_dir,\n",
        "    validation_split=0.2,\n",
        "    subset=\"validation\",\n",
        "    shuffle=True,\n",
        "    seed=seed,\n",
        "    image_size=(image_size, image_size),\n",
        "    batch_size=batch_size)"
      ],
      "metadata": {
        "colab": {
          "base_uri": "https://localhost:8080/"
        },
        "id": "y8s2sxjl36rv",
        "outputId": "39258d9b-8805-4505-896b-20fc4e672413",
        "pycharm": {
          "name": "#%%\n"
        }
      },
      "execution_count": null,
      "outputs": [
        {
          "output_type": "stream",
          "name": "stdout",
          "text": [
            "Found 3542 files belonging to 8 classes.\n",
            "Using 708 files for validation.\n"
          ]
        }
      ]
    },
    {
      "cell_type": "code",
      "source": [
        "val_batches = tf.data.experimental.cardinality(val_ds)\n",
        "test_ds = val_ds.take(val_batches // 5)\n",
        "validation_dataset = val_ds.skip(val_batches // 5)"
      ],
      "metadata": {
        "id": "FxPnyxYV3_XK",
        "pycharm": {
          "name": "#%%\n"
        }
      },
      "execution_count": null,
      "outputs": []
    },
    {
      "cell_type": "code",
      "source": [
        "class_names = train_ds.class_names\n",
        "num_classes = len(class_names)"
      ],
      "metadata": {
        "id": "xW0pHMXQ4GiZ",
        "pycharm": {
          "name": "#%%\n"
        }
      },
      "execution_count": null,
      "outputs": []
    },
    {
      "cell_type": "code",
      "source": [
        "# Add caching to dataset\n",
        "AUTOTUNE = tf.data.AUTOTUNE\n",
        "train_ds = train_ds.prefetch(buffer_size=AUTOTUNE)\n",
        "val_ds = validation_dataset.prefetch(buffer_size=AUTOTUNE)\n",
        "test_ds = test_ds.prefetch(buffer_size=AUTOTUNE)"
      ],
      "metadata": {
        "id": "-HPT0GSz4PKX",
        "pycharm": {
          "name": "#%%\n"
        }
      },
      "execution_count": null,
      "outputs": []
    },
    {
      "cell_type": "code",
      "source": [
        "# Use one-hot encoding for labels\n",
        "train_ds = train_ds.map(lambda x, y: (x, tf.one_hot(y, depth=num_classes)))\n",
        "val_ds = val_ds.map(lambda x, y: (x, tf.one_hot(y, depth=num_classes)))\n",
        "test_ds = test_ds.map(lambda x, y: (x, tf.one_hot(y, depth=num_classes)))"
      ],
      "metadata": {
        "id": "ONLJajm74R8w",
        "pycharm": {
          "name": "#%%\n"
        }
      },
      "execution_count": null,
      "outputs": []
    },
    {
      "cell_type": "code",
      "source": [
        "crop_dim = 3\n",
        "input_shape = (image_size, image_size, 3)\n",
        "input_shape_cropping = (image_size-crop_dim*2, image_size-crop_dim*2, 3)"
      ],
      "metadata": {
        "id": "QIj2Z8fw4UFm",
        "pycharm": {
          "name": "#%%\n"
        }
      },
      "execution_count": null,
      "outputs": []
    },
    {
      "cell_type": "code",
      "source": [
        "base_model = tf.keras.applications.EfficientNetB5(\n",
        "    include_top=False,\n",
        "    weights=\"imagenet\",\n",
        "    input_shape=input_shape\n",
        ")\n",
        "base_model.trainable = False"
      ],
      "metadata": {
        "id": "s9iSE-uS4Wcd",
        "pycharm": {
          "name": "#%%\n"
        }
      },
      "execution_count": null,
      "outputs": []
    },
    {
      "cell_type": "code",
      "source": [
        "model = tfk.Sequential([\n",
        "    tfk.layers.Input(shape=input_shape),\n",
        "    # Augmentation\n",
        "    tfk.layers.RandomFlip(\"horizontal_and_vertical\", input_shape=input_shape),\n",
        "    # tfk.layers.RandomRotation(0.5),\n",
        "    tfk.layers.RandomZoom(0.5),\n",
        "    tfk.layers.RandomTranslation(width_factor=0.5, height_factor=0.5),\n",
        "    tfk.layers.Cropping2D(cropping=((crop_dim, crop_dim), (crop_dim, crop_dim)), input_shape=input_shape),\n",
        "\n",
        "    tf.keras.layers.Resizing(height=image_size, width=image_size, interpolation='bilinear', crop_to_aspect_ratio=False),\n",
        "    \n",
        "    # Preprocess for base model\n",
        "    tfk.layers.Lambda(tf.keras.applications.efficientnet.preprocess_input),\n",
        "    # Transfer learning\n",
        "    base_model,\n",
        "    # Global avg\n",
        "    # tfk.layers.Flatten(),\n",
        "\n",
        "    tfk.layers.GlobalAveragePooling2D(),\n",
        "\n",
        "    # Classification\n",
        "    # tfk.layers.Dense(512, activation='relu', kernel_initializer='he_uniform'),\n",
        "    tfk.layers.Dense(192, activation='relu', kernel_initializer='he_uniform'),\n",
        "    tfk.layers.Dense(48, activation='relu', kernel_initializer='he_uniform'),\n",
        "    # Dropout\n",
        "    tfk.layers.Dropout(0.3),\n",
        "    # Output\n",
        "    tfk.layers.Dense(num_classes, activation='softmax')\n",
        "])"
      ],
      "metadata": {
        "id": "xoU0x0up4bR4",
        "pycharm": {
          "name": "#%%\n"
        }
      },
      "execution_count": null,
      "outputs": []
    },
    {
      "cell_type": "code",
      "source": [
        "model.compile(optimizer=tfk.optimizers.Adagrad(learning_rate=0.01, initial_accumulator_value=0.1),\n",
        "              loss=tf.keras.losses.CategoricalCrossentropy(),\n",
        "              metrics=['accuracy'])"
      ],
      "metadata": {
        "id": "F3tWPleN4kC6",
        "pycharm": {
          "name": "#%%\n"
        }
      },
      "execution_count": null,
      "outputs": []
    },
    {
      "cell_type": "code",
      "source": [
        "model.summary()"
      ],
      "metadata": {
        "colab": {
          "base_uri": "https://localhost:8080/"
        },
        "id": "xCAanBCB4nKE",
        "outputId": "8e42d08b-9e61-44f9-f518-c4e883d63bee",
        "pycharm": {
          "name": "#%%\n"
        }
      },
      "execution_count": null,
      "outputs": [
        {
          "output_type": "stream",
          "name": "stdout",
          "text": [
            "Model: \"sequential_1\"\n",
            "_________________________________________________________________\n",
            " Layer (type)                Output Shape              Param #   \n",
            "=================================================================\n",
            " random_flip_1 (RandomFlip)  (None, 96, 96, 3)         0         \n",
            "                                                                 \n",
            " random_zoom_1 (RandomZoom)  (None, 96, 96, 3)         0         \n",
            "                                                                 \n",
            " random_translation_1 (Rando  (None, 96, 96, 3)        0         \n",
            " mTranslation)                                                   \n",
            "                                                                 \n",
            " cropping2d_1 (Cropping2D)   (None, 90, 90, 3)         0         \n",
            "                                                                 \n",
            " resizing_1 (Resizing)       (None, 96, 96, 3)         0         \n",
            "                                                                 \n",
            " lambda_1 (Lambda)           (None, 96, 96, 3)         0         \n",
            "                                                                 \n",
            " efficientnetb5 (Functional)  (None, 3, 3, 2048)       28513527  \n",
            "                                                                 \n",
            " global_average_pooling2d_1   (None, 2048)             0         \n",
            " (GlobalAveragePooling2D)                                        \n",
            "                                                                 \n",
            " dense_3 (Dense)             (None, 192)               393408    \n",
            "                                                                 \n",
            " dense_4 (Dense)             (None, 48)                9264      \n",
            "                                                                 \n",
            " dropout_1 (Dropout)         (None, 48)                0         \n",
            "                                                                 \n",
            " dense_5 (Dense)             (None, 8)                 392       \n",
            "                                                                 \n",
            "=================================================================\n",
            "Total params: 28,916,591\n",
            "Trainable params: 403,064\n",
            "Non-trainable params: 28,513,527\n",
            "_________________________________________________________________\n"
          ]
        }
      ]
    },
    {
      "cell_type": "code",
      "source": [
        "epochs = 200"
      ],
      "metadata": {
        "id": "-tjsykR04pAZ",
        "pycharm": {
          "name": "#%%\n"
        }
      },
      "execution_count": null,
      "outputs": []
    },
    {
      "cell_type": "code",
      "source": [
        "history = model.fit(\n",
        "    train_ds,\n",
        "    validation_data=val_ds,\n",
        "    epochs=epochs,\n",
        "    class_weight=class_weight,\n",
        "    callbacks=[tfk.callbacks.EarlyStopping(monitor='val_accuracy', mode='max', patience=10, restore_best_weights=True)]\n",
        "    ).history"
      ],
      "metadata": {
        "colab": {
          "base_uri": "https://localhost:8080/"
        },
        "id": "jb54axct4svz",
        "outputId": "6418ea8b-a5c8-4d95-cd65-b4777ef25d5b",
        "pycharm": {
          "name": "#%%\n"
        }
      },
      "execution_count": null,
      "outputs": [
        {
          "output_type": "stream",
          "name": "stdout",
          "text": [
            "Epoch 1/200\n",
            "45/45 [==============================] - 31s 242ms/step - loss: 2.0300 - accuracy: 0.1736 - val_loss: 2.0048 - val_accuracy: 0.1621\n",
            "Epoch 2/200\n",
            "45/45 [==============================] - 8s 169ms/step - loss: 1.9827 - accuracy: 0.1969 - val_loss: 1.8962 - val_accuracy: 0.2707\n",
            "Epoch 3/200\n",
            "45/45 [==============================] - 7s 145ms/step - loss: 1.9414 - accuracy: 0.2177 - val_loss: 1.8213 - val_accuracy: 0.2724\n",
            "Epoch 4/200\n",
            "45/45 [==============================] - 7s 145ms/step - loss: 1.9075 - accuracy: 0.2456 - val_loss: 1.7107 - val_accuracy: 0.3431\n",
            "Epoch 5/200\n",
            "45/45 [==============================] - 7s 140ms/step - loss: 1.8697 - accuracy: 0.2646 - val_loss: 1.7453 - val_accuracy: 0.3138\n",
            "Epoch 6/200\n",
            "45/45 [==============================] - 7s 139ms/step - loss: 1.8277 - accuracy: 0.2692 - val_loss: 1.6546 - val_accuracy: 0.3224\n",
            "Epoch 7/200\n",
            "45/45 [==============================] - 7s 148ms/step - loss: 1.8182 - accuracy: 0.2826 - val_loss: 1.6523 - val_accuracy: 0.3310\n",
            "Epoch 8/200\n",
            "45/45 [==============================] - 9s 193ms/step - loss: 1.8004 - accuracy: 0.2915 - val_loss: 1.5919 - val_accuracy: 0.3776\n",
            "Epoch 9/200\n",
            "45/45 [==============================] - 7s 143ms/step - loss: 1.7627 - accuracy: 0.3218 - val_loss: 1.5627 - val_accuracy: 0.3931\n",
            "Epoch 10/200\n",
            "45/45 [==============================] - 7s 144ms/step - loss: 1.7526 - accuracy: 0.3183 - val_loss: 1.5336 - val_accuracy: 0.3983\n",
            "Epoch 11/200\n",
            "45/45 [==============================] - 8s 168ms/step - loss: 1.7470 - accuracy: 0.3112 - val_loss: 1.4963 - val_accuracy: 0.4224\n",
            "Epoch 12/200\n",
            "45/45 [==============================] - 7s 146ms/step - loss: 1.7421 - accuracy: 0.3084 - val_loss: 1.4648 - val_accuracy: 0.4431\n",
            "Epoch 13/200\n",
            "45/45 [==============================] - 7s 145ms/step - loss: 1.6904 - accuracy: 0.3278 - val_loss: 1.4279 - val_accuracy: 0.4638\n",
            "Epoch 14/200\n",
            "45/45 [==============================] - 7s 140ms/step - loss: 1.7342 - accuracy: 0.3387 - val_loss: 1.4400 - val_accuracy: 0.4638\n",
            "Epoch 15/200\n",
            "45/45 [==============================] - 8s 162ms/step - loss: 1.7152 - accuracy: 0.3257 - val_loss: 1.4982 - val_accuracy: 0.4310\n",
            "Epoch 16/200\n",
            "45/45 [==============================] - 7s 139ms/step - loss: 1.6932 - accuracy: 0.3338 - val_loss: 1.5316 - val_accuracy: 0.4155\n",
            "Epoch 17/200\n",
            "45/45 [==============================] - 7s 138ms/step - loss: 1.6714 - accuracy: 0.3550 - val_loss: 1.4142 - val_accuracy: 0.4155\n",
            "Epoch 18/200\n",
            "45/45 [==============================] - 7s 139ms/step - loss: 1.6892 - accuracy: 0.3419 - val_loss: 1.4144 - val_accuracy: 0.4466\n",
            "Epoch 19/200\n",
            "45/45 [==============================] - 7s 137ms/step - loss: 1.6661 - accuracy: 0.3560 - val_loss: 1.4720 - val_accuracy: 0.4448\n",
            "Epoch 20/200\n",
            "45/45 [==============================] - 7s 144ms/step - loss: 1.6681 - accuracy: 0.3578 - val_loss: 1.3650 - val_accuracy: 0.5000\n",
            "Epoch 21/200\n",
            "45/45 [==============================] - 8s 164ms/step - loss: 1.6566 - accuracy: 0.3564 - val_loss: 1.3488 - val_accuracy: 0.4741\n",
            "Epoch 22/200\n",
            "45/45 [==============================] - 7s 139ms/step - loss: 1.6186 - accuracy: 0.3701 - val_loss: 1.4227 - val_accuracy: 0.4552\n",
            "Epoch 23/200\n",
            "45/45 [==============================] - 7s 138ms/step - loss: 1.6420 - accuracy: 0.3652 - val_loss: 1.4311 - val_accuracy: 0.4328\n",
            "Epoch 24/200\n",
            "45/45 [==============================] - 7s 139ms/step - loss: 1.6330 - accuracy: 0.3709 - val_loss: 1.3391 - val_accuracy: 0.4897\n",
            "Epoch 25/200\n",
            "45/45 [==============================] - 7s 139ms/step - loss: 1.6192 - accuracy: 0.3857 - val_loss: 1.3744 - val_accuracy: 0.4672\n",
            "Epoch 26/200\n",
            "45/45 [==============================] - 7s 145ms/step - loss: 1.6169 - accuracy: 0.3836 - val_loss: 1.3356 - val_accuracy: 0.5086\n",
            "Epoch 27/200\n",
            "45/45 [==============================] - 8s 171ms/step - loss: 1.6241 - accuracy: 0.3740 - val_loss: 1.3486 - val_accuracy: 0.4897\n",
            "Epoch 28/200\n",
            "45/45 [==============================] - 8s 162ms/step - loss: 1.6320 - accuracy: 0.3709 - val_loss: 1.3380 - val_accuracy: 0.4845\n",
            "Epoch 29/200\n",
            "45/45 [==============================] - 8s 162ms/step - loss: 1.6011 - accuracy: 0.3860 - val_loss: 1.4104 - val_accuracy: 0.4707\n",
            "Epoch 30/200\n",
            "45/45 [==============================] - 8s 162ms/step - loss: 1.5892 - accuracy: 0.3934 - val_loss: 1.2959 - val_accuracy: 0.5052\n",
            "Epoch 31/200\n",
            "45/45 [==============================] - 8s 168ms/step - loss: 1.5674 - accuracy: 0.4008 - val_loss: 1.2941 - val_accuracy: 0.5103\n",
            "Epoch 32/200\n",
            "45/45 [==============================] - 7s 137ms/step - loss: 1.6000 - accuracy: 0.3945 - val_loss: 1.2994 - val_accuracy: 0.4931\n",
            "Epoch 33/200\n",
            "45/45 [==============================] - 8s 162ms/step - loss: 1.5980 - accuracy: 0.3991 - val_loss: 1.3211 - val_accuracy: 0.4828\n",
            "Epoch 34/200\n",
            "45/45 [==============================] - 8s 163ms/step - loss: 1.5498 - accuracy: 0.4044 - val_loss: 1.2828 - val_accuracy: 0.5017\n",
            "Epoch 35/200\n",
            "45/45 [==============================] - 7s 139ms/step - loss: 1.5760 - accuracy: 0.3998 - val_loss: 1.2842 - val_accuracy: 0.4983\n",
            "Epoch 36/200\n",
            "45/45 [==============================] - 8s 169ms/step - loss: 1.5646 - accuracy: 0.3973 - val_loss: 1.2703 - val_accuracy: 0.5310\n",
            "Epoch 37/200\n",
            "45/45 [==============================] - 7s 143ms/step - loss: 1.5804 - accuracy: 0.3963 - val_loss: 1.2349 - val_accuracy: 0.5569\n",
            "Epoch 38/200\n",
            "45/45 [==============================] - 7s 137ms/step - loss: 1.5875 - accuracy: 0.3977 - val_loss: 1.2574 - val_accuracy: 0.5414\n",
            "Epoch 39/200\n",
            "45/45 [==============================] - 7s 138ms/step - loss: 1.5750 - accuracy: 0.3892 - val_loss: 1.2967 - val_accuracy: 0.5017\n",
            "Epoch 40/200\n",
            "45/45 [==============================] - 8s 162ms/step - loss: 1.5377 - accuracy: 0.4139 - val_loss: 1.3810 - val_accuracy: 0.4966\n",
            "Epoch 41/200\n",
            "45/45 [==============================] - 8s 162ms/step - loss: 1.5545 - accuracy: 0.4160 - val_loss: 1.3003 - val_accuracy: 0.5379\n",
            "Epoch 42/200\n",
            "45/45 [==============================] - 8s 162ms/step - loss: 1.5368 - accuracy: 0.4231 - val_loss: 1.3368 - val_accuracy: 0.5155\n",
            "Epoch 43/200\n",
            "45/45 [==============================] - 8s 168ms/step - loss: 1.5674 - accuracy: 0.4023 - val_loss: 1.2323 - val_accuracy: 0.5638\n",
            "Epoch 44/200\n",
            "45/45 [==============================] - 8s 163ms/step - loss: 1.5178 - accuracy: 0.4273 - val_loss: 1.2860 - val_accuracy: 0.5155\n",
            "Epoch 45/200\n",
            "45/45 [==============================] - 8s 157ms/step - loss: 1.5614 - accuracy: 0.4132 - val_loss: 1.2674 - val_accuracy: 0.5707\n",
            "Epoch 46/200\n",
            "45/45 [==============================] - 7s 141ms/step - loss: 1.5242 - accuracy: 0.4164 - val_loss: 1.2605 - val_accuracy: 0.5017\n",
            "Epoch 47/200\n",
            "45/45 [==============================] - 8s 164ms/step - loss: 1.5102 - accuracy: 0.4277 - val_loss: 1.2149 - val_accuracy: 0.5603\n",
            "Epoch 48/200\n",
            "45/45 [==============================] - 7s 147ms/step - loss: 1.5364 - accuracy: 0.4298 - val_loss: 1.2018 - val_accuracy: 0.5724\n",
            "Epoch 49/200\n",
            "45/45 [==============================] - 7s 141ms/step - loss: 1.5300 - accuracy: 0.4097 - val_loss: 1.2311 - val_accuracy: 0.5655\n",
            "Epoch 50/200\n",
            "45/45 [==============================] - 7s 141ms/step - loss: 1.5192 - accuracy: 0.4351 - val_loss: 1.2109 - val_accuracy: 0.5655\n",
            "Epoch 51/200\n",
            "45/45 [==============================] - 7s 147ms/step - loss: 1.5415 - accuracy: 0.4185 - val_loss: 1.2181 - val_accuracy: 0.5879\n",
            "Epoch 52/200\n",
            "45/45 [==============================] - 7s 142ms/step - loss: 1.5145 - accuracy: 0.4213 - val_loss: 1.2335 - val_accuracy: 0.5431\n",
            "Epoch 53/200\n",
            "45/45 [==============================] - 7s 140ms/step - loss: 1.5116 - accuracy: 0.4128 - val_loss: 1.2231 - val_accuracy: 0.5586\n",
            "Epoch 54/200\n",
            "45/45 [==============================] - 7s 140ms/step - loss: 1.5294 - accuracy: 0.4227 - val_loss: 1.2160 - val_accuracy: 0.5345\n",
            "Epoch 55/200\n",
            "45/45 [==============================] - 7s 139ms/step - loss: 1.5206 - accuracy: 0.4312 - val_loss: 1.2506 - val_accuracy: 0.5345\n",
            "Epoch 56/200\n",
            "45/45 [==============================] - 7s 140ms/step - loss: 1.5230 - accuracy: 0.4280 - val_loss: 1.1981 - val_accuracy: 0.5500\n",
            "Epoch 57/200\n",
            "45/45 [==============================] - 7s 139ms/step - loss: 1.5105 - accuracy: 0.4315 - val_loss: 1.2187 - val_accuracy: 0.5379\n",
            "Epoch 58/200\n",
            "45/45 [==============================] - 7s 138ms/step - loss: 1.5086 - accuracy: 0.4351 - val_loss: 1.1927 - val_accuracy: 0.5724\n",
            "Epoch 59/200\n",
            "45/45 [==============================] - 8s 163ms/step - loss: 1.4897 - accuracy: 0.4368 - val_loss: 1.1900 - val_accuracy: 0.5828\n",
            "Epoch 60/200\n",
            "45/45 [==============================] - 8s 162ms/step - loss: 1.5001 - accuracy: 0.4354 - val_loss: 1.1898 - val_accuracy: 0.5759\n",
            "Epoch 61/200\n",
            "45/45 [==============================] - 7s 143ms/step - loss: 1.5012 - accuracy: 0.4206 - val_loss: 1.2186 - val_accuracy: 0.5138\n"
          ]
        }
      ]
    },
    {
      "cell_type": "code",
      "source": [
        "import matplotlib.pyplot as plt\n",
        "\n",
        "# plot the trend of the MSE of the training set (always decreasing of course) and of the validation set\n",
        "plt.figure(figsize=(15,5))\n",
        "plt.plot(history['accuracy'], label='Training', alpha=.8, color='#ff7f0e')\n",
        "plt.plot(history['val_accuracy'], label='Validation', alpha=.8, color='#4D61E2')\n",
        "plt.ylim(0, 1)\n",
        "plt.title('Accuracy')\n",
        "plt.legend(loc='upper right')\n",
        "plt.grid(alpha=.3)\n",
        "plt.show()"
      ],
      "metadata": {
        "id": "MxuCBftc74dm",
        "colab": {
          "base_uri": "https://localhost:8080/",
          "height": 336
        },
        "outputId": "0b23f4f4-3bbc-4694-cbaf-d1ec2ec75b97"
      },
      "execution_count": null,
      "outputs": [
        {
          "output_type": "display_data",
          "data": {
            "text/plain": [
              "<Figure size 1080x360 with 1 Axes>"
            ],
            "image/png": "[encoded data removed]"
          },
          "metadata": {
            "needs_background": "light"
          }
        }
      ]
    },
    {
      "cell_type": "code",
      "source": [
        "loss, acc = model.evaluate(test_ds)\n",
        "print(\"Accuracy\", acc)\n",
        "print(\"Loss\", loss)"
      ],
      "metadata": {
        "id": "BTRc0Iw04uVa",
        "pycharm": {
          "name": "#%%\n"
        },
        "colab": {
          "base_uri": "https://localhost:8080/"
        },
        "outputId": "45e31f88-ad25-4932-97ca-c093ebc49551"
      },
      "execution_count": null,
      "outputs": [
        {
          "output_type": "stream",
          "name": "stdout",
          "text": [
            "2/2 [==============================] - 1s 100ms/step - loss: 1.3238 - accuracy: 0.5781\n",
            "Accuracy 0.578125\n",
            "Loss 1.3238331079483032\n"
          ]
        }
      ]
    },
    {
      "cell_type": "code",
      "source": [
        "# Save best epoch model\n",
        "# model.save(\"notebook35_1\")"
      ],
      "metadata": {
        "id": "AdYt577IJfLm",
        "pycharm": {
          "name": "#%%\n"
        }
      },
      "execution_count": null,
      "outputs": []
    },
    {
      "cell_type": "code",
      "source": [
        "base_model.trainable = True\n",
        "\n",
        "model.compile(# optimizer=tfk.optimizers.Adagrad(learning_rate=0.01, initial_accumulator_value=0.1),\n",
        "              optimizer=tfk.optimizers.Adam(learning_rate=0.0001),\n",
        "              loss=tf.keras.losses.CategoricalCrossentropy(),\n",
        "              metrics=['accuracy'])\n",
        "\n",
        "model.summary()"
      ],
      "metadata": {
        "colab": {
          "base_uri": "https://localhost:8080/"
        },
        "id": "1v6nC5XMEgAj",
        "outputId": "7cde83d8-e855-4daf-a9ee-1a47de7ad09a"
      },
      "execution_count": null,
      "outputs": [
        {
          "output_type": "stream",
          "name": "stdout",
          "text": [
            "Model: \"sequential_1\"\n",
            "_________________________________________________________________\n",
            " Layer (type)                Output Shape              Param #   \n",
            "=================================================================\n",
            " random_flip_1 (RandomFlip)  (None, 96, 96, 3)         0         \n",
            "                                                                 \n",
            " random_zoom_1 (RandomZoom)  (None, 96, 96, 3)         0         \n",
            "                                                                 \n",
            " random_translation_1 (Rando  (None, 96, 96, 3)        0         \n",
            " mTranslation)                                                   \n",
            "                                                                 \n",
            " cropping2d_1 (Cropping2D)   (None, 90, 90, 3)         0         \n",
            "                                                                 \n",
            " resizing_1 (Resizing)       (None, 96, 96, 3)         0         \n",
            "                                                                 \n",
            " lambda_1 (Lambda)           (None, 96, 96, 3)         0         \n",
            "                                                                 \n",
            " efficientnetb5 (Functional)  (None, 3, 3, 2048)       28513527  \n",
            "                                                                 \n",
            " global_average_pooling2d_1   (None, 2048)             0         \n",
            " (GlobalAveragePooling2D)                                        \n",
            "                                                                 \n",
            " dense_3 (Dense)             (None, 192)               393408    \n",
            "                                                                 \n",
            " dense_4 (Dense)             (None, 48)                9264      \n",
            "                                                                 \n",
            " dropout_1 (Dropout)         (None, 48)                0         \n",
            "                                                                 \n",
            " dense_5 (Dense)             (None, 8)                 392       \n",
            "                                                                 \n",
            "=================================================================\n",
            "Total params: 28,916,591\n",
            "Trainable params: 28,743,848\n",
            "Non-trainable params: 172,743\n",
            "_________________________________________________________________\n"
          ]
        }
      ]
    },
    {
      "cell_type": "code",
      "source": [
        "history = model.fit(\n",
        "    train_ds,\n",
        "    validation_data=val_ds,\n",
        "    epochs=epochs,\n",
        "    class_weight=class_weight,\n",
        "    callbacks=[tfk.callbacks.EarlyStopping(monitor='val_accuracy', mode='max', patience=10, restore_best_weights=True)]\n",
        "    ).history"
      ],
      "metadata": {
        "id": "o_MndTJRE1C9"
      },
      "execution_count": null,
      "outputs": []
    },
    {
      "cell_type": "code",
      "source": [
        "import matplotlib.pyplot as plt\n",
        "\n",
        "# plot the trend of the MSE of the training set (always decreasing of course) and of the validation set\n",
        "plt.figure(figsize=(15,5))\n",
        "plt.plot(history['accuracy'], label='Training', alpha=.8, color='#ff7f0e')\n",
        "plt.plot(history['val_accuracy'], label='Validation', alpha=.8, color='#4D61E2')\n",
        "plt.ylim(0, 1)\n",
        "plt.title('Accuracy')\n",
        "plt.legend(loc='upper right')\n",
        "plt.grid(alpha=.3)\n",
        "plt.show()"
      ],
      "metadata": {
        "id": "ppU8lO2LE3IT"
      },
      "execution_count": null,
      "outputs": []
    },
    {
      "cell_type": "code",
      "source": [
        "loss, acc = model.evaluate(test_ds)\n",
        "print(\"Accuracy\", acc)\n",
        "print(\"Loss\", loss)"
      ],
      "metadata": {
        "colab": {
          "base_uri": "https://localhost:8080/"
        },
        "id": "Z_GLTdGIE4_W",
        "outputId": "e2c42652-55c8-4843-f8a5-b0dccb379699"
      },
      "execution_count": null,
      "outputs": [
        {
          "output_type": "stream",
          "name": "stdout",
          "text": [
            "2/2 [==============================] - 1s 115ms/step - loss: 0.5292 - accuracy: 0.8828\n",
            "Accuracy 0.8828125\n",
            "Loss 0.5291593670845032\n"
          ]
        }
      ]
    },
    {
      "cell_type": "code",
      "source": [
        "# Save best epoch model\n",
        "model.save(\"B5\")"
      ],
      "metadata": {
        "id": "ztqkfxcmE6xY"
      },
      "execution_count": null,
      "outputs": []
    },
    {
      "cell_type": "code",
      "source": [],
      "metadata": {
        "id": "n1JcrJGeE-jR"
      },
      "execution_count": null,
      "outputs": []
    }
  ]
}